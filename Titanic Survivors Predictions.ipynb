{
 "cells": [
  {
   "cell_type": "markdown",
   "metadata": {},
   "source": [
    "# Titanic: Machine Learning from Disaster "
   ]
  },
  {
   "cell_type": "code",
   "execution_count": 105,
   "metadata": {},
   "outputs": [],
   "source": [
    "# import some libraries to be used in this code \n",
    "\n",
    "import pandas as pd\n",
    "import numpy as np\n",
    "import matplotlib.pyplot as plt\n",
    "import seaborn as sns\n",
    "\n",
    "from sklearn.preprocessing import StandardScaler\n",
    "from sklearn.model_selection import train_test_split, cross_val_score, KFold\n",
    "from sklearn.metrics import r2_score\n",
    "from sklearn.tree import DecisionTreeRegressor \n",
    "from sklearn.linear_model import LinearRegression\n",
    "from sklearn.neighbors import KNeighborsClassifier\n",
    "\n",
    "from scipy.stats import boxcox\n",
    "from sklearn.model_selection import StratifiedKFold"
   ]
  },
  {
   "cell_type": "code",
   "execution_count": 106,
   "metadata": {},
   "outputs": [
    {
     "data": {
      "text/html": [
       "<div>\n",
       "<style scoped>\n",
       "    .dataframe tbody tr th:only-of-type {\n",
       "        vertical-align: middle;\n",
       "    }\n",
       "\n",
       "    .dataframe tbody tr th {\n",
       "        vertical-align: top;\n",
       "    }\n",
       "\n",
       "    .dataframe thead th {\n",
       "        text-align: right;\n",
       "    }\n",
       "</style>\n",
       "<table border=\"1\" class=\"dataframe\">\n",
       "  <thead>\n",
       "    <tr style=\"text-align: right;\">\n",
       "      <th></th>\n",
       "      <th>PassengerId</th>\n",
       "      <th>Survived</th>\n",
       "      <th>Pclass</th>\n",
       "      <th>Name</th>\n",
       "      <th>Sex</th>\n",
       "      <th>Age</th>\n",
       "      <th>SibSp</th>\n",
       "      <th>Parch</th>\n",
       "      <th>Ticket</th>\n",
       "      <th>Fare</th>\n",
       "      <th>Cabin</th>\n",
       "      <th>Embarked</th>\n",
       "    </tr>\n",
       "  </thead>\n",
       "  <tbody>\n",
       "    <tr>\n",
       "      <th>0</th>\n",
       "      <td>1</td>\n",
       "      <td>0</td>\n",
       "      <td>3</td>\n",
       "      <td>Braund, Mr. Owen Harris</td>\n",
       "      <td>male</td>\n",
       "      <td>22.0</td>\n",
       "      <td>1</td>\n",
       "      <td>0</td>\n",
       "      <td>A/5 21171</td>\n",
       "      <td>7.2500</td>\n",
       "      <td>NaN</td>\n",
       "      <td>S</td>\n",
       "    </tr>\n",
       "    <tr>\n",
       "      <th>1</th>\n",
       "      <td>2</td>\n",
       "      <td>1</td>\n",
       "      <td>1</td>\n",
       "      <td>Cumings, Mrs. John Bradley (Florence Briggs Th...</td>\n",
       "      <td>female</td>\n",
       "      <td>38.0</td>\n",
       "      <td>1</td>\n",
       "      <td>0</td>\n",
       "      <td>PC 17599</td>\n",
       "      <td>71.2833</td>\n",
       "      <td>C85</td>\n",
       "      <td>C</td>\n",
       "    </tr>\n",
       "    <tr>\n",
       "      <th>2</th>\n",
       "      <td>3</td>\n",
       "      <td>1</td>\n",
       "      <td>3</td>\n",
       "      <td>Heikkinen, Miss. Laina</td>\n",
       "      <td>female</td>\n",
       "      <td>26.0</td>\n",
       "      <td>0</td>\n",
       "      <td>0</td>\n",
       "      <td>STON/O2. 3101282</td>\n",
       "      <td>7.9250</td>\n",
       "      <td>NaN</td>\n",
       "      <td>S</td>\n",
       "    </tr>\n",
       "    <tr>\n",
       "      <th>3</th>\n",
       "      <td>4</td>\n",
       "      <td>1</td>\n",
       "      <td>1</td>\n",
       "      <td>Futrelle, Mrs. Jacques Heath (Lily May Peel)</td>\n",
       "      <td>female</td>\n",
       "      <td>35.0</td>\n",
       "      <td>1</td>\n",
       "      <td>0</td>\n",
       "      <td>113803</td>\n",
       "      <td>53.1000</td>\n",
       "      <td>C123</td>\n",
       "      <td>S</td>\n",
       "    </tr>\n",
       "    <tr>\n",
       "      <th>4</th>\n",
       "      <td>5</td>\n",
       "      <td>0</td>\n",
       "      <td>3</td>\n",
       "      <td>Allen, Mr. William Henry</td>\n",
       "      <td>male</td>\n",
       "      <td>35.0</td>\n",
       "      <td>0</td>\n",
       "      <td>0</td>\n",
       "      <td>373450</td>\n",
       "      <td>8.0500</td>\n",
       "      <td>NaN</td>\n",
       "      <td>S</td>\n",
       "    </tr>\n",
       "  </tbody>\n",
       "</table>\n",
       "</div>"
      ],
      "text/plain": [
       "   PassengerId  Survived  Pclass  \\\n",
       "0            1         0       3   \n",
       "1            2         1       1   \n",
       "2            3         1       3   \n",
       "3            4         1       1   \n",
       "4            5         0       3   \n",
       "\n",
       "                                                Name     Sex   Age  SibSp  \\\n",
       "0                            Braund, Mr. Owen Harris    male  22.0      1   \n",
       "1  Cumings, Mrs. John Bradley (Florence Briggs Th...  female  38.0      1   \n",
       "2                             Heikkinen, Miss. Laina  female  26.0      0   \n",
       "3       Futrelle, Mrs. Jacques Heath (Lily May Peel)  female  35.0      1   \n",
       "4                           Allen, Mr. William Henry    male  35.0      0   \n",
       "\n",
       "   Parch            Ticket     Fare Cabin Embarked  \n",
       "0      0         A/5 21171   7.2500   NaN        S  \n",
       "1      0          PC 17599  71.2833   C85        C  \n",
       "2      0  STON/O2. 3101282   7.9250   NaN        S  \n",
       "3      0            113803  53.1000  C123        S  \n",
       "4      0            373450   8.0500   NaN        S  "
      ]
     },
     "execution_count": 106,
     "metadata": {},
     "output_type": "execute_result"
    }
   ],
   "source": [
    "# load training data\n",
    "train =  pd.read_csv('train.csv')\n",
    "train.head(5)"
   ]
  },
  {
   "cell_type": "code",
   "execution_count": 107,
   "metadata": {},
   "outputs": [
    {
     "data": {
      "text/html": [
       "<div>\n",
       "<style scoped>\n",
       "    .dataframe tbody tr th:only-of-type {\n",
       "        vertical-align: middle;\n",
       "    }\n",
       "\n",
       "    .dataframe tbody tr th {\n",
       "        vertical-align: top;\n",
       "    }\n",
       "\n",
       "    .dataframe thead th {\n",
       "        text-align: right;\n",
       "    }\n",
       "</style>\n",
       "<table border=\"1\" class=\"dataframe\">\n",
       "  <thead>\n",
       "    <tr style=\"text-align: right;\">\n",
       "      <th></th>\n",
       "      <th>PassengerId</th>\n",
       "      <th>Pclass</th>\n",
       "      <th>Name</th>\n",
       "      <th>Sex</th>\n",
       "      <th>Age</th>\n",
       "      <th>SibSp</th>\n",
       "      <th>Parch</th>\n",
       "      <th>Ticket</th>\n",
       "      <th>Fare</th>\n",
       "      <th>Cabin</th>\n",
       "      <th>Embarked</th>\n",
       "    </tr>\n",
       "  </thead>\n",
       "  <tbody>\n",
       "    <tr>\n",
       "      <th>0</th>\n",
       "      <td>892</td>\n",
       "      <td>3</td>\n",
       "      <td>Kelly, Mr. James</td>\n",
       "      <td>male</td>\n",
       "      <td>34.5</td>\n",
       "      <td>0</td>\n",
       "      <td>0</td>\n",
       "      <td>330911</td>\n",
       "      <td>7.8292</td>\n",
       "      <td>NaN</td>\n",
       "      <td>Q</td>\n",
       "    </tr>\n",
       "    <tr>\n",
       "      <th>1</th>\n",
       "      <td>893</td>\n",
       "      <td>3</td>\n",
       "      <td>Wilkes, Mrs. James (Ellen Needs)</td>\n",
       "      <td>female</td>\n",
       "      <td>47.0</td>\n",
       "      <td>1</td>\n",
       "      <td>0</td>\n",
       "      <td>363272</td>\n",
       "      <td>7.0000</td>\n",
       "      <td>NaN</td>\n",
       "      <td>S</td>\n",
       "    </tr>\n",
       "    <tr>\n",
       "      <th>2</th>\n",
       "      <td>894</td>\n",
       "      <td>2</td>\n",
       "      <td>Myles, Mr. Thomas Francis</td>\n",
       "      <td>male</td>\n",
       "      <td>62.0</td>\n",
       "      <td>0</td>\n",
       "      <td>0</td>\n",
       "      <td>240276</td>\n",
       "      <td>9.6875</td>\n",
       "      <td>NaN</td>\n",
       "      <td>Q</td>\n",
       "    </tr>\n",
       "    <tr>\n",
       "      <th>3</th>\n",
       "      <td>895</td>\n",
       "      <td>3</td>\n",
       "      <td>Wirz, Mr. Albert</td>\n",
       "      <td>male</td>\n",
       "      <td>27.0</td>\n",
       "      <td>0</td>\n",
       "      <td>0</td>\n",
       "      <td>315154</td>\n",
       "      <td>8.6625</td>\n",
       "      <td>NaN</td>\n",
       "      <td>S</td>\n",
       "    </tr>\n",
       "    <tr>\n",
       "      <th>4</th>\n",
       "      <td>896</td>\n",
       "      <td>3</td>\n",
       "      <td>Hirvonen, Mrs. Alexander (Helga E Lindqvist)</td>\n",
       "      <td>female</td>\n",
       "      <td>22.0</td>\n",
       "      <td>1</td>\n",
       "      <td>1</td>\n",
       "      <td>3101298</td>\n",
       "      <td>12.2875</td>\n",
       "      <td>NaN</td>\n",
       "      <td>S</td>\n",
       "    </tr>\n",
       "  </tbody>\n",
       "</table>\n",
       "</div>"
      ],
      "text/plain": [
       "   PassengerId  Pclass                                          Name     Sex  \\\n",
       "0          892       3                              Kelly, Mr. James    male   \n",
       "1          893       3              Wilkes, Mrs. James (Ellen Needs)  female   \n",
       "2          894       2                     Myles, Mr. Thomas Francis    male   \n",
       "3          895       3                              Wirz, Mr. Albert    male   \n",
       "4          896       3  Hirvonen, Mrs. Alexander (Helga E Lindqvist)  female   \n",
       "\n",
       "    Age  SibSp  Parch   Ticket     Fare Cabin Embarked  \n",
       "0  34.5      0      0   330911   7.8292   NaN        Q  \n",
       "1  47.0      1      0   363272   7.0000   NaN        S  \n",
       "2  62.0      0      0   240276   9.6875   NaN        Q  \n",
       "3  27.0      0      0   315154   8.6625   NaN        S  \n",
       "4  22.0      1      1  3101298  12.2875   NaN        S  "
      ]
     },
     "execution_count": 107,
     "metadata": {},
     "output_type": "execute_result"
    }
   ],
   "source": [
    "# load test data\n",
    "test =  pd.read_csv('test.csv')\n",
    "test.head(5)"
   ]
  },
  {
   "cell_type": "markdown",
   "metadata": {},
   "source": [
    "### Variables in dataset:\n",
    "\n",
    "PassengerId: An unique index for passenger rows. It starts from 1 for first row and increments by 1 for every new rows.\n",
    "\n",
    "Survived: Shows if the passenger survived or not. 1 stands for survived and 0 stands for not survived.\n",
    "\n",
    "Pclass: Ticket class. 1 stands for First class ticket. 2 stands for Second class ticket. 3 stands for Third class ticket.\n",
    "\n",
    "Name: Passenger's name. Name also contain title. \"Mr\" for man. \"Mrs\" for woman. \"Miss\" for girl. \"Master\" for boy.\n",
    "\n",
    "Sex: Passenger's sex. It's either Male or Female.\n",
    "\n",
    "Age: Passenger's age. \"NaN\" values in this column indicates that the age of that particular passenger has not been recorded.\n",
    "\n",
    "SibSp: Number of siblings or spouses travelling with each passenger.\n",
    "\n",
    "Parch: Number of parents of children travelling with each passenger.\n",
    "\n",
    "Ticket: Ticket number.\n",
    "\n",
    "Fare: How much money the passenger has paid for the travel journey.\n",
    "\n",
    "Cabin: Cabin number of the passenger. \"NaN\" values in this column indicates that the cabin number of that particular passenger has not been recorded.\n",
    "\n",
    "Embarked: Port from where the particular passenger was embarked/boarded."
   ]
  },
  {
   "cell_type": "code",
   "execution_count": 108,
   "metadata": {},
   "outputs": [
    {
     "data": {
      "text/plain": [
       "(891, 12)"
      ]
     },
     "execution_count": 108,
     "metadata": {},
     "output_type": "execute_result"
    }
   ],
   "source": [
    "train.shape"
   ]
  },
  {
   "cell_type": "code",
   "execution_count": 109,
   "metadata": {},
   "outputs": [
    {
     "data": {
      "text/plain": [
       "(418, 11)"
      ]
     },
     "execution_count": 109,
     "metadata": {},
     "output_type": "execute_result"
    }
   ],
   "source": [
    "test.shape"
   ]
  },
  {
   "cell_type": "code",
   "execution_count": 110,
   "metadata": {},
   "outputs": [
    {
     "name": "stdout",
     "output_type": "stream",
     "text": [
      "<class 'pandas.core.frame.DataFrame'>\n",
      "RangeIndex: 891 entries, 0 to 890\n",
      "Data columns (total 12 columns):\n",
      "PassengerId    891 non-null int64\n",
      "Survived       891 non-null int64\n",
      "Pclass         891 non-null int64\n",
      "Name           891 non-null object\n",
      "Sex            891 non-null object\n",
      "Age            714 non-null float64\n",
      "SibSp          891 non-null int64\n",
      "Parch          891 non-null int64\n",
      "Ticket         891 non-null object\n",
      "Fare           891 non-null float64\n",
      "Cabin          204 non-null object\n",
      "Embarked       889 non-null object\n",
      "dtypes: float64(2), int64(5), object(5)\n",
      "memory usage: 83.6+ KB\n"
     ]
    }
   ],
   "source": [
    "train.info()"
   ]
  },
  {
   "cell_type": "code",
   "execution_count": 111,
   "metadata": {},
   "outputs": [
    {
     "name": "stdout",
     "output_type": "stream",
     "text": [
      "<class 'pandas.core.frame.DataFrame'>\n",
      "RangeIndex: 418 entries, 0 to 417\n",
      "Data columns (total 11 columns):\n",
      "PassengerId    418 non-null int64\n",
      "Pclass         418 non-null int64\n",
      "Name           418 non-null object\n",
      "Sex            418 non-null object\n",
      "Age            332 non-null float64\n",
      "SibSp          418 non-null int64\n",
      "Parch          418 non-null int64\n",
      "Ticket         418 non-null object\n",
      "Fare           417 non-null float64\n",
      "Cabin          91 non-null object\n",
      "Embarked       418 non-null object\n",
      "dtypes: float64(2), int64(4), object(5)\n",
      "memory usage: 36.0+ KB\n"
     ]
    }
   ],
   "source": [
    "test.info()"
   ]
  },
  {
   "cell_type": "code",
   "execution_count": 112,
   "metadata": {},
   "outputs": [
    {
     "data": {
      "text/plain": [
       "PassengerId      0\n",
       "Survived         0\n",
       "Pclass           0\n",
       "Name             0\n",
       "Sex              0\n",
       "Age            177\n",
       "SibSp            0\n",
       "Parch            0\n",
       "Ticket           0\n",
       "Fare             0\n",
       "Cabin          687\n",
       "Embarked         2\n",
       "dtype: int64"
      ]
     },
     "execution_count": 112,
     "metadata": {},
     "output_type": "execute_result"
    }
   ],
   "source": [
    "# check the null values in train dataset\n",
    "train.isnull().sum()"
   ]
  },
  {
   "cell_type": "code",
   "execution_count": 113,
   "metadata": {},
   "outputs": [
    {
     "data": {
      "text/plain": [
       "PassengerId      0\n",
       "Pclass           0\n",
       "Name             0\n",
       "Sex              0\n",
       "Age             86\n",
       "SibSp            0\n",
       "Parch            0\n",
       "Ticket           0\n",
       "Fare             1\n",
       "Cabin          327\n",
       "Embarked         0\n",
       "dtype: int64"
      ]
     },
     "execution_count": 113,
     "metadata": {},
     "output_type": "execute_result"
    }
   ],
   "source": [
    "# check the null values in test dataset\n",
    "test.isnull().sum()"
   ]
  },
  {
   "cell_type": "markdown",
   "metadata": {},
   "source": [
    "### Removing Outliers from data"
   ]
  },
  {
   "cell_type": "code",
   "execution_count": 114,
   "metadata": {},
   "outputs": [
    {
     "data": {
      "image/png": "[encoded data removed]",
      "text/plain": [
       "<Figure size 432x288 with 1 Axes>"
      ]
     },
     "metadata": {
      "needs_background": "light"
     },
     "output_type": "display_data"
    }
   ],
   "source": [
    "# Let's remove outliers from Age first, for that we will plot scatter plot \n",
    "fig,ax = plt.subplots()\n",
    "ax.scatter(x=train['Age'],y=train['Survived'])\n",
    "plt.ylabel('Survived',fontsize=13)\n",
    "plt.xlabel('Age',fontsize=13)\n",
    "plt.show()"
   ]
  },
  {
   "cell_type": "code",
   "execution_count": 115,
   "metadata": {},
   "outputs": [],
   "source": [
    "# remove outliers from Age \n",
    "train = train.drop(train[(train['Age']>79) & (train['Survived']>0.8) ].index)"
   ]
  },
  {
   "cell_type": "code",
   "execution_count": 116,
   "metadata": {},
   "outputs": [
    {
     "data": {
      "image/png": "[encoded data removed]",
      "text/plain": [
       "<Figure size 432x288 with 1 Axes>"
      ]
     },
     "metadata": {
      "needs_background": "light"
     },
     "output_type": "display_data"
    }
   ],
   "source": [
    "# Now let's remove outliers from Fare, again we will check through scatter plot for outliers\n",
    "fig,ax = plt.subplots()\n",
    "ax.scatter(x=train['Fare'], y=train['Survived'])\n",
    "plt.ylabel('Survived',fontsize=13)\n",
    "plt.xlabel('Fare',fontsize=13)\n",
    "plt.show()"
   ]
  },
  {
   "cell_type": "code",
   "execution_count": 117,
   "metadata": {},
   "outputs": [],
   "source": [
    "# drop outliers in fare\n",
    "train = train.drop(train[(train['Fare']>400)].index)"
   ]
  },
  {
   "cell_type": "code",
   "execution_count": 118,
   "metadata": {},
   "outputs": [],
   "source": [
    "# let's concatenate both train and test data in one dataframe\n",
    "target = train['Survived']\n",
    "whole_df = pd.concat([train,test],keys=[0,1],sort=False)"
   ]
  },
  {
   "cell_type": "markdown",
   "metadata": {},
   "source": [
    "### Working with Missing Values"
   ]
  },
  {
   "cell_type": "code",
   "execution_count": 119,
   "metadata": {},
   "outputs": [
    {
     "data": {
      "text/plain": [
       "Text(0.5,1,'Dataset')"
      ]
     },
     "execution_count": 119,
     "metadata": {},
     "output_type": "execute_result"
    },
    {
     "data": {
      "image/png": "[encoded data removed]",
      "text/plain": [
       "<Figure size 1728x576 with 1 Axes>"
      ]
     },
     "metadata": {
      "needs_background": "light"
     },
     "output_type": "display_data"
    }
   ],
   "source": [
    "# let's draw heatmap to get idea about missing values in each column \n",
    "fig,ax = plt.subplots(nrows=1,ncols=1,figsize=(24,8))\n",
    "sns.heatmap(whole_df.isnull(),yticklabels=False,ax=ax,cbar=False,cmap='copper')\n",
    "ax.set_title('Dataset')"
   ]
  },
  {
   "cell_type": "code",
   "execution_count": 120,
   "metadata": {},
   "outputs": [],
   "source": [
    "# now we will explore features and then later fill the missing data "
   ]
  },
  {
   "cell_type": "code",
   "execution_count": 121,
   "metadata": {},
   "outputs": [
    {
     "name": "stderr",
     "output_type": "stream",
     "text": [
      "C:\\Users\\Sindhu\\Anaconda3\\lib\\site-packages\\scipy\\stats\\stats.py:1713: FutureWarning: Using a non-tuple sequence for multidimensional indexing is deprecated; use `arr[tuple(seq)]` instead of `arr[seq]`. In the future this will be interpreted as an array index, `arr[np.array(seq)]`, which will result either in an error or a different result.\n",
      "  return np.add.reduce(sorted[indexer] * weights, axis=axis) / sumval\n"
     ]
    },
    {
     "data": {
      "text/plain": [
       "<matplotlib.axes._subplots.AxesSubplot at 0x6dfae444e0>"
      ]
     },
     "execution_count": 121,
     "metadata": {},
     "output_type": "execute_result"
    },
    {
     "data": {
      "image/png": "[encoded data removed]",
      "text/plain": [
       "<Figure size 432x288 with 1 Axes>"
      ]
     },
     "metadata": {
      "needs_background": "light"
     },
     "output_type": "display_data"
    }
   ],
   "source": [
    "# plot barplot between Pclass & Survived\n",
    "sns.barplot(x='Pclass',y='Survived',data=whole_df)"
   ]
  },
  {
   "cell_type": "markdown",
   "metadata": {},
   "source": [
    "The above plot shows that there is a negative correlation between the label and Pclass"
   ]
  },
  {
   "cell_type": "code",
   "execution_count": 122,
   "metadata": {},
   "outputs": [
    {
     "data": {
      "text/html": [
       "<div>\n",
       "<style scoped>\n",
       "    .dataframe tbody tr th:only-of-type {\n",
       "        vertical-align: middle;\n",
       "    }\n",
       "\n",
       "    .dataframe tbody tr th {\n",
       "        vertical-align: top;\n",
       "    }\n",
       "\n",
       "    .dataframe thead th {\n",
       "        text-align: right;\n",
       "    }\n",
       "</style>\n",
       "<table border=\"1\" class=\"dataframe\">\n",
       "  <thead>\n",
       "    <tr style=\"text-align: right;\">\n",
       "      <th></th>\n",
       "      <th>Pclass</th>\n",
       "      <th>Survived</th>\n",
       "    </tr>\n",
       "  </thead>\n",
       "  <tbody>\n",
       "    <tr>\n",
       "      <th>Pclass</th>\n",
       "      <td>1.000000</td>\n",
       "      <td>-0.332577</td>\n",
       "    </tr>\n",
       "    <tr>\n",
       "      <th>Survived</th>\n",
       "      <td>-0.332577</td>\n",
       "      <td>1.000000</td>\n",
       "    </tr>\n",
       "  </tbody>\n",
       "</table>\n",
       "</div>"
      ],
      "text/plain": [
       "            Pclass  Survived\n",
       "Pclass    1.000000 -0.332577\n",
       "Survived -0.332577  1.000000"
      ]
     },
     "execution_count": 122,
     "metadata": {},
     "output_type": "execute_result"
    }
   ],
   "source": [
    "whole_df[['Pclass','Survived']].corr()"
   ]
  },
  {
   "cell_type": "code",
   "execution_count": 123,
   "metadata": {},
   "outputs": [
    {
     "name": "stderr",
     "output_type": "stream",
     "text": [
      "C:\\Users\\Sindhu\\Anaconda3\\lib\\site-packages\\scipy\\stats\\stats.py:1713: FutureWarning: Using a non-tuple sequence for multidimensional indexing is deprecated; use `arr[tuple(seq)]` instead of `arr[seq]`. In the future this will be interpreted as an array index, `arr[np.array(seq)]`, which will result either in an error or a different result.\n",
      "  return np.add.reduce(sorted[indexer] * weights, axis=axis) / sumval\n"
     ]
    },
    {
     "data": {
      "text/plain": [
       "<matplotlib.axes._subplots.AxesSubplot at 0x6dfaeaf668>"
      ]
     },
     "execution_count": 123,
     "metadata": {},
     "output_type": "execute_result"
    },
    {
     "data": {
      "image/png": "[encoded data removed]",
      "text/plain": [
       "<Figure size 432x288 with 1 Axes>"
      ]
     },
     "metadata": {
      "needs_background": "light"
     },
     "output_type": "display_data"
    }
   ],
   "source": [
    "sns.barplot(x='Pclass',y='Survived',hue=\"Sex\",data=whole_df,order=None)"
   ]
  },
  {
   "cell_type": "markdown",
   "metadata": {},
   "source": [
    "From above, women has higher chance of survival than men in each class"
   ]
  },
  {
   "cell_type": "code",
   "execution_count": 124,
   "metadata": {},
   "outputs": [],
   "source": [
    "# we have few missing enteries of the Fare price in test data,so we can fill it with the average price depending on the class\n",
    "whole_df['Fare'].fillna(whole_df[whole_df['Pclass']==3]['Fare'].mean(),inplace=True)"
   ]
  },
  {
   "cell_type": "code",
   "execution_count": 125,
   "metadata": {},
   "outputs": [
    {
     "data": {
      "text/plain": [
       "<matplotlib.axes._subplots.AxesSubplot at 0x6dfaf18128>"
      ]
     },
     "execution_count": 125,
     "metadata": {},
     "output_type": "execute_result"
    },
    {
     "data": {
      "image/png": "[encoded data removed]",
      "text/plain": [
       "<Figure size 1080x720 with 2 Axes>"
      ]
     },
     "metadata": {
      "needs_background": "light"
     },
     "output_type": "display_data"
    }
   ],
   "source": [
    "# draw heatmap for correlation of different features \n",
    "plt.figure(figsize=(15,10))\n",
    "sns.heatmap(whole_df.drop('PassengerId',axis=1).corr(),vmax=0.6,annot=True)"
   ]
  },
  {
   "cell_type": "markdown",
   "metadata": {},
   "source": [
    "Most correlated featurs from above chart are Pclass, SibSp, Parch and Fare"
   ]
  },
  {
   "cell_type": "code",
   "execution_count": 126,
   "metadata": {},
   "outputs": [
    {
     "data": {
      "text/plain": [
       "<matplotlib.axes._subplots.AxesSubplot at 0x6dfaf93f60>"
      ]
     },
     "execution_count": 126,
     "metadata": {},
     "output_type": "execute_result"
    },
    {
     "data": {
      "image/png": "[encoded data removed]",
      "text/plain": [
       "<Figure size 432x288 with 1 Axes>"
      ]
     },
     "metadata": {
      "needs_background": "light"
     },
     "output_type": "display_data"
    }
   ],
   "source": [
    "# draw boxplot between Age & Pclass\n",
    "sns.boxplot(data=whole_df,y='Age',x='Pclass')"
   ]
  },
  {
   "cell_type": "code",
   "execution_count": 127,
   "metadata": {},
   "outputs": [
    {
     "data": {
      "text/plain": [
       "<matplotlib.axes._subplots.AxesSubplot at 0x6dfb4dd208>"
      ]
     },
     "execution_count": 127,
     "metadata": {},
     "output_type": "execute_result"
    },
    {
     "data": {
      "image/png": "[encoded data removed]",
      "text/plain": [
       "<Figure size 432x288 with 1 Axes>"
      ]
     },
     "metadata": {
      "needs_background": "light"
     },
     "output_type": "display_data"
    }
   ],
   "source": [
    "# draw boxplot between Age & SibSp\n",
    "sns.boxplot(data=whole_df,y='Age',x='SibSp')"
   ]
  },
  {
   "cell_type": "code",
   "execution_count": 128,
   "metadata": {},
   "outputs": [
    {
     "data": {
      "text/plain": [
       "<matplotlib.axes._subplots.AxesSubplot at 0x6ded53e438>"
      ]
     },
     "execution_count": 128,
     "metadata": {},
     "output_type": "execute_result"
    },
    {
     "data": {
      "image/png": "[encoded data removed]",
      "text/plain": [
       "<Figure size 432x288 with 1 Axes>"
      ]
     },
     "metadata": {
      "needs_background": "light"
     },
     "output_type": "display_data"
    }
   ],
   "source": [
    "sns.boxplot(data=whole_df,y='Age',x='Parch')"
   ]
  },
  {
   "cell_type": "markdown",
   "metadata": {},
   "source": [
    "We will fill age by looking at the average age of people in the same class and have the same number of Siblings/Spouse and Parentch\\children"
   ]
  },
  {
   "cell_type": "code",
   "execution_count": 129,
   "metadata": {},
   "outputs": [
    {
     "ename": "AttributeError",
     "evalue": "'Series' object has no attribute 'to_numpy'",
     "output_type": "error",
     "traceback": [
      "\u001b[1;31m---------------------------------------------------------------------------\u001b[0m",
      "\u001b[1;31mAttributeError\u001b[0m                            Traceback (most recent call last)",
      "\u001b[1;32m<ipython-input-129-e47b9feff5af>\u001b[0m in \u001b[0;36m<module>\u001b[1;34m()\u001b[0m\n\u001b[0;32m     18\u001b[0m     \u001b[1;32mreturn\u001b[0m \u001b[0mresult\u001b[0m\u001b[1;33m\u001b[0m\u001b[0m\n\u001b[0;32m     19\u001b[0m \u001b[1;33m\u001b[0m\u001b[0m\n\u001b[1;32m---> 20\u001b[1;33m \u001b[0mwhole_df\u001b[0m\u001b[1;33m[\u001b[0m\u001b[1;34m'Age'\u001b[0m\u001b[1;33m]\u001b[0m\u001b[1;33m=\u001b[0m\u001b[0madjust_age\u001b[0m\u001b[1;33m(\u001b[0m\u001b[0mwhole_df\u001b[0m\u001b[1;33m,\u001b[0m\u001b[0mwhole_df\u001b[0m\u001b[1;33m[\u001b[0m\u001b[1;34m'Age'\u001b[0m\u001b[1;33m]\u001b[0m\u001b[1;33m)\u001b[0m\u001b[1;33m\u001b[0m\u001b[0m\n\u001b[0m",
      "\u001b[1;32m<ipython-input-129-e47b9feff5af>\u001b[0m in \u001b[0;36madjust_age\u001b[1;34m(df, age_s)\u001b[0m\n\u001b[0;32m      2\u001b[0m \u001b[1;31m# We will fill age by looking at the average age of people in the same class and have the same number of Siblings/Spouse and Parentch\\children\u001b[0m\u001b[1;33m\u001b[0m\u001b[1;33m\u001b[0m\u001b[0m\n\u001b[0;32m      3\u001b[0m \u001b[1;32mdef\u001b[0m \u001b[0madjust_age\u001b[0m\u001b[1;33m(\u001b[0m\u001b[0mdf\u001b[0m\u001b[1;33m,\u001b[0m\u001b[0mage_s\u001b[0m\u001b[1;33m)\u001b[0m\u001b[1;33m:\u001b[0m\u001b[1;33m\u001b[0m\u001b[0m\n\u001b[1;32m----> 4\u001b[1;33m     \u001b[0mage_array\u001b[0m \u001b[1;33m=\u001b[0m \u001b[0mage_s\u001b[0m\u001b[1;33m.\u001b[0m\u001b[0mto_numpy\u001b[0m\u001b[1;33m(\u001b[0m\u001b[1;33m)\u001b[0m\u001b[1;33m\u001b[0m\u001b[0m\n\u001b[0m\u001b[0;32m      5\u001b[0m     \u001b[0mresult\u001b[0m\u001b[1;33m=\u001b[0m\u001b[1;33m[\u001b[0m\u001b[1;33m]\u001b[0m\u001b[1;33m\u001b[0m\u001b[0m\n\u001b[0;32m      6\u001b[0m \u001b[1;33m\u001b[0m\u001b[0m\n",
      "\u001b[1;32m~\\Anaconda3\\lib\\site-packages\\pandas\\core\\generic.py\u001b[0m in \u001b[0;36m__getattr__\u001b[1;34m(self, name)\u001b[0m\n\u001b[0;32m   4374\u001b[0m             \u001b[1;32mif\u001b[0m \u001b[0mself\u001b[0m\u001b[1;33m.\u001b[0m\u001b[0m_info_axis\u001b[0m\u001b[1;33m.\u001b[0m\u001b[0m_can_hold_identifiers_and_holds_name\u001b[0m\u001b[1;33m(\u001b[0m\u001b[0mname\u001b[0m\u001b[1;33m)\u001b[0m\u001b[1;33m:\u001b[0m\u001b[1;33m\u001b[0m\u001b[0m\n\u001b[0;32m   4375\u001b[0m                 \u001b[1;32mreturn\u001b[0m \u001b[0mself\u001b[0m\u001b[1;33m[\u001b[0m\u001b[0mname\u001b[0m\u001b[1;33m]\u001b[0m\u001b[1;33m\u001b[0m\u001b[0m\n\u001b[1;32m-> 4376\u001b[1;33m             \u001b[1;32mreturn\u001b[0m \u001b[0mobject\u001b[0m\u001b[1;33m.\u001b[0m\u001b[0m__getattribute__\u001b[0m\u001b[1;33m(\u001b[0m\u001b[0mself\u001b[0m\u001b[1;33m,\u001b[0m \u001b[0mname\u001b[0m\u001b[1;33m)\u001b[0m\u001b[1;33m\u001b[0m\u001b[0m\n\u001b[0m\u001b[0;32m   4377\u001b[0m \u001b[1;33m\u001b[0m\u001b[0m\n\u001b[0;32m   4378\u001b[0m     \u001b[1;32mdef\u001b[0m \u001b[0m__setattr__\u001b[0m\u001b[1;33m(\u001b[0m\u001b[0mself\u001b[0m\u001b[1;33m,\u001b[0m \u001b[0mname\u001b[0m\u001b[1;33m,\u001b[0m \u001b[0mvalue\u001b[0m\u001b[1;33m)\u001b[0m\u001b[1;33m:\u001b[0m\u001b[1;33m\u001b[0m\u001b[0m\n",
      "\u001b[1;31mAttributeError\u001b[0m: 'Series' object has no attribute 'to_numpy'"
     ]
    }
   ],
   "source": [
    "# define function to fill the missing Age values \n",
    "# We will fill age by looking at the average age of people in the same class and have the same number of Siblings/Spouse and Parentch\\children \n",
    "def adjust_age(df,age_s):\n",
    "    age_array = age_s.to_numpy()\n",
    "    result=[]\n",
    "    \n",
    "    default = int(df['Age'].median())\n",
    "    for i,val in enumerate(age_array):\n",
    "        # if empty value\n",
    "        if np.isnan(val):\n",
    "            median_age = df[(df['Pclass']==df.iloc[i]['Pclass'])&(df['SibSp']==df.iloc[i]['SibSp'])&(df['Parch']==df.iloc[i]['Parch'])].median()\n",
    "            try:\n",
    "                result.append(int(median_age))\n",
    "            except:\n",
    "                result.append(default)\n",
    "        else:\n",
    "            result.append(int(val))\n",
    "    return result\n",
    "\n",
    "whole_df['Age']=adjust_age(whole_df,whole_df['Age'])"
   ]
  },
  {
   "cell_type": "code",
   "execution_count": null,
   "metadata": {},
   "outputs": [],
   "source": [
    "# now we will recheck our heatmap, all Age missing values should be filled\n",
    "fig,ax = plt.subplots(nrows=1,ncols=1,figsize=(18,6))\n",
    "sns.heatmap(whole_df.isnull(),yticklabels=False,ax=ax,cbar=False,cmap='copper')\n",
    "ax.set_title('Whole dataset')"
   ]
  },
  {
   "cell_type": "markdown",
   "metadata": {},
   "source": [
    "No more missing values in Age,Now try to fill Cabin missing values  "
   ]
  },
  {
   "cell_type": "code",
   "execution_count": 130,
   "metadata": {},
   "outputs": [],
   "source": [
    "# for this we have large amount of missing data, we will replace with NA\n",
    "whole_df['Cabin'].fillna(value=\"NA\",inplace=True)"
   ]
  },
  {
   "cell_type": "code",
   "execution_count": 131,
   "metadata": {},
   "outputs": [
    {
     "data": {
      "text/plain": [
       "<matplotlib.axes._subplots.AxesSubplot at 0x6dfb648d30>"
      ]
     },
     "execution_count": 131,
     "metadata": {},
     "output_type": "execute_result"
    },
    {
     "data": {
      "image/png": "[encoded data removed]",
      "text/plain": [
       "<Figure size 1296x432 with 1 Axes>"
      ]
     },
     "metadata": {
      "needs_background": "light"
     },
     "output_type": "display_data"
    }
   ],
   "source": [
    "fig, ax= plt.subplots(nrows=1,ncols=1,figsize=(18,6))\n",
    "sns.heatmap(whole_df.isnull(),yticklabels=False,ax=ax,cbar=False,cmap=\"copper\")"
   ]
  },
  {
   "cell_type": "code",
   "execution_count": 132,
   "metadata": {},
   "outputs": [],
   "source": [
    "whole_df['Embarked'].fillna(train['Embarked'].mode()[0],inplace=True)"
   ]
  },
  {
   "cell_type": "code",
   "execution_count": 133,
   "metadata": {},
   "outputs": [
    {
     "data": {
      "text/plain": [
       "<matplotlib.axes._subplots.AxesSubplot at 0x6dfb68cdd8>"
      ]
     },
     "execution_count": 133,
     "metadata": {},
     "output_type": "execute_result"
    },
    {
     "data": {
      "image/png": "[encoded data removed]",
      "text/plain": [
       "<Figure size 1296x432 with 1 Axes>"
      ]
     },
     "metadata": {
      "needs_background": "light"
     },
     "output_type": "display_data"
    }
   ],
   "source": [
    "fig, ax= plt.subplots(nrows=1,ncols=1,figsize=(18,6))\n",
    "sns.heatmap(whole_df.isnull(),yticklabels=False,ax=ax,cbar=False,cmap=\"copper\")"
   ]
  },
  {
   "cell_type": "markdown",
   "metadata": {},
   "source": [
    "### Feature Engineering"
   ]
  },
  {
   "cell_type": "markdown",
   "metadata": {},
   "source": [
    "#### Fare, Age, Parch & SibSp"
   ]
  },
  {
   "cell_type": "code",
   "execution_count": 134,
   "metadata": {},
   "outputs": [],
   "source": [
    "# Converting the continuos range to categorical thru binning\n",
    "whole_df['Fare']=pd.qcut(whole_df['Fare'],13)"
   ]
  },
  {
   "cell_type": "code",
   "execution_count": 135,
   "metadata": {},
   "outputs": [
    {
     "name": "stderr",
     "output_type": "stream",
     "text": [
      "C:\\Users\\Sindhu\\Anaconda3\\lib\\site-packages\\scipy\\stats\\stats.py:1713: FutureWarning: Using a non-tuple sequence for multidimensional indexing is deprecated; use `arr[tuple(seq)]` instead of `arr[seq]`. In the future this will be interpreted as an array index, `arr[np.array(seq)]`, which will result either in an error or a different result.\n",
      "  return np.add.reduce(sorted[indexer] * weights, axis=axis) / sumval\n"
     ]
    },
    {
     "data": {
      "text/plain": [
       "<matplotlib.axes._subplots.AxesSubplot at 0x6dfb69be48>"
      ]
     },
     "execution_count": 135,
     "metadata": {},
     "output_type": "execute_result"
    },
    {
     "data": {
      "image/png": "[encoded data removed]",
      "text/plain": [
       "<Figure size 432x288 with 1 Axes>"
      ]
     },
     "metadata": {
      "needs_background": "light"
     },
     "output_type": "display_data"
    }
   ],
   "source": [
    "sns.barplot(data=whole_df,x='Survived', y='Fare')"
   ]
  },
  {
   "cell_type": "markdown",
   "metadata": {},
   "source": [
    "This plot shows that there exists higher probability for survival for more fare"
   ]
  },
  {
   "cell_type": "code",
   "execution_count": 136,
   "metadata": {},
   "outputs": [
    {
     "data": {
      "text/plain": [
       "<matplotlib.axes._subplots.AxesSubplot at 0x6dfbabb320>"
      ]
     },
     "execution_count": 136,
     "metadata": {},
     "output_type": "execute_result"
    },
    {
     "data": {
      "image/png": "[encoded data removed]",
      "text/plain": [
       "<Figure size 720x1440 with 1 Axes>"
      ]
     },
     "metadata": {
      "needs_background": "light"
     },
     "output_type": "display_data"
    }
   ],
   "source": [
    "fig,ax=plt.subplots(nrows=1,ncols=1,figsize=(10,20))\n",
    "sns.countplot(data=whole_df,y='Age',hue='Survived',ax=ax)"
   ]
  },
  {
   "cell_type": "code",
   "execution_count": 137,
   "metadata": {},
   "outputs": [],
   "source": [
    "# let's categorize age into different age groups for better countplot\n",
    "def categorize_age(val):\n",
    "    if val<1:\n",
    "        return \"infant\"\n",
    "    if val>=1 and val <=14:\n",
    "        return \"child\"\n",
    "    elif val >=15 and val<=24:\n",
    "        return \"adult\"\n",
    "    elif val >=64:\n",
    "        return \"senior\"\n"
   ]
  },
  {
   "cell_type": "code",
   "execution_count": 138,
   "metadata": {},
   "outputs": [],
   "source": [
    "whole_df['Age']=whole_df['Age'].apply(categorize_age)"
   ]
  },
  {
   "cell_type": "code",
   "execution_count": 139,
   "metadata": {},
   "outputs": [
    {
     "data": {
      "text/plain": [
       "<matplotlib.axes._subplots.AxesSubplot at 0x6dfbb67f60>"
      ]
     },
     "execution_count": 139,
     "metadata": {},
     "output_type": "execute_result"
    },
    {
     "data": {
      "image/png": "[encoded data removed]",
      "text/plain": [
       "<Figure size 432x288 with 1 Axes>"
      ]
     },
     "metadata": {
      "needs_background": "light"
     },
     "output_type": "display_data"
    }
   ],
   "source": [
    "sns.countplot(data=whole_df, y='Age', hue ='Survived')"
   ]
  },
  {
   "cell_type": "markdown",
   "metadata": {},
   "source": [
    "Above plot suggests that all infants survived while others have less chance of survival"
   ]
  },
  {
   "cell_type": "code",
   "execution_count": 140,
   "metadata": {},
   "outputs": [],
   "source": [
    "whole_df['famsize'] = whole_df['Parch']+whole_df['SibSp']+1"
   ]
  },
  {
   "cell_type": "code",
   "execution_count": 141,
   "metadata": {},
   "outputs": [
    {
     "name": "stderr",
     "output_type": "stream",
     "text": [
      "C:\\Users\\Sindhu\\Anaconda3\\lib\\site-packages\\scipy\\stats\\stats.py:1713: FutureWarning: Using a non-tuple sequence for multidimensional indexing is deprecated; use `arr[tuple(seq)]` instead of `arr[seq]`. In the future this will be interpreted as an array index, `arr[np.array(seq)]`, which will result either in an error or a different result.\n",
      "  return np.add.reduce(sorted[indexer] * weights, axis=axis) / sumval\n"
     ]
    },
    {
     "data": {
      "text/plain": [
       "2.8485226731871713"
      ]
     },
     "execution_count": 141,
     "metadata": {},
     "output_type": "execute_result"
    },
    {
     "data": {
      "image/png": "[encoded data removed]",
      "text/plain": [
       "<Figure size 432x288 with 1 Axes>"
      ]
     },
     "metadata": {
      "needs_background": "light"
     },
     "output_type": "display_data"
    }
   ],
   "source": [
    "sns.distplot(whole_df['famsize'])\n",
    "whole_df['famsize'].skew()"
   ]
  },
  {
   "cell_type": "code",
   "execution_count": 142,
   "metadata": {},
   "outputs": [
    {
     "name": "stderr",
     "output_type": "stream",
     "text": [
      "C:\\Users\\Sindhu\\Anaconda3\\lib\\site-packages\\scipy\\stats\\stats.py:1713: FutureWarning: Using a non-tuple sequence for multidimensional indexing is deprecated; use `arr[tuple(seq)]` instead of `arr[seq]`. In the future this will be interpreted as an array index, `arr[np.array(seq)]`, which will result either in an error or a different result.\n",
      "  return np.add.reduce(sorted[indexer] * weights, axis=axis) / sumval\n"
     ]
    },
    {
     "data": {
      "text/plain": [
       "<matplotlib.axes._subplots.AxesSubplot at 0x6dfbe5e400>"
      ]
     },
     "execution_count": 142,
     "metadata": {},
     "output_type": "execute_result"
    },
    {
     "data": {
      "image/png": "[encoded data removed]",
      "text/plain": [
       "<Figure size 1080x576 with 1 Axes>"
      ]
     },
     "metadata": {
      "needs_background": "light"
     },
     "output_type": "display_data"
    }
   ],
   "source": [
    "fig,ax=plt.subplots(nrows=1,ncols=1,figsize=(15,8))\n",
    "sns.barplot(data=whole_df, y='Survived', x='famsize', hue='Age',ax=ax)"
   ]
  },
  {
   "cell_type": "code",
   "execution_count": 143,
   "metadata": {},
   "outputs": [
    {
     "data": {
      "text/plain": [
       "<matplotlib.axes._subplots.AxesSubplot at 0x6dfbe5ecc0>"
      ]
     },
     "execution_count": 143,
     "metadata": {},
     "output_type": "execute_result"
    },
    {
     "data": {
      "image/png": "[encoded data removed]",
      "text/plain": [
       "<Figure size 432x288 with 1 Axes>"
      ]
     },
     "metadata": {
      "needs_background": "light"
     },
     "output_type": "display_data"
    }
   ],
   "source": [
    "sns.countplot(data=whole_df, y='famsize', hue='Survived')"
   ]
  },
  {
   "cell_type": "code",
   "execution_count": 144,
   "metadata": {},
   "outputs": [],
   "source": [
    "# let's change famsize feature to categorical by grouping sizes which have similar survival rates\n",
    "def classify_fam_size(famsize):\n",
    "    if famsize==1:\n",
    "        return \"solo\"\n",
    "    elif famsize in [2,3,4]:\n",
    "        return \"small-family\"\n",
    "    elif famsize in [5,6]:\n",
    "        return \"mid-family\"\n",
    "    elif famsize in [5,6]:\n",
    "        return \"mid-family\"\n",
    "    elif famsize>6:\n",
    "        return \"large_family\"\n",
    "    \n",
    "whole_df['famsize'] = whole_df['famsize'].apply(classify_fam_size)"
   ]
  },
  {
   "cell_type": "code",
   "execution_count": 145,
   "metadata": {},
   "outputs": [
    {
     "data": {
      "text/plain": [
       "<matplotlib.axes._subplots.AxesSubplot at 0x6dfc16a6d8>"
      ]
     },
     "execution_count": 145,
     "metadata": {},
     "output_type": "execute_result"
    },
    {
     "data": {
      "image/png": "[encoded data removed]",
      "text/plain": [
       "<Figure size 432x288 with 1 Axes>"
      ]
     },
     "metadata": {
      "needs_background": "light"
     },
     "output_type": "display_data"
    }
   ],
   "source": [
    "sns.countplot(data=whole_df,y='famsize',hue='Survived')"
   ]
  },
  {
   "cell_type": "code",
   "execution_count": 146,
   "metadata": {},
   "outputs": [
    {
     "name": "stderr",
     "output_type": "stream",
     "text": [
      "C:\\Users\\Sindhu\\Anaconda3\\lib\\site-packages\\scipy\\stats\\stats.py:1713: FutureWarning: Using a non-tuple sequence for multidimensional indexing is deprecated; use `arr[tuple(seq)]` instead of `arr[seq]`. In the future this will be interpreted as an array index, `arr[np.array(seq)]`, which will result either in an error or a different result.\n",
      "  return np.add.reduce(sorted[indexer] * weights, axis=axis) / sumval\n"
     ]
    },
    {
     "data": {
      "text/plain": [
       "<matplotlib.axes._subplots.AxesSubplot at 0x6dfc59d4e0>"
      ]
     },
     "execution_count": 146,
     "metadata": {},
     "output_type": "execute_result"
    },
    {
     "data": {
      "image/png": "[encoded data removed]",
      "text/plain": [
       "<Figure size 1080x576 with 1 Axes>"
      ]
     },
     "metadata": {
      "needs_background": "light"
     },
     "output_type": "display_data"
    }
   ],
   "source": [
    "fig,ax=plt.subplots(nrows=1,ncols=1,figsize=(15,8))\n",
    "sns.barplot(data=whole_df, y='Survived', x='famsize', hue='Age',ax=ax)"
   ]
  },
  {
   "cell_type": "markdown",
   "metadata": {},
   "source": [
    "#### Cabin, Names & Tickets"
   ]
  },
  {
   "cell_type": "code",
   "execution_count": 147,
   "metadata": {},
   "outputs": [
    {
     "data": {
      "text/plain": [
       "array(['NA', 'C85', 'C123', 'E46', 'G6', 'C103', 'D56', 'A6',\n",
       "       'C23 C25 C27', 'B78', 'D33', 'B30', 'C52', 'B28', 'C83', 'F33',\n",
       "       'F G73', 'E31', 'A5', 'D10 D12', 'D26', 'C110', 'B58 B60', 'E101',\n",
       "       'F E69', 'D47', 'B86', 'F2', 'C2', 'E33', 'B19', 'A7', 'C49', 'F4',\n",
       "       'A32', 'B4', 'B80', 'A31', 'D36', 'D15', 'C93', 'C78', 'D35',\n",
       "       'C87', 'B77', 'E67', 'B94', 'C125', 'C99', 'C118', 'D7', 'A19',\n",
       "       'B49', 'D', 'C22 C26', 'C106', 'C65', 'E36', 'C54',\n",
       "       'B57 B59 B63 B66', 'C7', 'E34', 'C32', 'B18', 'C124', 'C91', 'E40',\n",
       "       'T', 'C128', 'D37', 'B35', 'E50', 'C82', 'B96 B98', 'E10', 'E44',\n",
       "       'A34', 'C104', 'C111', 'C92', 'E38', 'D21', 'E12', 'E63', 'A14',\n",
       "       'B37', 'C30', 'D20', 'B79', 'E25', 'D46', 'B73', 'C95', 'B38',\n",
       "       'B39', 'B22', 'C86', 'C70', 'A16', 'C101', 'C68', 'A10', 'E68',\n",
       "       'B41', 'A20', 'D19', 'D50', 'D9', 'B50', 'A26', 'D48', 'E58',\n",
       "       'C126', 'B71', 'D49', 'B5', 'B20', 'F G63', 'C62 C64', 'E24',\n",
       "       'C90', 'C45', 'E8', 'D45', 'C46', 'D30', 'E121', 'D11', 'E77',\n",
       "       'F38', 'B3', 'D6', 'B82 B84', 'D17', 'A36', 'B102', 'B69', 'E49',\n",
       "       'C47', 'D28', 'E17', 'A24', 'B51 B53 B55', 'C50', 'B42', 'C148',\n",
       "       'B45', 'B36', 'A21', 'D34', 'A9', 'C31', 'B61', 'C53', 'D43',\n",
       "       'C130', 'C132', 'C55 C57', 'C116', 'F', 'A29', 'C6', 'C28', 'C51',\n",
       "       'C97', 'D22', 'B10', 'E45', 'E52', 'A11', 'B11', 'C80', 'C89',\n",
       "       'F E46', 'B26', 'F E57', 'A18', 'E60', 'E39 E41', 'B52 B54 B56',\n",
       "       'C39', 'B24', 'D40', 'D38', 'C105'], dtype=object)"
      ]
     },
     "execution_count": 147,
     "metadata": {},
     "output_type": "execute_result"
    }
   ],
   "source": [
    "whole_df['Cabin'].unique()"
   ]
  },
  {
   "cell_type": "code",
   "execution_count": 148,
   "metadata": {},
   "outputs": [],
   "source": [
    "# grouping values in cabin by their first letter\n",
    "def take_section(code):\n",
    "    return code[0]\n",
    "whole_df['Cabin']=whole_df['Cabin'].apply(take_section)"
   ]
  },
  {
   "cell_type": "code",
   "execution_count": 149,
   "metadata": {},
   "outputs": [
    {
     "data": {
      "text/plain": [
       "array(['N', 'C', 'E', 'G', 'D', 'A', 'B', 'F', 'T'], dtype=object)"
      ]
     },
     "execution_count": 149,
     "metadata": {},
     "output_type": "execute_result"
    }
   ],
   "source": [
    "whole_df['Cabin'].unique()"
   ]
  },
  {
   "cell_type": "code",
   "execution_count": 150,
   "metadata": {},
   "outputs": [
    {
     "data": {
      "text/plain": [
       "<matplotlib.axes._subplots.AxesSubplot at 0x6dfc8bf358>"
      ]
     },
     "execution_count": 150,
     "metadata": {},
     "output_type": "execute_result"
    },
    {
     "data": {
      "image/png": "[encoded data removed]",
      "text/plain": [
       "<Figure size 432x288 with 1 Axes>"
      ]
     },
     "metadata": {
      "needs_background": "light"
     },
     "output_type": "display_data"
    }
   ],
   "source": [
    "sns.countplot(data=whole_df, x= 'Cabin',hue='Pclass')"
   ]
  },
  {
   "cell_type": "code",
   "execution_count": 151,
   "metadata": {},
   "outputs": [
    {
     "name": "stderr",
     "output_type": "stream",
     "text": [
      "C:\\Users\\Sindhu\\Anaconda3\\lib\\site-packages\\scipy\\stats\\stats.py:1713: FutureWarning: Using a non-tuple sequence for multidimensional indexing is deprecated; use `arr[tuple(seq)]` instead of `arr[seq]`. In the future this will be interpreted as an array index, `arr[np.array(seq)]`, which will result either in an error or a different result.\n",
      "  return np.add.reduce(sorted[indexer] * weights, axis=axis) / sumval\n"
     ]
    },
    {
     "data": {
      "text/plain": [
       "<matplotlib.axes._subplots.AxesSubplot at 0x6dfc595e10>"
      ]
     },
     "execution_count": 151,
     "metadata": {},
     "output_type": "execute_result"
    },
    {
     "data": {
      "image/png": "[encoded data removed]",
      "text/plain": [
       "<Figure size 432x288 with 1 Axes>"
      ]
     },
     "metadata": {
      "needs_background": "light"
     },
     "output_type": "display_data"
    }
   ],
   "source": [
    "sns.barplot(data=whole_df, x='Cabin',y='Survived',hue='Pclass')"
   ]
  },
  {
   "cell_type": "code",
   "execution_count": 152,
   "metadata": {},
   "outputs": [],
   "source": [
    "# here we will group cabins based on class\n",
    "def group_cabin(code):\n",
    "    if code in ['A','B','C','T']:\n",
    "        return 'ABCT'\n",
    "    elif code in ['F','G']:\n",
    "        return 'FG'\n",
    "    elif code in ['E','D']:\n",
    "        return 'DE'\n",
    "    else:\n",
    "        return code\n",
    "    \n",
    "whole_df['Cabin']=whole_df['Cabin'].apply(group_cabin)"
   ]
  },
  {
   "cell_type": "code",
   "execution_count": 153,
   "metadata": {},
   "outputs": [
    {
     "name": "stderr",
     "output_type": "stream",
     "text": [
      "C:\\Users\\Sindhu\\Anaconda3\\lib\\site-packages\\scipy\\stats\\stats.py:1713: FutureWarning: Using a non-tuple sequence for multidimensional indexing is deprecated; use `arr[tuple(seq)]` instead of `arr[seq]`. In the future this will be interpreted as an array index, `arr[np.array(seq)]`, which will result either in an error or a different result.\n",
      "  return np.add.reduce(sorted[indexer] * weights, axis=axis) / sumval\n"
     ]
    },
    {
     "data": {
      "text/plain": [
       "<matplotlib.axes._subplots.AxesSubplot at 0x6dfbd944a8>"
      ]
     },
     "execution_count": 153,
     "metadata": {},
     "output_type": "execute_result"
    },
    {
     "data": {
      "image/png": "[encoded data removed]",
      "text/plain": [
       "<Figure size 432x288 with 1 Axes>"
      ]
     },
     "metadata": {
      "needs_background": "light"
     },
     "output_type": "display_data"
    }
   ],
   "source": [
    "sns.barplot(data=whole_df, x='Cabin', y='Survived')"
   ]
  },
  {
   "cell_type": "code",
   "execution_count": 154,
   "metadata": {},
   "outputs": [],
   "source": [
    "whole_df['title']=whole_df['Name'].apply(lambda name: name.split(',')[1].split('.')[0].strip())"
   ]
  },
  {
   "cell_type": "code",
   "execution_count": 155,
   "metadata": {},
   "outputs": [
    {
     "data": {
      "text/plain": [
       "array(['Mr', 'Mrs', 'Miss', 'Master', 'Don', 'Rev', 'Dr', 'Mme', 'Ms',\n",
       "       'Major', 'Lady', 'Sir', 'Mlle', 'Col', 'Capt', 'the Countess',\n",
       "       'Jonkheer', 'Dona'], dtype=object)"
      ]
     },
     "execution_count": 155,
     "metadata": {},
     "output_type": "execute_result"
    }
   ],
   "source": [
    "# get title of each person\n",
    "whole_df['title'].unique()"
   ]
  },
  {
   "cell_type": "code",
   "execution_count": 156,
   "metadata": {},
   "outputs": [
    {
     "data": {
      "text/plain": [
       "<matplotlib.axes._subplots.AxesSubplot at 0x6dfc73f240>"
      ]
     },
     "execution_count": 156,
     "metadata": {},
     "output_type": "execute_result"
    },
    {
     "data": {
      "image/png": "[encoded data removed]",
      "text/plain": [
       "<Figure size 432x288 with 1 Axes>"
      ]
     },
     "metadata": {
      "needs_background": "light"
     },
     "output_type": "display_data"
    }
   ],
   "source": [
    "sns.countplot(data=whole_df, y='title', hue='Survived')"
   ]
  },
  {
   "cell_type": "code",
   "execution_count": 157,
   "metadata": {},
   "outputs": [
    {
     "name": "stderr",
     "output_type": "stream",
     "text": [
      "C:\\Users\\Sindhu\\Anaconda3\\lib\\site-packages\\scipy\\stats\\stats.py:1713: FutureWarning: Using a non-tuple sequence for multidimensional indexing is deprecated; use `arr[tuple(seq)]` instead of `arr[seq]`. In the future this will be interpreted as an array index, `arr[np.array(seq)]`, which will result either in an error or a different result.\n",
      "  return np.add.reduce(sorted[indexer] * weights, axis=axis) / sumval\n"
     ]
    },
    {
     "data": {
      "text/plain": [
       "<matplotlib.axes._subplots.AxesSubplot at 0x6dfc7fada0>"
      ]
     },
     "execution_count": 157,
     "metadata": {},
     "output_type": "execute_result"
    },
    {
     "data": {
      "image/png": "[encoded data removed]",
      "text/plain": [
       "<Figure size 1296x432 with 1 Axes>"
      ]
     },
     "metadata": {
      "needs_background": "light"
     },
     "output_type": "display_data"
    }
   ],
   "source": [
    "fig, ax = plt.subplots(nrows = 1, ncols = 1, figsize = (18, 6))\n",
    "sns.barplot(data=whole_df, y='title',x='Survived', hue='Sex')"
   ]
  },
  {
   "cell_type": "code",
   "execution_count": 158,
   "metadata": {},
   "outputs": [],
   "source": [
    "# let's merge all female titles together, we will keep Mr & Master separate and group remaining in other\n",
    "def standardise_names(name):\n",
    "    if name in ['Mrs','Miss','Ms','Lady','Mlle','the Countess','Dona']:\n",
    "        return \"female_titles\"\n",
    "    elif name in ['Mr','Master']:\n",
    "        return name\n",
    "    else:\n",
    "        return 'others'\n",
    "whole_df['title']=whole_df['title'].apply(standardise_names)"
   ]
  },
  {
   "cell_type": "code",
   "execution_count": 159,
   "metadata": {},
   "outputs": [
    {
     "data": {
      "text/plain": [
       "<matplotlib.axes._subplots.AxesSubplot at 0x6dfc73c5c0>"
      ]
     },
     "execution_count": 159,
     "metadata": {},
     "output_type": "execute_result"
    },
    {
     "data": {
      "image/png": "[encoded data removed]",
      "text/plain": [
       "<Figure size 432x288 with 1 Axes>"
      ]
     },
     "metadata": {
      "needs_background": "light"
     },
     "output_type": "display_data"
    }
   ],
   "source": [
    "sns.countplot(data=whole_df, y='title',hue='Survived')"
   ]
  },
  {
   "cell_type": "code",
   "execution_count": 160,
   "metadata": {},
   "outputs": [],
   "source": [
    "# since close friends/family will buy ticket together so we will use tickets to make ticket survival rate\n",
    "tickets={}\n",
    "for ticket,df in whole_df.xs(0).groupby('Ticket'):\n",
    "    if df.shape[0]>1:\n",
    "        tickets[ticket]=df['Survived'].sum()/df.shape[0]"
   ]
  },
  {
   "cell_type": "code",
   "execution_count": 161,
   "metadata": {},
   "outputs": [],
   "source": [
    "default=0.5\n",
    "whole_df['ticket_sr']=whole_df['Ticket']\n",
    "whole_df['ticket_sr']=whole_df['ticket_sr'].apply(lambda x: tickets[x] if x in tickets.keys() else default)"
   ]
  },
  {
   "cell_type": "code",
   "execution_count": 162,
   "metadata": {},
   "outputs": [
    {
     "data": {
      "text/plain": [
       "<matplotlib.axes._subplots.AxesSubplot at 0x6df463a518>"
      ]
     },
     "execution_count": 162,
     "metadata": {},
     "output_type": "execute_result"
    },
    {
     "data": {
      "image/png": "[encoded data removed]",
      "text/plain": [
       "<Figure size 432x288 with 1 Axes>"
      ]
     },
     "metadata": {
      "needs_background": "light"
     },
     "output_type": "display_data"
    }
   ],
   "source": [
    "sns.countplot(data=whole_df, hue='famsize', y='ticket_sr', orient='h')"
   ]
  },
  {
   "cell_type": "code",
   "execution_count": 163,
   "metadata": {},
   "outputs": [
    {
     "name": "stderr",
     "output_type": "stream",
     "text": [
      "C:\\Users\\Sindhu\\Anaconda3\\lib\\site-packages\\scipy\\stats\\stats.py:1713: FutureWarning: Using a non-tuple sequence for multidimensional indexing is deprecated; use `arr[tuple(seq)]` instead of `arr[seq]`. In the future this will be interpreted as an array index, `arr[np.array(seq)]`, which will result either in an error or a different result.\n",
      "  return np.add.reduce(sorted[indexer] * weights, axis=axis) / sumval\n"
     ]
    },
    {
     "data": {
      "text/plain": [
       "<matplotlib.axes._subplots.AxesSubplot at 0x6dfcc27240>"
      ]
     },
     "execution_count": 163,
     "metadata": {},
     "output_type": "execute_result"
    },
    {
     "data": {
      "image/png": "[encoded data removed]",
      "text/plain": [
       "<Figure size 432x288 with 1 Axes>"
      ]
     },
     "metadata": {
      "needs_background": "light"
     },
     "output_type": "display_data"
    }
   ],
   "source": [
    "sns.barplot(data=whole_df, y='ticket_sr', x='Survived',orient='h')"
   ]
  },
  {
   "cell_type": "code",
   "execution_count": 164,
   "metadata": {},
   "outputs": [],
   "source": [
    "# remove unecessary features and dummify\n",
    "whole_df.drop(labels=['Name','Ticket','SibSp','Parch'], axis=1, inplace=True)\n",
    "whole_df= pd.get_dummies(whole_df,columns=['Pclass','Sex','Age','Fare','Cabin','Embarked','title','famsize'],drop_first=True)"
   ]
  },
  {
   "cell_type": "code",
   "execution_count": 165,
   "metadata": {},
   "outputs": [
    {
     "data": {
      "text/html": [
       "<div>\n",
       "<style scoped>\n",
       "    .dataframe tbody tr th:only-of-type {\n",
       "        vertical-align: middle;\n",
       "    }\n",
       "\n",
       "    .dataframe tbody tr th {\n",
       "        vertical-align: top;\n",
       "    }\n",
       "\n",
       "    .dataframe thead th {\n",
       "        text-align: right;\n",
       "    }\n",
       "</style>\n",
       "<table border=\"1\" class=\"dataframe\">\n",
       "  <thead>\n",
       "    <tr style=\"text-align: right;\">\n",
       "      <th></th>\n",
       "      <th></th>\n",
       "      <th>PassengerId</th>\n",
       "      <th>Survived</th>\n",
       "      <th>ticket_sr</th>\n",
       "      <th>Pclass_2</th>\n",
       "      <th>Pclass_3</th>\n",
       "      <th>Sex_male</th>\n",
       "      <th>Age_child</th>\n",
       "      <th>Age_infant</th>\n",
       "      <th>Age_senior</th>\n",
       "      <th>Fare_(7.25, 7.75]</th>\n",
       "      <th>...</th>\n",
       "      <th>Cabin_FG</th>\n",
       "      <th>Cabin_N</th>\n",
       "      <th>Embarked_Q</th>\n",
       "      <th>Embarked_S</th>\n",
       "      <th>title_Mr</th>\n",
       "      <th>title_female_titles</th>\n",
       "      <th>title_others</th>\n",
       "      <th>famsize_mid-family</th>\n",
       "      <th>famsize_small-family</th>\n",
       "      <th>famsize_solo</th>\n",
       "    </tr>\n",
       "  </thead>\n",
       "  <tbody>\n",
       "    <tr>\n",
       "      <th rowspan=\"5\" valign=\"top\">0</th>\n",
       "      <th>0</th>\n",
       "      <td>1</td>\n",
       "      <td>0.0</td>\n",
       "      <td>0.5</td>\n",
       "      <td>0</td>\n",
       "      <td>1</td>\n",
       "      <td>1</td>\n",
       "      <td>0</td>\n",
       "      <td>0</td>\n",
       "      <td>0</td>\n",
       "      <td>0</td>\n",
       "      <td>...</td>\n",
       "      <td>0</td>\n",
       "      <td>1</td>\n",
       "      <td>0</td>\n",
       "      <td>1</td>\n",
       "      <td>1</td>\n",
       "      <td>0</td>\n",
       "      <td>0</td>\n",
       "      <td>0</td>\n",
       "      <td>1</td>\n",
       "      <td>0</td>\n",
       "    </tr>\n",
       "    <tr>\n",
       "      <th>1</th>\n",
       "      <td>2</td>\n",
       "      <td>1.0</td>\n",
       "      <td>0.5</td>\n",
       "      <td>0</td>\n",
       "      <td>0</td>\n",
       "      <td>0</td>\n",
       "      <td>0</td>\n",
       "      <td>0</td>\n",
       "      <td>0</td>\n",
       "      <td>0</td>\n",
       "      <td>...</td>\n",
       "      <td>0</td>\n",
       "      <td>0</td>\n",
       "      <td>0</td>\n",
       "      <td>0</td>\n",
       "      <td>0</td>\n",
       "      <td>1</td>\n",
       "      <td>0</td>\n",
       "      <td>0</td>\n",
       "      <td>1</td>\n",
       "      <td>0</td>\n",
       "    </tr>\n",
       "    <tr>\n",
       "      <th>2</th>\n",
       "      <td>3</td>\n",
       "      <td>1.0</td>\n",
       "      <td>0.5</td>\n",
       "      <td>0</td>\n",
       "      <td>1</td>\n",
       "      <td>0</td>\n",
       "      <td>0</td>\n",
       "      <td>0</td>\n",
       "      <td>0</td>\n",
       "      <td>0</td>\n",
       "      <td>...</td>\n",
       "      <td>0</td>\n",
       "      <td>1</td>\n",
       "      <td>0</td>\n",
       "      <td>1</td>\n",
       "      <td>0</td>\n",
       "      <td>1</td>\n",
       "      <td>0</td>\n",
       "      <td>0</td>\n",
       "      <td>0</td>\n",
       "      <td>1</td>\n",
       "    </tr>\n",
       "    <tr>\n",
       "      <th>3</th>\n",
       "      <td>4</td>\n",
       "      <td>1.0</td>\n",
       "      <td>0.5</td>\n",
       "      <td>0</td>\n",
       "      <td>0</td>\n",
       "      <td>0</td>\n",
       "      <td>0</td>\n",
       "      <td>0</td>\n",
       "      <td>0</td>\n",
       "      <td>0</td>\n",
       "      <td>...</td>\n",
       "      <td>0</td>\n",
       "      <td>0</td>\n",
       "      <td>0</td>\n",
       "      <td>1</td>\n",
       "      <td>0</td>\n",
       "      <td>1</td>\n",
       "      <td>0</td>\n",
       "      <td>0</td>\n",
       "      <td>1</td>\n",
       "      <td>0</td>\n",
       "    </tr>\n",
       "    <tr>\n",
       "      <th>4</th>\n",
       "      <td>5</td>\n",
       "      <td>0.0</td>\n",
       "      <td>0.5</td>\n",
       "      <td>0</td>\n",
       "      <td>1</td>\n",
       "      <td>1</td>\n",
       "      <td>0</td>\n",
       "      <td>0</td>\n",
       "      <td>0</td>\n",
       "      <td>0</td>\n",
       "      <td>...</td>\n",
       "      <td>0</td>\n",
       "      <td>1</td>\n",
       "      <td>0</td>\n",
       "      <td>1</td>\n",
       "      <td>1</td>\n",
       "      <td>0</td>\n",
       "      <td>0</td>\n",
       "      <td>0</td>\n",
       "      <td>0</td>\n",
       "      <td>1</td>\n",
       "    </tr>\n",
       "  </tbody>\n",
       "</table>\n",
       "<p>5 rows × 32 columns</p>\n",
       "</div>"
      ],
      "text/plain": [
       "     PassengerId  Survived  ticket_sr  Pclass_2  Pclass_3  Sex_male  \\\n",
       "0 0            1       0.0        0.5         0         1         1   \n",
       "  1            2       1.0        0.5         0         0         0   \n",
       "  2            3       1.0        0.5         0         1         0   \n",
       "  3            4       1.0        0.5         0         0         0   \n",
       "  4            5       0.0        0.5         0         1         1   \n",
       "\n",
       "     Age_child  Age_infant  Age_senior  Fare_(7.25, 7.75]      ...       \\\n",
       "0 0          0           0           0                  0      ...        \n",
       "  1          0           0           0                  0      ...        \n",
       "  2          0           0           0                  0      ...        \n",
       "  3          0           0           0                  0      ...        \n",
       "  4          0           0           0                  0      ...        \n",
       "\n",
       "     Cabin_FG  Cabin_N  Embarked_Q  Embarked_S  title_Mr  title_female_titles  \\\n",
       "0 0         0        1           0           1         1                    0   \n",
       "  1         0        0           0           0         0                    1   \n",
       "  2         0        1           0           1         0                    1   \n",
       "  3         0        0           0           1         0                    1   \n",
       "  4         0        1           0           1         1                    0   \n",
       "\n",
       "     title_others  famsize_mid-family  famsize_small-family  famsize_solo  \n",
       "0 0             0                   0                     1             0  \n",
       "  1             0                   0                     1             0  \n",
       "  2             0                   0                     0             1  \n",
       "  3             0                   0                     1             0  \n",
       "  4             0                   0                     0             1  \n",
       "\n",
       "[5 rows x 32 columns]"
      ]
     },
     "execution_count": 165,
     "metadata": {},
     "output_type": "execute_result"
    }
   ],
   "source": [
    "whole_df.head()"
   ]
  },
  {
   "cell_type": "code",
   "execution_count": 166,
   "metadata": {},
   "outputs": [],
   "source": [
    "# look for high correlation features in training set\n",
    "corr = whole_df.drop('PassengerId', axis=1).corr()\n",
    "corr = corr[(corr['Survived']>0.1) | (corr['Survived'] < -0.1)]\n"
   ]
  },
  {
   "cell_type": "code",
   "execution_count": 167,
   "metadata": {},
   "outputs": [
    {
     "data": {
      "text/html": [
       "<div>\n",
       "<style scoped>\n",
       "    .dataframe tbody tr th:only-of-type {\n",
       "        vertical-align: middle;\n",
       "    }\n",
       "\n",
       "    .dataframe tbody tr th {\n",
       "        vertical-align: top;\n",
       "    }\n",
       "\n",
       "    .dataframe thead th {\n",
       "        text-align: right;\n",
       "    }\n",
       "</style>\n",
       "<table border=\"1\" class=\"dataframe\">\n",
       "  <thead>\n",
       "    <tr style=\"text-align: right;\">\n",
       "      <th></th>\n",
       "      <th>Survived</th>\n",
       "      <th>ticket_sr</th>\n",
       "      <th>Pclass_2</th>\n",
       "      <th>Pclass_3</th>\n",
       "      <th>Sex_male</th>\n",
       "      <th>Age_child</th>\n",
       "      <th>Age_infant</th>\n",
       "      <th>Age_senior</th>\n",
       "      <th>Fare_(7.25, 7.75]</th>\n",
       "      <th>Fare_(7.75, 7.896]</th>\n",
       "      <th>...</th>\n",
       "      <th>Cabin_FG</th>\n",
       "      <th>Cabin_N</th>\n",
       "      <th>Embarked_Q</th>\n",
       "      <th>Embarked_S</th>\n",
       "      <th>title_Mr</th>\n",
       "      <th>title_female_titles</th>\n",
       "      <th>title_others</th>\n",
       "      <th>famsize_mid-family</th>\n",
       "      <th>famsize_small-family</th>\n",
       "      <th>famsize_solo</th>\n",
       "    </tr>\n",
       "  </thead>\n",
       "  <tbody>\n",
       "    <tr>\n",
       "      <th>Survived</th>\n",
       "      <td>1.000000</td>\n",
       "      <td>0.522770</td>\n",
       "      <td>0.096670</td>\n",
       "      <td>-0.318009</td>\n",
       "      <td>-0.547626</td>\n",
       "      <td>0.097519</td>\n",
       "      <td>0.113667</td>\n",
       "      <td>-0.091888</td>\n",
       "      <td>-0.035220</td>\n",
       "      <td>-0.132541</td>\n",
       "      <td>...</td>\n",
       "      <td>0.059632</td>\n",
       "      <td>-0.312789</td>\n",
       "      <td>0.005429</td>\n",
       "      <td>-0.144804</td>\n",
       "      <td>-0.554277</td>\n",
       "      <td>0.542407</td>\n",
       "      <td>-0.020648</td>\n",
       "      <td>-0.094040</td>\n",
       "      <td>0.282380</td>\n",
       "      <td>-0.206238</td>\n",
       "    </tr>\n",
       "    <tr>\n",
       "      <th>ticket_sr</th>\n",
       "      <td>0.522770</td>\n",
       "      <td>1.000000</td>\n",
       "      <td>0.031616</td>\n",
       "      <td>-0.255704</td>\n",
       "      <td>-0.147899</td>\n",
       "      <td>-0.033669</td>\n",
       "      <td>0.072494</td>\n",
       "      <td>-0.004523</td>\n",
       "      <td>-0.010905</td>\n",
       "      <td>-0.012926</td>\n",
       "      <td>...</td>\n",
       "      <td>0.078563</td>\n",
       "      <td>-0.277230</td>\n",
       "      <td>-0.035704</td>\n",
       "      <td>-0.124193</td>\n",
       "      <td>-0.134185</td>\n",
       "      <td>0.144656</td>\n",
       "      <td>0.027725</td>\n",
       "      <td>-0.251104</td>\n",
       "      <td>0.231587</td>\n",
       "      <td>-0.048199</td>\n",
       "    </tr>\n",
       "    <tr>\n",
       "      <th>Pclass_3</th>\n",
       "      <td>-0.318009</td>\n",
       "      <td>-0.255704</td>\n",
       "      <td>-0.566165</td>\n",
       "      <td>1.000000</td>\n",
       "      <td>0.117669</td>\n",
       "      <td>0.085188</td>\n",
       "      <td>0.007743</td>\n",
       "      <td>-0.084604</td>\n",
       "      <td>0.253975</td>\n",
       "      <td>0.301043</td>\n",
       "      <td>...</td>\n",
       "      <td>-0.012392</td>\n",
       "      <td>0.526521</td>\n",
       "      <td>0.243112</td>\n",
       "      <td>-0.007108</td>\n",
       "      <td>0.119462</td>\n",
       "      <td>-0.114289</td>\n",
       "      <td>-0.158532</td>\n",
       "      <td>0.069889</td>\n",
       "      <td>-0.224638</td>\n",
       "      <td>0.139687</td>\n",
       "    </tr>\n",
       "    <tr>\n",
       "      <th>Sex_male</th>\n",
       "      <td>-0.547626</td>\n",
       "      <td>-0.147899</td>\n",
       "      <td>-0.028560</td>\n",
       "      <td>0.117669</td>\n",
       "      <td>1.000000</td>\n",
       "      <td>-0.074825</td>\n",
       "      <td>0.004624</td>\n",
       "      <td>0.043144</td>\n",
       "      <td>-0.036459</td>\n",
       "      <td>0.120131</td>\n",
       "      <td>...</td>\n",
       "      <td>-0.042775</td>\n",
       "      <td>0.141876</td>\n",
       "      <td>-0.088564</td>\n",
       "      <td>0.115470</td>\n",
       "      <td>0.870356</td>\n",
       "      <td>-0.996661</td>\n",
       "      <td>0.085663</td>\n",
       "      <td>-0.062282</td>\n",
       "      <td>-0.256604</td>\n",
       "      <td>0.285910</td>\n",
       "    </tr>\n",
       "    <tr>\n",
       "      <th>Age_infant</th>\n",
       "      <td>0.113667</td>\n",
       "      <td>0.072494</td>\n",
       "      <td>0.028524</td>\n",
       "      <td>0.007743</td>\n",
       "      <td>0.004624</td>\n",
       "      <td>-0.026994</td>\n",
       "      <td>1.000000</td>\n",
       "      <td>-0.011068</td>\n",
       "      <td>-0.026686</td>\n",
       "      <td>-0.031632</td>\n",
       "      <td>...</td>\n",
       "      <td>-0.013735</td>\n",
       "      <td>0.032459</td>\n",
       "      <td>-0.031077</td>\n",
       "      <td>0.010281</td>\n",
       "      <td>-0.112694</td>\n",
       "      <td>-0.004320</td>\n",
       "      <td>-0.014003</td>\n",
       "      <td>-0.018621</td>\n",
       "      <td>0.136006</td>\n",
       "      <td>-0.118745</td>\n",
       "    </tr>\n",
       "    <tr>\n",
       "      <th>Fare_(7.75, 7.896]</th>\n",
       "      <td>-0.132541</td>\n",
       "      <td>-0.012926</td>\n",
       "      <td>-0.170440</td>\n",
       "      <td>0.301043</td>\n",
       "      <td>0.120131</td>\n",
       "      <td>-0.082051</td>\n",
       "      <td>-0.031632</td>\n",
       "      <td>-0.014921</td>\n",
       "      <td>-0.090953</td>\n",
       "      <td>1.000000</td>\n",
       "      <td>...</td>\n",
       "      <td>-0.046815</td>\n",
       "      <td>0.176285</td>\n",
       "      <td>0.026810</td>\n",
       "      <td>0.095756</td>\n",
       "      <td>0.160292</td>\n",
       "      <td>-0.119196</td>\n",
       "      <td>-0.047725</td>\n",
       "      <td>-0.063466</td>\n",
       "      <td>-0.205168</td>\n",
       "      <td>0.234678</td>\n",
       "    </tr>\n",
       "    <tr>\n",
       "      <th>Fare_(56.496, 83.158]</th>\n",
       "      <td>0.126182</td>\n",
       "      <td>0.021090</td>\n",
       "      <td>-0.060133</td>\n",
       "      <td>-0.242523</td>\n",
       "      <td>-0.096797</td>\n",
       "      <td>-0.056361</td>\n",
       "      <td>-0.027146</td>\n",
       "      <td>0.097061</td>\n",
       "      <td>-0.078057</td>\n",
       "      <td>-0.092523</td>\n",
       "      <td>...</td>\n",
       "      <td>-0.040177</td>\n",
       "      <td>-0.285384</td>\n",
       "      <td>-0.090901</td>\n",
       "      <td>-0.104588</td>\n",
       "      <td>-0.091917</td>\n",
       "      <td>0.091658</td>\n",
       "      <td>0.041527</td>\n",
       "      <td>-0.054467</td>\n",
       "      <td>0.192459</td>\n",
       "      <td>-0.215345</td>\n",
       "    </tr>\n",
       "    <tr>\n",
       "      <th>Fare_(83.158, 512.329]</th>\n",
       "      <td>0.215854</td>\n",
       "      <td>0.304980</td>\n",
       "      <td>-0.148726</td>\n",
       "      <td>-0.312496</td>\n",
       "      <td>-0.167537</td>\n",
       "      <td>-0.024584</td>\n",
       "      <td>0.002718</td>\n",
       "      <td>0.018130</td>\n",
       "      <td>-0.079366</td>\n",
       "      <td>-0.094075</td>\n",
       "      <td>...</td>\n",
       "      <td>-0.040850</td>\n",
       "      <td>-0.443376</td>\n",
       "      <td>-0.062709</td>\n",
       "      <td>-0.154352</td>\n",
       "      <td>-0.165237</td>\n",
       "      <td>0.168617</td>\n",
       "      <td>0.019350</td>\n",
       "      <td>0.115473</td>\n",
       "      <td>0.152928</td>\n",
       "      <td>-0.175701</td>\n",
       "    </tr>\n",
       "    <tr>\n",
       "      <th>Cabin_DE</th>\n",
       "      <td>0.215854</td>\n",
       "      <td>0.130944</td>\n",
       "      <td>-0.063607</td>\n",
       "      <td>-0.272997</td>\n",
       "      <td>-0.070559</td>\n",
       "      <td>-0.051238</td>\n",
       "      <td>-0.025747</td>\n",
       "      <td>0.050572</td>\n",
       "      <td>-0.074033</td>\n",
       "      <td>-0.087754</td>\n",
       "      <td>...</td>\n",
       "      <td>-0.038105</td>\n",
       "      <td>-0.497794</td>\n",
       "      <td>-0.075700</td>\n",
       "      <td>-0.040266</td>\n",
       "      <td>-0.045196</td>\n",
       "      <td>0.065063</td>\n",
       "      <td>-0.017265</td>\n",
       "      <td>-0.051659</td>\n",
       "      <td>0.123311</td>\n",
       "      <td>-0.084554</td>\n",
       "    </tr>\n",
       "    <tr>\n",
       "      <th>Cabin_N</th>\n",
       "      <td>-0.312789</td>\n",
       "      <td>-0.277230</td>\n",
       "      <td>0.175275</td>\n",
       "      <td>0.526521</td>\n",
       "      <td>0.141876</td>\n",
       "      <td>0.044280</td>\n",
       "      <td>0.032459</td>\n",
       "      <td>-0.100474</td>\n",
       "      <td>0.112988</td>\n",
       "      <td>0.176285</td>\n",
       "      <td>...</td>\n",
       "      <td>-0.265561</td>\n",
       "      <td>1.000000</td>\n",
       "      <td>0.141728</td>\n",
       "      <td>0.135507</td>\n",
       "      <td>0.136663</td>\n",
       "      <td>-0.136047</td>\n",
       "      <td>-0.076968</td>\n",
       "      <td>-0.004771</td>\n",
       "      <td>-0.212228</td>\n",
       "      <td>0.176985</td>\n",
       "    </tr>\n",
       "    <tr>\n",
       "      <th>Embarked_S</th>\n",
       "      <td>-0.144804</td>\n",
       "      <td>-0.124193</td>\n",
       "      <td>0.195610</td>\n",
       "      <td>-0.007108</td>\n",
       "      <td>0.115470</td>\n",
       "      <td>0.041178</td>\n",
       "      <td>0.010281</td>\n",
       "      <td>-0.028339</td>\n",
       "      <td>-0.255116</td>\n",
       "      <td>0.095756</td>\n",
       "      <td>...</td>\n",
       "      <td>0.045165</td>\n",
       "      <td>0.135507</td>\n",
       "      <td>-0.494108</td>\n",
       "      <td>1.000000</td>\n",
       "      <td>0.109586</td>\n",
       "      <td>-0.114174</td>\n",
       "      <td>-0.022710</td>\n",
       "      <td>0.027366</td>\n",
       "      <td>-0.062823</td>\n",
       "      <td>0.014355</td>\n",
       "    </tr>\n",
       "    <tr>\n",
       "      <th>title_Mr</th>\n",
       "      <td>-0.554277</td>\n",
       "      <td>-0.134185</td>\n",
       "      <td>-0.038110</td>\n",
       "      <td>0.119462</td>\n",
       "      <td>0.870356</td>\n",
       "      <td>-0.297919</td>\n",
       "      <td>-0.112694</td>\n",
       "      <td>0.043480</td>\n",
       "      <td>0.001608</td>\n",
       "      <td>0.160292</td>\n",
       "      <td>...</td>\n",
       "      <td>-0.055760</td>\n",
       "      <td>0.136663</td>\n",
       "      <td>-0.080003</td>\n",
       "      <td>0.109586</td>\n",
       "      <td>1.000000</td>\n",
       "      <td>-0.867450</td>\n",
       "      <td>-0.170030</td>\n",
       "      <td>-0.151171</td>\n",
       "      <td>-0.302318</td>\n",
       "      <td>0.387779</td>\n",
       "    </tr>\n",
       "    <tr>\n",
       "      <th>title_female_titles</th>\n",
       "      <td>0.542407</td>\n",
       "      <td>0.144656</td>\n",
       "      <td>0.030251</td>\n",
       "      <td>-0.114289</td>\n",
       "      <td>-0.996661</td>\n",
       "      <td>0.075795</td>\n",
       "      <td>-0.004320</td>\n",
       "      <td>-0.042818</td>\n",
       "      <td>0.037381</td>\n",
       "      <td>-0.119196</td>\n",
       "      <td>...</td>\n",
       "      <td>0.043273</td>\n",
       "      <td>-0.136047</td>\n",
       "      <td>0.089683</td>\n",
       "      <td>-0.114174</td>\n",
       "      <td>-0.867450</td>\n",
       "      <td>1.000000</td>\n",
       "      <td>-0.107783</td>\n",
       "      <td>0.062962</td>\n",
       "      <td>0.259121</td>\n",
       "      <td>-0.288785</td>\n",
       "    </tr>\n",
       "    <tr>\n",
       "      <th>famsize_small-family</th>\n",
       "      <td>0.282380</td>\n",
       "      <td>0.231587</td>\n",
       "      <td>0.097158</td>\n",
       "      <td>-0.224638</td>\n",
       "      <td>-0.256604</td>\n",
       "      <td>0.139200</td>\n",
       "      <td>0.136006</td>\n",
       "      <td>0.018917</td>\n",
       "      <td>-0.177266</td>\n",
       "      <td>-0.205168</td>\n",
       "      <td>...</td>\n",
       "      <td>0.050148</td>\n",
       "      <td>-0.212228</td>\n",
       "      <td>-0.122850</td>\n",
       "      <td>-0.062823</td>\n",
       "      <td>-0.302318</td>\n",
       "      <td>0.259121</td>\n",
       "      <td>-0.000236</td>\n",
       "      <td>-0.136912</td>\n",
       "      <td>1.000000</td>\n",
       "      <td>-0.873084</td>\n",
       "    </tr>\n",
       "    <tr>\n",
       "      <th>famsize_solo</th>\n",
       "      <td>-0.206238</td>\n",
       "      <td>-0.048199</td>\n",
       "      <td>-0.034660</td>\n",
       "      <td>0.139687</td>\n",
       "      <td>0.285910</td>\n",
       "      <td>-0.303177</td>\n",
       "      <td>-0.118745</td>\n",
       "      <td>-0.017295</td>\n",
       "      <td>0.206470</td>\n",
       "      <td>0.234678</td>\n",
       "      <td>...</td>\n",
       "      <td>-0.030035</td>\n",
       "      <td>0.176985</td>\n",
       "      <td>0.127701</td>\n",
       "      <td>0.014355</td>\n",
       "      <td>0.387779</td>\n",
       "      <td>-0.288785</td>\n",
       "      <td>0.018895</td>\n",
       "      <td>-0.238249</td>\n",
       "      <td>-0.873084</td>\n",
       "      <td>1.000000</td>\n",
       "    </tr>\n",
       "  </tbody>\n",
       "</table>\n",
       "<p>15 rows × 31 columns</p>\n",
       "</div>"
      ],
      "text/plain": [
       "                        Survived  ticket_sr  Pclass_2  Pclass_3  Sex_male  \\\n",
       "Survived                1.000000   0.522770  0.096670 -0.318009 -0.547626   \n",
       "ticket_sr               0.522770   1.000000  0.031616 -0.255704 -0.147899   \n",
       "Pclass_3               -0.318009  -0.255704 -0.566165  1.000000  0.117669   \n",
       "Sex_male               -0.547626  -0.147899 -0.028560  0.117669  1.000000   \n",
       "Age_infant              0.113667   0.072494  0.028524  0.007743  0.004624   \n",
       "Fare_(7.75, 7.896]     -0.132541  -0.012926 -0.170440  0.301043  0.120131   \n",
       "Fare_(56.496, 83.158]   0.126182   0.021090 -0.060133 -0.242523 -0.096797   \n",
       "Fare_(83.158, 512.329]  0.215854   0.304980 -0.148726 -0.312496 -0.167537   \n",
       "Cabin_DE                0.215854   0.130944 -0.063607 -0.272997 -0.070559   \n",
       "Cabin_N                -0.312789  -0.277230  0.175275  0.526521  0.141876   \n",
       "Embarked_S             -0.144804  -0.124193  0.195610 -0.007108  0.115470   \n",
       "title_Mr               -0.554277  -0.134185 -0.038110  0.119462  0.870356   \n",
       "title_female_titles     0.542407   0.144656  0.030251 -0.114289 -0.996661   \n",
       "famsize_small-family    0.282380   0.231587  0.097158 -0.224638 -0.256604   \n",
       "famsize_solo           -0.206238  -0.048199 -0.034660  0.139687  0.285910   \n",
       "\n",
       "                        Age_child  Age_infant  Age_senior  Fare_(7.25, 7.75]  \\\n",
       "Survived                 0.097519    0.113667   -0.091888          -0.035220   \n",
       "ticket_sr               -0.033669    0.072494   -0.004523          -0.010905   \n",
       "Pclass_3                 0.085188    0.007743   -0.084604           0.253975   \n",
       "Sex_male                -0.074825    0.004624    0.043144          -0.036459   \n",
       "Age_infant              -0.026994    1.000000   -0.011068          -0.026686   \n",
       "Fare_(7.75, 7.896]      -0.082051   -0.031632   -0.014921          -0.090953   \n",
       "Fare_(56.496, 83.158]   -0.056361   -0.027146    0.097061          -0.078057   \n",
       "Fare_(83.158, 512.329]  -0.024584    0.002718    0.018130          -0.079366   \n",
       "Cabin_DE                -0.051238   -0.025747    0.050572          -0.074033   \n",
       "Cabin_N                  0.044280    0.032459   -0.100474           0.112988   \n",
       "Embarked_S               0.041178    0.010281   -0.028339          -0.255116   \n",
       "title_Mr                -0.297919   -0.112694    0.043480           0.001608   \n",
       "title_female_titles      0.075795   -0.004320   -0.042818           0.037381   \n",
       "famsize_small-family     0.139200    0.136006    0.018917          -0.177266   \n",
       "famsize_solo            -0.303177   -0.118745   -0.017295           0.206470   \n",
       "\n",
       "                        Fare_(7.75, 7.896]      ...       Cabin_FG   Cabin_N  \\\n",
       "Survived                         -0.132541      ...       0.059632 -0.312789   \n",
       "ticket_sr                        -0.012926      ...       0.078563 -0.277230   \n",
       "Pclass_3                          0.301043      ...      -0.012392  0.526521   \n",
       "Sex_male                          0.120131      ...      -0.042775  0.141876   \n",
       "Age_infant                       -0.031632      ...      -0.013735  0.032459   \n",
       "Fare_(7.75, 7.896]                1.000000      ...      -0.046815  0.176285   \n",
       "Fare_(56.496, 83.158]            -0.092523      ...      -0.040177 -0.285384   \n",
       "Fare_(83.158, 512.329]           -0.094075      ...      -0.040850 -0.443376   \n",
       "Cabin_DE                         -0.087754      ...      -0.038105 -0.497794   \n",
       "Cabin_N                           0.176285      ...      -0.265561  1.000000   \n",
       "Embarked_S                        0.095756      ...       0.045165  0.135507   \n",
       "title_Mr                          0.160292      ...      -0.055760  0.136663   \n",
       "title_female_titles              -0.119196      ...       0.043273 -0.136047   \n",
       "famsize_small-family             -0.205168      ...       0.050148 -0.212228   \n",
       "famsize_solo                      0.234678      ...      -0.030035  0.176985   \n",
       "\n",
       "                        Embarked_Q  Embarked_S  title_Mr  title_female_titles  \\\n",
       "Survived                  0.005429   -0.144804 -0.554277             0.542407   \n",
       "ticket_sr                -0.035704   -0.124193 -0.134185             0.144656   \n",
       "Pclass_3                  0.243112   -0.007108  0.119462            -0.114289   \n",
       "Sex_male                 -0.088564    0.115470  0.870356            -0.996661   \n",
       "Age_infant               -0.031077    0.010281 -0.112694            -0.004320   \n",
       "Fare_(7.75, 7.896]        0.026810    0.095756  0.160292            -0.119196   \n",
       "Fare_(56.496, 83.158]    -0.090901   -0.104588 -0.091917             0.091658   \n",
       "Fare_(83.158, 512.329]   -0.062709   -0.154352 -0.165237             0.168617   \n",
       "Cabin_DE                 -0.075700   -0.040266 -0.045196             0.065063   \n",
       "Cabin_N                   0.141728    0.135507  0.136663            -0.136047   \n",
       "Embarked_S               -0.494108    1.000000  0.109586            -0.114174   \n",
       "title_Mr                 -0.080003    0.109586  1.000000            -0.867450   \n",
       "title_female_titles       0.089683   -0.114174 -0.867450             1.000000   \n",
       "famsize_small-family     -0.122850   -0.062823 -0.302318             0.259121   \n",
       "famsize_solo              0.127701    0.014355  0.387779            -0.288785   \n",
       "\n",
       "                        title_others  famsize_mid-family  \\\n",
       "Survived                   -0.020648           -0.094040   \n",
       "ticket_sr                   0.027725           -0.251104   \n",
       "Pclass_3                   -0.158532            0.069889   \n",
       "Sex_male                    0.085663           -0.062282   \n",
       "Age_infant                 -0.014003           -0.018621   \n",
       "Fare_(7.75, 7.896]         -0.047725           -0.063466   \n",
       "Fare_(56.496, 83.158]       0.041527           -0.054467   \n",
       "Fare_(83.158, 512.329]      0.019350            0.115473   \n",
       "Cabin_DE                   -0.017265           -0.051659   \n",
       "Cabin_N                    -0.076968           -0.004771   \n",
       "Embarked_S                 -0.022710            0.027366   \n",
       "title_Mr                   -0.170030           -0.151171   \n",
       "title_female_titles        -0.107783            0.062962   \n",
       "famsize_small-family       -0.000236           -0.136912   \n",
       "famsize_solo                0.018895           -0.238249   \n",
       "\n",
       "                        famsize_small-family  famsize_solo  \n",
       "Survived                            0.282380     -0.206238  \n",
       "ticket_sr                           0.231587     -0.048199  \n",
       "Pclass_3                           -0.224638      0.139687  \n",
       "Sex_male                           -0.256604      0.285910  \n",
       "Age_infant                          0.136006     -0.118745  \n",
       "Fare_(7.75, 7.896]                 -0.205168      0.234678  \n",
       "Fare_(56.496, 83.158]               0.192459     -0.215345  \n",
       "Fare_(83.158, 512.329]              0.152928     -0.175701  \n",
       "Cabin_DE                            0.123311     -0.084554  \n",
       "Cabin_N                            -0.212228      0.176985  \n",
       "Embarked_S                         -0.062823      0.014355  \n",
       "title_Mr                           -0.302318      0.387779  \n",
       "title_female_titles                 0.259121     -0.288785  \n",
       "famsize_small-family                1.000000     -0.873084  \n",
       "famsize_solo                       -0.873084      1.000000  \n",
       "\n",
       "[15 rows x 31 columns]"
      ]
     },
     "execution_count": 167,
     "metadata": {},
     "output_type": "execute_result"
    }
   ],
   "source": [
    "corr"
   ]
  },
  {
   "cell_type": "code",
   "execution_count": 168,
   "metadata": {},
   "outputs": [
    {
     "data": {
      "text/plain": [
       "<matplotlib.axes._subplots.AxesSubplot at 0x6dfcc85f28>"
      ]
     },
     "execution_count": 168,
     "metadata": {},
     "output_type": "execute_result"
    },
    {
     "data": {
      "image/png": "[encoded data removed]",
      "text/plain": [
       "<Figure size 432x288 with 1 Axes>"
      ]
     },
     "metadata": {
      "needs_background": "light"
     },
     "output_type": "display_data"
    }
   ],
   "source": [
    "corr['Survived'].sort_values(ascending=False).drop('Survived').plot(kind='bar')"
   ]
  },
  {
   "cell_type": "markdown",
   "metadata": {},
   "source": [
    "### Machine Learning Models"
   ]
  },
  {
   "cell_type": "code",
   "execution_count": 169,
   "metadata": {},
   "outputs": [],
   "source": [
    "# prepare for modelling\n",
    "train, test = whole_df.xs(0),whole_df.xs(1)"
   ]
  },
  {
   "cell_type": "code",
   "execution_count": 170,
   "metadata": {},
   "outputs": [],
   "source": [
    "y=train['Survived'].astype(int)\n",
    "X = train.drop(labels=['Survived','PassengerId'],axis=1)"
   ]
  },
  {
   "cell_type": "code",
   "execution_count": 171,
   "metadata": {},
   "outputs": [],
   "source": [
    "X_train, X_test, y_train, y_test = train_test_split(X,y,test_size=0.3,random_state=24)"
   ]
  },
  {
   "cell_type": "code",
   "execution_count": 172,
   "metadata": {},
   "outputs": [],
   "source": [
    "X_final,IDs = test.drop(labels=['PassengerId','Survived'],axis=1), test['PassengerId']"
   ]
  },
  {
   "cell_type": "code",
   "execution_count": 173,
   "metadata": {},
   "outputs": [],
   "source": [
    "# import some libraries for Machine Learning\n",
    "\n",
    "from sklearn.model_selection import GridSearchCV\n",
    "from sklearn.metrics import accuracy_score\n",
    "from sklearn.ensemble import AdaBoostClassifier\n",
    "from sklearn.model_selection import cross_val_score,StratifiedKFold, KFold\n",
    "from sklearn import metrics\n",
    "from sklearn.svm import SVC\n",
    "from sklearn.ensemble import AdaBoostClassifier,BaggingClassifier,ExtraTreesClassifier,GradientBoostingClassifier,RandomForestClassifier\n",
    "from sklearn.linear_model import LogisticRegression, RidgeClassifier\n",
    "from sklearn.neighbors import KNeighborsClassifier\n",
    "from sklearn.tree import DecisionTreeClassifier, ExtraTreeClassifier"
   ]
  },
  {
   "cell_type": "markdown",
   "metadata": {},
   "source": [
    "Get the features with high correlation from correlation table"
   ]
  },
  {
   "cell_type": "code",
   "execution_count": 174,
   "metadata": {},
   "outputs": [
    {
     "data": {
      "text/plain": [
       "Index(['title_Mr', 'Sex_male', 'Pclass_3', 'Cabin_N', 'famsize_solo',\n",
       "       'Embarked_S', 'Fare_(7.75, 7.896]', 'Age_infant',\n",
       "       'Fare_(56.496, 83.158]', 'Fare_(83.158, 512.329]', 'Cabin_DE',\n",
       "       'famsize_small-family', 'ticket_sr', 'title_female_titles'],\n",
       "      dtype='object')"
      ]
     },
     "execution_count": 174,
     "metadata": {},
     "output_type": "execute_result"
    }
   ],
   "source": [
    "# getting features of high correlation\n",
    "thresh = 0.1\n",
    "corr = train.drop('PassengerId',axis=1).corr()\n",
    "corr= corr[(corr['Survived']>thresh) | (corr['Survived']< -thresh)].drop('Survived')\n",
    "selected_features = corr.sort_values('Survived').index\n",
    "selected_features"
   ]
  },
  {
   "cell_type": "markdown",
   "metadata": {},
   "source": [
    "Test multiple machine learning algorithms on dataset. The goal is to find best model, value test accuracy over train accuracy and if test acc is way higher than train acc this means overfitting"
   ]
  },
  {
   "cell_type": "code",
   "execution_count": 175,
   "metadata": {},
   "outputs": [],
   "source": [
    "# make visualizations of score of different models\n",
    "def make_benchmark(X,y, scoring='accuracy',cv=5):\n",
    "    folds = StratifiedKFold(n_splits=cv)\n",
    "    models = [SVC(gamma='auto'),\n",
    "              DecisionTreeClassifier(),\n",
    "              KNeighborsClassifier(),\n",
    "              ExtraTreeClassifier(),\n",
    "              LogisticRegression(max_iter=10000,solver='lbfgs'),\n",
    "               RidgeClassifier(),\n",
    "              AdaBoostClassifier(),\n",
    "              BaggingClassifier(),\n",
    "              RandomForestClassifier()]\n",
    "    names=['SVM',\n",
    "          'Decision Tree',\n",
    "          'KNN',\n",
    "           'Extra Trees',\n",
    "          'Logistic Regression',\n",
    "          'Ridge classifier',\n",
    "          'AdaBoost',\n",
    "          'Bagging Classifier',\n",
    "          'Random Forest']\n",
    "    scores= [np.mean(cross_val_score(model,X,y,cv=folds,scoring=scoring)) \n",
    "             for model in models]\n",
    "    \n",
    "    return pd.DataFrame({'model_name':names,\n",
    "                        'model':models,\n",
    "                        scoring+'_score':scores})\n",
    "    "
   ]
  },
  {
   "cell_type": "code",
   "execution_count": 176,
   "metadata": {},
   "outputs": [],
   "source": [
    "folds = StratifiedKFold(n_splits=5)"
   ]
  },
  {
   "cell_type": "code",
   "execution_count": 177,
   "metadata": {},
   "outputs": [
    {
     "data": {
      "text/plain": [
       "Text(0.5,1,'Models Score Benchmark')"
      ]
     },
     "execution_count": 177,
     "metadata": {},
     "output_type": "execute_result"
    },
    {
     "data": {
      "image/png": "[encoded data removed]",
      "text/plain": [
       "<Figure size 432x288 with 1 Axes>"
      ]
     },
     "metadata": {
      "needs_background": "light"
     },
     "output_type": "display_data"
    }
   ],
   "source": [
    "bench = make_benchmark(X,y,cv=5)\n",
    "sns.barplot(x='accuracy_score',y='model_name',data=bench.sort_values('accuracy_score',ascending=False)).set_title(\"Models Score Benchmark\")"
   ]
  },
  {
   "cell_type": "code",
   "execution_count": 178,
   "metadata": {},
   "outputs": [
    {
     "data": {
      "text/plain": [
       "Text(0.5,1,'Models Score Benchmark')"
      ]
     },
     "execution_count": 178,
     "metadata": {},
     "output_type": "execute_result"
    },
    {
     "data": {
      "image/png": "[encoded data removed]",
      "text/plain": [
       "<Figure size 432x288 with 1 Axes>"
      ]
     },
     "metadata": {
      "needs_background": "light"
     },
     "output_type": "display_data"
    }
   ],
   "source": [
    "# do benchmark for selected features now that had corr > 0.1\n",
    "bench = make_benchmark(X[selected_features],y,cv=5)\n",
    "sns.barplot(x='accuracy_score',y='model_name',data=bench.sort_values('accuracy_score',ascending=False)).set_title(\"Models Score Benchmark\")"
   ]
  },
  {
   "cell_type": "markdown",
   "metadata": {},
   "source": [
    "Best model seems to be RANDOM FOREST, lets optimize this model "
   ]
  },
  {
   "cell_type": "code",
   "execution_count": 70,
   "metadata": {
    "scrolled": true
   },
   "outputs": [
    {
     "name": "stdout",
     "output_type": "stream",
     "text": [
      "Fitting 5 folds for each of 180 candidates, totalling 900 fits\n",
      "[CV] class_weight=balanced, criterion=gini, max_depth=3, max_features=auto, min_samples_split=20, n_estimators=150 \n",
      "[CV]  class_weight=balanced, criterion=gini, max_depth=3, max_features=auto, min_samples_split=20, n_estimators=150, total=   0.9s\n",
      "[CV] class_weight=balanced, criterion=gini, max_depth=3, max_features=auto, min_samples_split=20, n_estimators=150 \n"
     ]
    },
    {
     "name": "stderr",
     "output_type": "stream",
     "text": [
      "[Parallel(n_jobs=1)]: Done   1 out of   1 | elapsed:    0.9s remaining:    0.0s\n"
     ]
    },
    {
     "name": "stdout",
     "output_type": "stream",
     "text": [
      "[CV]  class_weight=balanced, criterion=gini, max_depth=3, max_features=auto, min_samples_split=20, n_estimators=150, total=   0.6s\n",
      "[CV] class_weight=balanced, criterion=gini, max_depth=3, max_features=auto, min_samples_split=20, n_estimators=150 \n",
      "[CV]  class_weight=balanced, criterion=gini, max_depth=3, max_features=auto, min_samples_split=20, n_estimators=150, total=   0.6s\n",
      "[CV] class_weight=balanced, criterion=gini, max_depth=3, max_features=auto, min_samples_split=20, n_estimators=150 \n",
      "[CV]  class_weight=balanced, criterion=gini, max_depth=3, max_features=auto, min_samples_split=20, n_estimators=150, total=   0.6s\n",
      "[CV] class_weight=balanced, criterion=gini, max_depth=3, max_features=auto, min_samples_split=20, n_estimators=150 \n",
      "[CV]  class_weight=balanced, criterion=gini, max_depth=3, max_features=auto, min_samples_split=20, n_estimators=150, total=   0.6s\n",
      "[CV] class_weight=balanced, criterion=gini, max_depth=3, max_features=auto, min_samples_split=20, n_estimators=200 \n",
      "[CV]  class_weight=balanced, criterion=gini, max_depth=3, max_features=auto, min_samples_split=20, n_estimators=200, total=   0.8s\n",
      "[CV] class_weight=balanced, criterion=gini, max_depth=3, max_features=auto, min_samples_split=20, n_estimators=200 \n",
      "[CV]  class_weight=balanced, criterion=gini, max_depth=3, max_features=auto, min_samples_split=20, n_estimators=200, total=   0.9s\n",
      "[CV] class_weight=balanced, criterion=gini, max_depth=3, max_features=auto, min_samples_split=20, n_estimators=200 \n",
      "[CV]  class_weight=balanced, criterion=gini, max_depth=3, max_features=auto, min_samples_split=20, n_estimators=200, total=   0.9s\n",
      "[CV] class_weight=balanced, criterion=gini, max_depth=3, max_features=auto, min_samples_split=20, n_estimators=200 \n",
      "[CV]  class_weight=balanced, criterion=gini, max_depth=3, max_features=auto, min_samples_split=20, n_estimators=200, total=   1.0s\n",
      "[CV] class_weight=balanced, criterion=gini, max_depth=3, max_features=auto, min_samples_split=20, n_estimators=200 \n",
      "[CV]  class_weight=balanced, criterion=gini, max_depth=3, max_features=auto, min_samples_split=20, n_estimators=200, total=   1.0s\n",
      "[CV] class_weight=balanced, criterion=gini, max_depth=3, max_features=auto, min_samples_split=20, n_estimators=300 \n",
      "[CV]  class_weight=balanced, criterion=gini, max_depth=3, max_features=auto, min_samples_split=20, n_estimators=300, total=   1.7s\n",
      "[CV] class_weight=balanced, criterion=gini, max_depth=3, max_features=auto, min_samples_split=20, n_estimators=300 \n",
      "[CV]  class_weight=balanced, criterion=gini, max_depth=3, max_features=auto, min_samples_split=20, n_estimators=300, total=   1.4s\n",
      "[CV] class_weight=balanced, criterion=gini, max_depth=3, max_features=auto, min_samples_split=20, n_estimators=300 \n",
      "[CV]  class_weight=balanced, criterion=gini, max_depth=3, max_features=auto, min_samples_split=20, n_estimators=300, total=   1.2s\n",
      "[CV] class_weight=balanced, criterion=gini, max_depth=3, max_features=auto, min_samples_split=20, n_estimators=300 \n",
      "[CV]  class_weight=balanced, criterion=gini, max_depth=3, max_features=auto, min_samples_split=20, n_estimators=300, total=   1.3s\n",
      "[CV] class_weight=balanced, criterion=gini, max_depth=3, max_features=auto, min_samples_split=20, n_estimators=300 \n",
      "[CV]  class_weight=balanced, criterion=gini, max_depth=3, max_features=auto, min_samples_split=20, n_estimators=300, total=   1.3s\n",
      "[CV] class_weight=balanced, criterion=gini, max_depth=3, max_features=auto, min_samples_split=15, n_estimators=150 \n",
      "[CV]  class_weight=balanced, criterion=gini, max_depth=3, max_features=auto, min_samples_split=15, n_estimators=150, total=   0.7s\n",
      "[CV] class_weight=balanced, criterion=gini, max_depth=3, max_features=auto, min_samples_split=15, n_estimators=150 \n",
      "[CV]  class_weight=balanced, criterion=gini, max_depth=3, max_features=auto, min_samples_split=15, n_estimators=150, total=   0.6s\n",
      "[CV] class_weight=balanced, criterion=gini, max_depth=3, max_features=auto, min_samples_split=15, n_estimators=150 \n",
      "[CV]  class_weight=balanced, criterion=gini, max_depth=3, max_features=auto, min_samples_split=15, n_estimators=150, total=   0.6s\n",
      "[CV] class_weight=balanced, criterion=gini, max_depth=3, max_features=auto, min_samples_split=15, n_estimators=150 \n",
      "[CV]  class_weight=balanced, criterion=gini, max_depth=3, max_features=auto, min_samples_split=15, n_estimators=150, total=   0.6s\n",
      "[CV] class_weight=balanced, criterion=gini, max_depth=3, max_features=auto, min_samples_split=15, n_estimators=150 \n",
      "[CV]  class_weight=balanced, criterion=gini, max_depth=3, max_features=auto, min_samples_split=15, n_estimators=150, total=   0.6s\n",
      "[CV] class_weight=balanced, criterion=gini, max_depth=3, max_features=auto, min_samples_split=15, n_estimators=200 \n",
      "[CV]  class_weight=balanced, criterion=gini, max_depth=3, max_features=auto, min_samples_split=15, n_estimators=200, total=   0.8s\n",
      "[CV] class_weight=balanced, criterion=gini, max_depth=3, max_features=auto, min_samples_split=15, n_estimators=200 \n",
      "[CV]  class_weight=balanced, criterion=gini, max_depth=3, max_features=auto, min_samples_split=15, n_estimators=200, total=   0.8s\n",
      "[CV] class_weight=balanced, criterion=gini, max_depth=3, max_features=auto, min_samples_split=15, n_estimators=200 \n",
      "[CV]  class_weight=balanced, criterion=gini, max_depth=3, max_features=auto, min_samples_split=15, n_estimators=200, total=   0.8s\n",
      "[CV] class_weight=balanced, criterion=gini, max_depth=3, max_features=auto, min_samples_split=15, n_estimators=200 \n",
      "[CV]  class_weight=balanced, criterion=gini, max_depth=3, max_features=auto, min_samples_split=15, n_estimators=200, total=   0.8s\n",
      "[CV] class_weight=balanced, criterion=gini, max_depth=3, max_features=auto, min_samples_split=15, n_estimators=200 \n",
      "[CV]  class_weight=balanced, criterion=gini, max_depth=3, max_features=auto, min_samples_split=15, n_estimators=200, total=   0.8s\n",
      "[CV] class_weight=balanced, criterion=gini, max_depth=3, max_features=auto, min_samples_split=15, n_estimators=300 \n",
      "[CV]  class_weight=balanced, criterion=gini, max_depth=3, max_features=auto, min_samples_split=15, n_estimators=300, total=   1.2s\n",
      "[CV] class_weight=balanced, criterion=gini, max_depth=3, max_features=auto, min_samples_split=15, n_estimators=300 \n",
      "[CV]  class_weight=balanced, criterion=gini, max_depth=3, max_features=auto, min_samples_split=15, n_estimators=300, total=   1.3s\n",
      "[CV] class_weight=balanced, criterion=gini, max_depth=3, max_features=auto, min_samples_split=15, n_estimators=300 \n",
      "[CV]  class_weight=balanced, criterion=gini, max_depth=3, max_features=auto, min_samples_split=15, n_estimators=300, total=   1.2s\n",
      "[CV] class_weight=balanced, criterion=gini, max_depth=3, max_features=auto, min_samples_split=15, n_estimators=300 \n",
      "[CV]  class_weight=balanced, criterion=gini, max_depth=3, max_features=auto, min_samples_split=15, n_estimators=300, total=   1.4s\n",
      "[CV] class_weight=balanced, criterion=gini, max_depth=3, max_features=auto, min_samples_split=15, n_estimators=300 \n",
      "[CV]  class_weight=balanced, criterion=gini, max_depth=3, max_features=auto, min_samples_split=15, n_estimators=300, total=   1.3s\n",
      "[CV] class_weight=balanced, criterion=gini, max_depth=3, max_features=auto, min_samples_split=10, n_estimators=150 \n",
      "[CV]  class_weight=balanced, criterion=gini, max_depth=3, max_features=auto, min_samples_split=10, n_estimators=150, total=   0.6s\n",
      "[CV] class_weight=balanced, criterion=gini, max_depth=3, max_features=auto, min_samples_split=10, n_estimators=150 \n",
      "[CV]  class_weight=balanced, criterion=gini, max_depth=3, max_features=auto, min_samples_split=10, n_estimators=150, total=   0.6s\n",
      "[CV] class_weight=balanced, criterion=gini, max_depth=3, max_features=auto, min_samples_split=10, n_estimators=150 \n",
      "[CV]  class_weight=balanced, criterion=gini, max_depth=3, max_features=auto, min_samples_split=10, n_estimators=150, total=   0.6s\n",
      "[CV] class_weight=balanced, criterion=gini, max_depth=3, max_features=auto, min_samples_split=10, n_estimators=150 \n",
      "[CV]  class_weight=balanced, criterion=gini, max_depth=3, max_features=auto, min_samples_split=10, n_estimators=150, total=   0.6s\n",
      "[CV] class_weight=balanced, criterion=gini, max_depth=3, max_features=auto, min_samples_split=10, n_estimators=150 \n",
      "[CV]  class_weight=balanced, criterion=gini, max_depth=3, max_features=auto, min_samples_split=10, n_estimators=150, total=   0.6s\n",
      "[CV] class_weight=balanced, criterion=gini, max_depth=3, max_features=auto, min_samples_split=10, n_estimators=200 \n"
     ]
    },
    {
     "name": "stdout",
     "output_type": "stream",
     "text": [
      "[CV]  class_weight=balanced, criterion=gini, max_depth=3, max_features=auto, min_samples_split=10, n_estimators=200, total=   0.8s\n",
      "[CV] class_weight=balanced, criterion=gini, max_depth=3, max_features=auto, min_samples_split=10, n_estimators=200 \n",
      "[CV]  class_weight=balanced, criterion=gini, max_depth=3, max_features=auto, min_samples_split=10, n_estimators=200, total=   0.8s\n",
      "[CV] class_weight=balanced, criterion=gini, max_depth=3, max_features=auto, min_samples_split=10, n_estimators=200 \n",
      "[CV]  class_weight=balanced, criterion=gini, max_depth=3, max_features=auto, min_samples_split=10, n_estimators=200, total=   0.8s\n",
      "[CV] class_weight=balanced, criterion=gini, max_depth=3, max_features=auto, min_samples_split=10, n_estimators=200 \n",
      "[CV]  class_weight=balanced, criterion=gini, max_depth=3, max_features=auto, min_samples_split=10, n_estimators=200, total=   0.8s\n",
      "[CV] class_weight=balanced, criterion=gini, max_depth=3, max_features=auto, min_samples_split=10, n_estimators=200 \n",
      "[CV]  class_weight=balanced, criterion=gini, max_depth=3, max_features=auto, min_samples_split=10, n_estimators=200, total=   0.8s\n",
      "[CV] class_weight=balanced, criterion=gini, max_depth=3, max_features=auto, min_samples_split=10, n_estimators=300 \n",
      "[CV]  class_weight=balanced, criterion=gini, max_depth=3, max_features=auto, min_samples_split=10, n_estimators=300, total=   1.3s\n",
      "[CV] class_weight=balanced, criterion=gini, max_depth=3, max_features=auto, min_samples_split=10, n_estimators=300 \n",
      "[CV]  class_weight=balanced, criterion=gini, max_depth=3, max_features=auto, min_samples_split=10, n_estimators=300, total=   1.2s\n",
      "[CV] class_weight=balanced, criterion=gini, max_depth=3, max_features=auto, min_samples_split=10, n_estimators=300 \n",
      "[CV]  class_weight=balanced, criterion=gini, max_depth=3, max_features=auto, min_samples_split=10, n_estimators=300, total=   1.3s\n",
      "[CV] class_weight=balanced, criterion=gini, max_depth=3, max_features=auto, min_samples_split=10, n_estimators=300 \n",
      "[CV]  class_weight=balanced, criterion=gini, max_depth=3, max_features=auto, min_samples_split=10, n_estimators=300, total=   1.2s\n",
      "[CV] class_weight=balanced, criterion=gini, max_depth=3, max_features=auto, min_samples_split=10, n_estimators=300 \n",
      "[CV]  class_weight=balanced, criterion=gini, max_depth=3, max_features=auto, min_samples_split=10, n_estimators=300, total=   1.4s\n",
      "[CV] class_weight=balanced, criterion=gini, max_depth=5, max_features=auto, min_samples_split=20, n_estimators=150 \n",
      "[CV]  class_weight=balanced, criterion=gini, max_depth=5, max_features=auto, min_samples_split=20, n_estimators=150, total=   0.7s\n",
      "[CV] class_weight=balanced, criterion=gini, max_depth=5, max_features=auto, min_samples_split=20, n_estimators=150 \n",
      "[CV]  class_weight=balanced, criterion=gini, max_depth=5, max_features=auto, min_samples_split=20, n_estimators=150, total=   0.6s\n",
      "[CV] class_weight=balanced, criterion=gini, max_depth=5, max_features=auto, min_samples_split=20, n_estimators=150 \n",
      "[CV]  class_weight=balanced, criterion=gini, max_depth=5, max_features=auto, min_samples_split=20, n_estimators=150, total=   0.6s\n",
      "[CV] class_weight=balanced, criterion=gini, max_depth=5, max_features=auto, min_samples_split=20, n_estimators=150 \n",
      "[CV]  class_weight=balanced, criterion=gini, max_depth=5, max_features=auto, min_samples_split=20, n_estimators=150, total=   0.6s\n",
      "[CV] class_weight=balanced, criterion=gini, max_depth=5, max_features=auto, min_samples_split=20, n_estimators=150 \n",
      "[CV]  class_weight=balanced, criterion=gini, max_depth=5, max_features=auto, min_samples_split=20, n_estimators=150, total=   0.6s\n",
      "[CV] class_weight=balanced, criterion=gini, max_depth=5, max_features=auto, min_samples_split=20, n_estimators=200 \n",
      "[CV]  class_weight=balanced, criterion=gini, max_depth=5, max_features=auto, min_samples_split=20, n_estimators=200, total=   0.8s\n",
      "[CV] class_weight=balanced, criterion=gini, max_depth=5, max_features=auto, min_samples_split=20, n_estimators=200 \n",
      "[CV]  class_weight=balanced, criterion=gini, max_depth=5, max_features=auto, min_samples_split=20, n_estimators=200, total=   0.8s\n",
      "[CV] class_weight=balanced, criterion=gini, max_depth=5, max_features=auto, min_samples_split=20, n_estimators=200 \n",
      "[CV]  class_weight=balanced, criterion=gini, max_depth=5, max_features=auto, min_samples_split=20, n_estimators=200, total=   0.8s\n",
      "[CV] class_weight=balanced, criterion=gini, max_depth=5, max_features=auto, min_samples_split=20, n_estimators=200 \n",
      "[CV]  class_weight=balanced, criterion=gini, max_depth=5, max_features=auto, min_samples_split=20, n_estimators=200, total=   0.8s\n",
      "[CV] class_weight=balanced, criterion=gini, max_depth=5, max_features=auto, min_samples_split=20, n_estimators=200 \n",
      "[CV]  class_weight=balanced, criterion=gini, max_depth=5, max_features=auto, min_samples_split=20, n_estimators=200, total=   0.8s\n",
      "[CV] class_weight=balanced, criterion=gini, max_depth=5, max_features=auto, min_samples_split=20, n_estimators=300 \n",
      "[CV]  class_weight=balanced, criterion=gini, max_depth=5, max_features=auto, min_samples_split=20, n_estimators=300, total=   1.3s\n",
      "[CV] class_weight=balanced, criterion=gini, max_depth=5, max_features=auto, min_samples_split=20, n_estimators=300 \n",
      "[CV]  class_weight=balanced, criterion=gini, max_depth=5, max_features=auto, min_samples_split=20, n_estimators=300, total=   1.3s\n",
      "[CV] class_weight=balanced, criterion=gini, max_depth=5, max_features=auto, min_samples_split=20, n_estimators=300 \n",
      "[CV]  class_weight=balanced, criterion=gini, max_depth=5, max_features=auto, min_samples_split=20, n_estimators=300, total=   1.3s\n",
      "[CV] class_weight=balanced, criterion=gini, max_depth=5, max_features=auto, min_samples_split=20, n_estimators=300 \n",
      "[CV]  class_weight=balanced, criterion=gini, max_depth=5, max_features=auto, min_samples_split=20, n_estimators=300, total=   1.3s\n",
      "[CV] class_weight=balanced, criterion=gini, max_depth=5, max_features=auto, min_samples_split=20, n_estimators=300 \n",
      "[CV]  class_weight=balanced, criterion=gini, max_depth=5, max_features=auto, min_samples_split=20, n_estimators=300, total=   1.3s\n",
      "[CV] class_weight=balanced, criterion=gini, max_depth=5, max_features=auto, min_samples_split=15, n_estimators=150 \n",
      "[CV]  class_weight=balanced, criterion=gini, max_depth=5, max_features=auto, min_samples_split=15, n_estimators=150, total=   0.6s\n",
      "[CV] class_weight=balanced, criterion=gini, max_depth=5, max_features=auto, min_samples_split=15, n_estimators=150 \n",
      "[CV]  class_weight=balanced, criterion=gini, max_depth=5, max_features=auto, min_samples_split=15, n_estimators=150, total=   0.6s\n",
      "[CV] class_weight=balanced, criterion=gini, max_depth=5, max_features=auto, min_samples_split=15, n_estimators=150 \n",
      "[CV]  class_weight=balanced, criterion=gini, max_depth=5, max_features=auto, min_samples_split=15, n_estimators=150, total=   0.6s\n",
      "[CV] class_weight=balanced, criterion=gini, max_depth=5, max_features=auto, min_samples_split=15, n_estimators=150 \n",
      "[CV]  class_weight=balanced, criterion=gini, max_depth=5, max_features=auto, min_samples_split=15, n_estimators=150, total=   0.6s\n",
      "[CV] class_weight=balanced, criterion=gini, max_depth=5, max_features=auto, min_samples_split=15, n_estimators=150 \n",
      "[CV]  class_weight=balanced, criterion=gini, max_depth=5, max_features=auto, min_samples_split=15, n_estimators=150, total=   0.6s\n",
      "[CV] class_weight=balanced, criterion=gini, max_depth=5, max_features=auto, min_samples_split=15, n_estimators=200 \n",
      "[CV]  class_weight=balanced, criterion=gini, max_depth=5, max_features=auto, min_samples_split=15, n_estimators=200, total=   0.8s\n",
      "[CV] class_weight=balanced, criterion=gini, max_depth=5, max_features=auto, min_samples_split=15, n_estimators=200 \n",
      "[CV]  class_weight=balanced, criterion=gini, max_depth=5, max_features=auto, min_samples_split=15, n_estimators=200, total=   0.8s\n",
      "[CV] class_weight=balanced, criterion=gini, max_depth=5, max_features=auto, min_samples_split=15, n_estimators=200 \n",
      "[CV]  class_weight=balanced, criterion=gini, max_depth=5, max_features=auto, min_samples_split=15, n_estimators=200, total=   0.8s\n",
      "[CV] class_weight=balanced, criterion=gini, max_depth=5, max_features=auto, min_samples_split=15, n_estimators=200 \n",
      "[CV]  class_weight=balanced, criterion=gini, max_depth=5, max_features=auto, min_samples_split=15, n_estimators=200, total=   0.8s\n",
      "[CV] class_weight=balanced, criterion=gini, max_depth=5, max_features=auto, min_samples_split=15, n_estimators=200 \n"
     ]
    },
    {
     "name": "stdout",
     "output_type": "stream",
     "text": [
      "[CV]  class_weight=balanced, criterion=gini, max_depth=5, max_features=auto, min_samples_split=15, n_estimators=200, total=   0.8s\n",
      "[CV] class_weight=balanced, criterion=gini, max_depth=5, max_features=auto, min_samples_split=15, n_estimators=300 \n",
      "[CV]  class_weight=balanced, criterion=gini, max_depth=5, max_features=auto, min_samples_split=15, n_estimators=300, total=   1.3s\n",
      "[CV] class_weight=balanced, criterion=gini, max_depth=5, max_features=auto, min_samples_split=15, n_estimators=300 \n",
      "[CV]  class_weight=balanced, criterion=gini, max_depth=5, max_features=auto, min_samples_split=15, n_estimators=300, total=   1.3s\n",
      "[CV] class_weight=balanced, criterion=gini, max_depth=5, max_features=auto, min_samples_split=15, n_estimators=300 \n",
      "[CV]  class_weight=balanced, criterion=gini, max_depth=5, max_features=auto, min_samples_split=15, n_estimators=300, total=   1.3s\n",
      "[CV] class_weight=balanced, criterion=gini, max_depth=5, max_features=auto, min_samples_split=15, n_estimators=300 \n",
      "[CV]  class_weight=balanced, criterion=gini, max_depth=5, max_features=auto, min_samples_split=15, n_estimators=300, total=   1.4s\n",
      "[CV] class_weight=balanced, criterion=gini, max_depth=5, max_features=auto, min_samples_split=15, n_estimators=300 \n",
      "[CV]  class_weight=balanced, criterion=gini, max_depth=5, max_features=auto, min_samples_split=15, n_estimators=300, total=   1.3s\n",
      "[CV] class_weight=balanced, criterion=gini, max_depth=5, max_features=auto, min_samples_split=10, n_estimators=150 \n",
      "[CV]  class_weight=balanced, criterion=gini, max_depth=5, max_features=auto, min_samples_split=10, n_estimators=150, total=   0.6s\n",
      "[CV] class_weight=balanced, criterion=gini, max_depth=5, max_features=auto, min_samples_split=10, n_estimators=150 \n",
      "[CV]  class_weight=balanced, criterion=gini, max_depth=5, max_features=auto, min_samples_split=10, n_estimators=150, total=   0.6s\n",
      "[CV] class_weight=balanced, criterion=gini, max_depth=5, max_features=auto, min_samples_split=10, n_estimators=150 \n",
      "[CV]  class_weight=balanced, criterion=gini, max_depth=5, max_features=auto, min_samples_split=10, n_estimators=150, total=   0.6s\n",
      "[CV] class_weight=balanced, criterion=gini, max_depth=5, max_features=auto, min_samples_split=10, n_estimators=150 \n",
      "[CV]  class_weight=balanced, criterion=gini, max_depth=5, max_features=auto, min_samples_split=10, n_estimators=150, total=   0.6s\n",
      "[CV] class_weight=balanced, criterion=gini, max_depth=5, max_features=auto, min_samples_split=10, n_estimators=150 \n",
      "[CV]  class_weight=balanced, criterion=gini, max_depth=5, max_features=auto, min_samples_split=10, n_estimators=150, total=   0.7s\n",
      "[CV] class_weight=balanced, criterion=gini, max_depth=5, max_features=auto, min_samples_split=10, n_estimators=200 \n",
      "[CV]  class_weight=balanced, criterion=gini, max_depth=5, max_features=auto, min_samples_split=10, n_estimators=200, total=   0.8s\n",
      "[CV] class_weight=balanced, criterion=gini, max_depth=5, max_features=auto, min_samples_split=10, n_estimators=200 \n",
      "[CV]  class_weight=balanced, criterion=gini, max_depth=5, max_features=auto, min_samples_split=10, n_estimators=200, total=   0.8s\n",
      "[CV] class_weight=balanced, criterion=gini, max_depth=5, max_features=auto, min_samples_split=10, n_estimators=200 \n",
      "[CV]  class_weight=balanced, criterion=gini, max_depth=5, max_features=auto, min_samples_split=10, n_estimators=200, total=   0.8s\n",
      "[CV] class_weight=balanced, criterion=gini, max_depth=5, max_features=auto, min_samples_split=10, n_estimators=200 \n",
      "[CV]  class_weight=balanced, criterion=gini, max_depth=5, max_features=auto, min_samples_split=10, n_estimators=200, total=   0.8s\n",
      "[CV] class_weight=balanced, criterion=gini, max_depth=5, max_features=auto, min_samples_split=10, n_estimators=200 \n",
      "[CV]  class_weight=balanced, criterion=gini, max_depth=5, max_features=auto, min_samples_split=10, n_estimators=200, total=   0.8s\n",
      "[CV] class_weight=balanced, criterion=gini, max_depth=5, max_features=auto, min_samples_split=10, n_estimators=300 \n",
      "[CV]  class_weight=balanced, criterion=gini, max_depth=5, max_features=auto, min_samples_split=10, n_estimators=300, total=   1.3s\n",
      "[CV] class_weight=balanced, criterion=gini, max_depth=5, max_features=auto, min_samples_split=10, n_estimators=300 \n",
      "[CV]  class_weight=balanced, criterion=gini, max_depth=5, max_features=auto, min_samples_split=10, n_estimators=300, total=   1.3s\n",
      "[CV] class_weight=balanced, criterion=gini, max_depth=5, max_features=auto, min_samples_split=10, n_estimators=300 \n",
      "[CV]  class_weight=balanced, criterion=gini, max_depth=5, max_features=auto, min_samples_split=10, n_estimators=300, total=   1.3s\n",
      "[CV] class_weight=balanced, criterion=gini, max_depth=5, max_features=auto, min_samples_split=10, n_estimators=300 \n",
      "[CV]  class_weight=balanced, criterion=gini, max_depth=5, max_features=auto, min_samples_split=10, n_estimators=300, total=   1.3s\n",
      "[CV] class_weight=balanced, criterion=gini, max_depth=5, max_features=auto, min_samples_split=10, n_estimators=300 \n",
      "[CV]  class_weight=balanced, criterion=gini, max_depth=5, max_features=auto, min_samples_split=10, n_estimators=300, total=   1.3s\n",
      "[CV] class_weight=balanced, criterion=gini, max_depth=7, max_features=auto, min_samples_split=20, n_estimators=150 \n",
      "[CV]  class_weight=balanced, criterion=gini, max_depth=7, max_features=auto, min_samples_split=20, n_estimators=150, total=   0.6s\n",
      "[CV] class_weight=balanced, criterion=gini, max_depth=7, max_features=auto, min_samples_split=20, n_estimators=150 \n",
      "[CV]  class_weight=balanced, criterion=gini, max_depth=7, max_features=auto, min_samples_split=20, n_estimators=150, total=   0.6s\n",
      "[CV] class_weight=balanced, criterion=gini, max_depth=7, max_features=auto, min_samples_split=20, n_estimators=150 \n",
      "[CV]  class_weight=balanced, criterion=gini, max_depth=7, max_features=auto, min_samples_split=20, n_estimators=150, total=   0.6s\n",
      "[CV] class_weight=balanced, criterion=gini, max_depth=7, max_features=auto, min_samples_split=20, n_estimators=150 \n",
      "[CV]  class_weight=balanced, criterion=gini, max_depth=7, max_features=auto, min_samples_split=20, n_estimators=150, total=   0.6s\n",
      "[CV] class_weight=balanced, criterion=gini, max_depth=7, max_features=auto, min_samples_split=20, n_estimators=150 \n",
      "[CV]  class_weight=balanced, criterion=gini, max_depth=7, max_features=auto, min_samples_split=20, n_estimators=150, total=   0.6s\n",
      "[CV] class_weight=balanced, criterion=gini, max_depth=7, max_features=auto, min_samples_split=20, n_estimators=200 \n",
      "[CV]  class_weight=balanced, criterion=gini, max_depth=7, max_features=auto, min_samples_split=20, n_estimators=200, total=   0.9s\n",
      "[CV] class_weight=balanced, criterion=gini, max_depth=7, max_features=auto, min_samples_split=20, n_estimators=200 \n",
      "[CV]  class_weight=balanced, criterion=gini, max_depth=7, max_features=auto, min_samples_split=20, n_estimators=200, total=   0.9s\n",
      "[CV] class_weight=balanced, criterion=gini, max_depth=7, max_features=auto, min_samples_split=20, n_estimators=200 \n",
      "[CV]  class_weight=balanced, criterion=gini, max_depth=7, max_features=auto, min_samples_split=20, n_estimators=200, total=   0.8s\n",
      "[CV] class_weight=balanced, criterion=gini, max_depth=7, max_features=auto, min_samples_split=20, n_estimators=200 \n",
      "[CV]  class_weight=balanced, criterion=gini, max_depth=7, max_features=auto, min_samples_split=20, n_estimators=200, total=   0.9s\n",
      "[CV] class_weight=balanced, criterion=gini, max_depth=7, max_features=auto, min_samples_split=20, n_estimators=200 \n",
      "[CV]  class_weight=balanced, criterion=gini, max_depth=7, max_features=auto, min_samples_split=20, n_estimators=200, total=   1.3s\n",
      "[CV] class_weight=balanced, criterion=gini, max_depth=7, max_features=auto, min_samples_split=20, n_estimators=300 \n",
      "[CV]  class_weight=balanced, criterion=gini, max_depth=7, max_features=auto, min_samples_split=20, n_estimators=300, total=   1.7s\n",
      "[CV] class_weight=balanced, criterion=gini, max_depth=7, max_features=auto, min_samples_split=20, n_estimators=300 \n",
      "[CV]  class_weight=balanced, criterion=gini, max_depth=7, max_features=auto, min_samples_split=20, n_estimators=300, total=   1.5s\n",
      "[CV] class_weight=balanced, criterion=gini, max_depth=7, max_features=auto, min_samples_split=20, n_estimators=300 \n",
      "[CV]  class_weight=balanced, criterion=gini, max_depth=7, max_features=auto, min_samples_split=20, n_estimators=300, total=   1.4s\n",
      "[CV] class_weight=balanced, criterion=gini, max_depth=7, max_features=auto, min_samples_split=20, n_estimators=300 \n"
     ]
    },
    {
     "name": "stdout",
     "output_type": "stream",
     "text": [
      "[CV]  class_weight=balanced, criterion=gini, max_depth=7, max_features=auto, min_samples_split=20, n_estimators=300, total=   1.6s\n",
      "[CV] class_weight=balanced, criterion=gini, max_depth=7, max_features=auto, min_samples_split=20, n_estimators=300 \n",
      "[CV]  class_weight=balanced, criterion=gini, max_depth=7, max_features=auto, min_samples_split=20, n_estimators=300, total=   1.6s\n",
      "[CV] class_weight=balanced, criterion=gini, max_depth=7, max_features=auto, min_samples_split=15, n_estimators=150 \n",
      "[CV]  class_weight=balanced, criterion=gini, max_depth=7, max_features=auto, min_samples_split=15, n_estimators=150, total=   0.8s\n",
      "[CV] class_weight=balanced, criterion=gini, max_depth=7, max_features=auto, min_samples_split=15, n_estimators=150 \n",
      "[CV]  class_weight=balanced, criterion=gini, max_depth=7, max_features=auto, min_samples_split=15, n_estimators=150, total=   0.8s\n",
      "[CV] class_weight=balanced, criterion=gini, max_depth=7, max_features=auto, min_samples_split=15, n_estimators=150 \n",
      "[CV]  class_weight=balanced, criterion=gini, max_depth=7, max_features=auto, min_samples_split=15, n_estimators=150, total=   1.0s\n",
      "[CV] class_weight=balanced, criterion=gini, max_depth=7, max_features=auto, min_samples_split=15, n_estimators=150 \n",
      "[CV]  class_weight=balanced, criterion=gini, max_depth=7, max_features=auto, min_samples_split=15, n_estimators=150, total=   0.9s\n",
      "[CV] class_weight=balanced, criterion=gini, max_depth=7, max_features=auto, min_samples_split=15, n_estimators=150 \n",
      "[CV]  class_weight=balanced, criterion=gini, max_depth=7, max_features=auto, min_samples_split=15, n_estimators=150, total=   1.0s\n",
      "[CV] class_weight=balanced, criterion=gini, max_depth=7, max_features=auto, min_samples_split=15, n_estimators=200 \n",
      "[CV]  class_weight=balanced, criterion=gini, max_depth=7, max_features=auto, min_samples_split=15, n_estimators=200, total=   1.3s\n",
      "[CV] class_weight=balanced, criterion=gini, max_depth=7, max_features=auto, min_samples_split=15, n_estimators=200 \n",
      "[CV]  class_weight=balanced, criterion=gini, max_depth=7, max_features=auto, min_samples_split=15, n_estimators=200, total=   1.2s\n",
      "[CV] class_weight=balanced, criterion=gini, max_depth=7, max_features=auto, min_samples_split=15, n_estimators=200 \n",
      "[CV]  class_weight=balanced, criterion=gini, max_depth=7, max_features=auto, min_samples_split=15, n_estimators=200, total=   1.2s\n",
      "[CV] class_weight=balanced, criterion=gini, max_depth=7, max_features=auto, min_samples_split=15, n_estimators=200 \n",
      "[CV]  class_weight=balanced, criterion=gini, max_depth=7, max_features=auto, min_samples_split=15, n_estimators=200, total=   1.0s\n",
      "[CV] class_weight=balanced, criterion=gini, max_depth=7, max_features=auto, min_samples_split=15, n_estimators=200 \n",
      "[CV]  class_weight=balanced, criterion=gini, max_depth=7, max_features=auto, min_samples_split=15, n_estimators=200, total=   1.1s\n",
      "[CV] class_weight=balanced, criterion=gini, max_depth=7, max_features=auto, min_samples_split=15, n_estimators=300 \n",
      "[CV]  class_weight=balanced, criterion=gini, max_depth=7, max_features=auto, min_samples_split=15, n_estimators=300, total=   1.6s\n",
      "[CV] class_weight=balanced, criterion=gini, max_depth=7, max_features=auto, min_samples_split=15, n_estimators=300 \n",
      "[CV]  class_weight=balanced, criterion=gini, max_depth=7, max_features=auto, min_samples_split=15, n_estimators=300, total=   1.5s\n",
      "[CV] class_weight=balanced, criterion=gini, max_depth=7, max_features=auto, min_samples_split=15, n_estimators=300 \n",
      "[CV]  class_weight=balanced, criterion=gini, max_depth=7, max_features=auto, min_samples_split=15, n_estimators=300, total=   1.4s\n",
      "[CV] class_weight=balanced, criterion=gini, max_depth=7, max_features=auto, min_samples_split=15, n_estimators=300 \n",
      "[CV]  class_weight=balanced, criterion=gini, max_depth=7, max_features=auto, min_samples_split=15, n_estimators=300, total=   1.4s\n",
      "[CV] class_weight=balanced, criterion=gini, max_depth=7, max_features=auto, min_samples_split=15, n_estimators=300 \n",
      "[CV]  class_weight=balanced, criterion=gini, max_depth=7, max_features=auto, min_samples_split=15, n_estimators=300, total=   1.5s\n",
      "[CV] class_weight=balanced, criterion=gini, max_depth=7, max_features=auto, min_samples_split=10, n_estimators=150 \n",
      "[CV]  class_weight=balanced, criterion=gini, max_depth=7, max_features=auto, min_samples_split=10, n_estimators=150, total=   0.8s\n",
      "[CV] class_weight=balanced, criterion=gini, max_depth=7, max_features=auto, min_samples_split=10, n_estimators=150 \n",
      "[CV]  class_weight=balanced, criterion=gini, max_depth=7, max_features=auto, min_samples_split=10, n_estimators=150, total=   0.8s\n",
      "[CV] class_weight=balanced, criterion=gini, max_depth=7, max_features=auto, min_samples_split=10, n_estimators=150 \n",
      "[CV]  class_weight=balanced, criterion=gini, max_depth=7, max_features=auto, min_samples_split=10, n_estimators=150, total=   0.7s\n",
      "[CV] class_weight=balanced, criterion=gini, max_depth=7, max_features=auto, min_samples_split=10, n_estimators=150 \n",
      "[CV]  class_weight=balanced, criterion=gini, max_depth=7, max_features=auto, min_samples_split=10, n_estimators=150, total=   0.7s\n",
      "[CV] class_weight=balanced, criterion=gini, max_depth=7, max_features=auto, min_samples_split=10, n_estimators=150 \n",
      "[CV]  class_weight=balanced, criterion=gini, max_depth=7, max_features=auto, min_samples_split=10, n_estimators=150, total=   0.7s\n",
      "[CV] class_weight=balanced, criterion=gini, max_depth=7, max_features=auto, min_samples_split=10, n_estimators=200 \n",
      "[CV]  class_weight=balanced, criterion=gini, max_depth=7, max_features=auto, min_samples_split=10, n_estimators=200, total=   0.9s\n",
      "[CV] class_weight=balanced, criterion=gini, max_depth=7, max_features=auto, min_samples_split=10, n_estimators=200 \n",
      "[CV]  class_weight=balanced, criterion=gini, max_depth=7, max_features=auto, min_samples_split=10, n_estimators=200, total=   0.9s\n",
      "[CV] class_weight=balanced, criterion=gini, max_depth=7, max_features=auto, min_samples_split=10, n_estimators=200 \n",
      "[CV]  class_weight=balanced, criterion=gini, max_depth=7, max_features=auto, min_samples_split=10, n_estimators=200, total=   0.9s\n",
      "[CV] class_weight=balanced, criterion=gini, max_depth=7, max_features=auto, min_samples_split=10, n_estimators=200 \n",
      "[CV]  class_weight=balanced, criterion=gini, max_depth=7, max_features=auto, min_samples_split=10, n_estimators=200, total=   0.9s\n",
      "[CV] class_weight=balanced, criterion=gini, max_depth=7, max_features=auto, min_samples_split=10, n_estimators=200 \n",
      "[CV]  class_weight=balanced, criterion=gini, max_depth=7, max_features=auto, min_samples_split=10, n_estimators=200, total=   0.9s\n",
      "[CV] class_weight=balanced, criterion=gini, max_depth=7, max_features=auto, min_samples_split=10, n_estimators=300 \n",
      "[CV]  class_weight=balanced, criterion=gini, max_depth=7, max_features=auto, min_samples_split=10, n_estimators=300, total=   1.3s\n",
      "[CV] class_weight=balanced, criterion=gini, max_depth=7, max_features=auto, min_samples_split=10, n_estimators=300 \n",
      "[CV]  class_weight=balanced, criterion=gini, max_depth=7, max_features=auto, min_samples_split=10, n_estimators=300, total=   1.3s\n",
      "[CV] class_weight=balanced, criterion=gini, max_depth=7, max_features=auto, min_samples_split=10, n_estimators=300 \n",
      "[CV]  class_weight=balanced, criterion=gini, max_depth=7, max_features=auto, min_samples_split=10, n_estimators=300, total=   1.3s\n",
      "[CV] class_weight=balanced, criterion=gini, max_depth=7, max_features=auto, min_samples_split=10, n_estimators=300 \n",
      "[CV]  class_weight=balanced, criterion=gini, max_depth=7, max_features=auto, min_samples_split=10, n_estimators=300, total=   1.3s\n",
      "[CV] class_weight=balanced, criterion=gini, max_depth=7, max_features=auto, min_samples_split=10, n_estimators=300 \n",
      "[CV]  class_weight=balanced, criterion=gini, max_depth=7, max_features=auto, min_samples_split=10, n_estimators=300, total=   1.3s\n",
      "[CV] class_weight=balanced, criterion=gini, max_depth=10, max_features=auto, min_samples_split=20, n_estimators=150 \n",
      "[CV]  class_weight=balanced, criterion=gini, max_depth=10, max_features=auto, min_samples_split=20, n_estimators=150, total=   0.6s\n",
      "[CV] class_weight=balanced, criterion=gini, max_depth=10, max_features=auto, min_samples_split=20, n_estimators=150 \n",
      "[CV]  class_weight=balanced, criterion=gini, max_depth=10, max_features=auto, min_samples_split=20, n_estimators=150, total=   0.6s\n",
      "[CV] class_weight=balanced, criterion=gini, max_depth=10, max_features=auto, min_samples_split=20, n_estimators=150 \n"
     ]
    },
    {
     "name": "stdout",
     "output_type": "stream",
     "text": [
      "[CV]  class_weight=balanced, criterion=gini, max_depth=10, max_features=auto, min_samples_split=20, n_estimators=150, total=   0.6s\n",
      "[CV] class_weight=balanced, criterion=gini, max_depth=10, max_features=auto, min_samples_split=20, n_estimators=150 \n",
      "[CV]  class_weight=balanced, criterion=gini, max_depth=10, max_features=auto, min_samples_split=20, n_estimators=150, total=   0.6s\n",
      "[CV] class_weight=balanced, criterion=gini, max_depth=10, max_features=auto, min_samples_split=20, n_estimators=150 \n",
      "[CV]  class_weight=balanced, criterion=gini, max_depth=10, max_features=auto, min_samples_split=20, n_estimators=150, total=   0.6s\n",
      "[CV] class_weight=balanced, criterion=gini, max_depth=10, max_features=auto, min_samples_split=20, n_estimators=200 \n",
      "[CV]  class_weight=balanced, criterion=gini, max_depth=10, max_features=auto, min_samples_split=20, n_estimators=200, total=   0.9s\n",
      "[CV] class_weight=balanced, criterion=gini, max_depth=10, max_features=auto, min_samples_split=20, n_estimators=200 \n",
      "[CV]  class_weight=balanced, criterion=gini, max_depth=10, max_features=auto, min_samples_split=20, n_estimators=200, total=   0.9s\n",
      "[CV] class_weight=balanced, criterion=gini, max_depth=10, max_features=auto, min_samples_split=20, n_estimators=200 \n",
      "[CV]  class_weight=balanced, criterion=gini, max_depth=10, max_features=auto, min_samples_split=20, n_estimators=200, total=   0.9s\n",
      "[CV] class_weight=balanced, criterion=gini, max_depth=10, max_features=auto, min_samples_split=20, n_estimators=200 \n",
      "[CV]  class_weight=balanced, criterion=gini, max_depth=10, max_features=auto, min_samples_split=20, n_estimators=200, total=   0.9s\n",
      "[CV] class_weight=balanced, criterion=gini, max_depth=10, max_features=auto, min_samples_split=20, n_estimators=200 \n",
      "[CV]  class_weight=balanced, criterion=gini, max_depth=10, max_features=auto, min_samples_split=20, n_estimators=200, total=   0.9s\n",
      "[CV] class_weight=balanced, criterion=gini, max_depth=10, max_features=auto, min_samples_split=20, n_estimators=300 \n",
      "[CV]  class_weight=balanced, criterion=gini, max_depth=10, max_features=auto, min_samples_split=20, n_estimators=300, total=   1.4s\n",
      "[CV] class_weight=balanced, criterion=gini, max_depth=10, max_features=auto, min_samples_split=20, n_estimators=300 \n",
      "[CV]  class_weight=balanced, criterion=gini, max_depth=10, max_features=auto, min_samples_split=20, n_estimators=300, total=   1.3s\n",
      "[CV] class_weight=balanced, criterion=gini, max_depth=10, max_features=auto, min_samples_split=20, n_estimators=300 \n",
      "[CV]  class_weight=balanced, criterion=gini, max_depth=10, max_features=auto, min_samples_split=20, n_estimators=300, total=   1.3s\n",
      "[CV] class_weight=balanced, criterion=gini, max_depth=10, max_features=auto, min_samples_split=20, n_estimators=300 \n",
      "[CV]  class_weight=balanced, criterion=gini, max_depth=10, max_features=auto, min_samples_split=20, n_estimators=300, total=   1.3s\n",
      "[CV] class_weight=balanced, criterion=gini, max_depth=10, max_features=auto, min_samples_split=20, n_estimators=300 \n",
      "[CV]  class_weight=balanced, criterion=gini, max_depth=10, max_features=auto, min_samples_split=20, n_estimators=300, total=   1.3s\n",
      "[CV] class_weight=balanced, criterion=gini, max_depth=10, max_features=auto, min_samples_split=15, n_estimators=150 \n",
      "[CV]  class_weight=balanced, criterion=gini, max_depth=10, max_features=auto, min_samples_split=15, n_estimators=150, total=   0.6s\n",
      "[CV] class_weight=balanced, criterion=gini, max_depth=10, max_features=auto, min_samples_split=15, n_estimators=150 \n",
      "[CV]  class_weight=balanced, criterion=gini, max_depth=10, max_features=auto, min_samples_split=15, n_estimators=150, total=   0.8s\n",
      "[CV] class_weight=balanced, criterion=gini, max_depth=10, max_features=auto, min_samples_split=15, n_estimators=150 \n",
      "[CV]  class_weight=balanced, criterion=gini, max_depth=10, max_features=auto, min_samples_split=15, n_estimators=150, total=   0.6s\n",
      "[CV] class_weight=balanced, criterion=gini, max_depth=10, max_features=auto, min_samples_split=15, n_estimators=150 \n",
      "[CV]  class_weight=balanced, criterion=gini, max_depth=10, max_features=auto, min_samples_split=15, n_estimators=150, total=   0.6s\n",
      "[CV] class_weight=balanced, criterion=gini, max_depth=10, max_features=auto, min_samples_split=15, n_estimators=150 \n",
      "[CV]  class_weight=balanced, criterion=gini, max_depth=10, max_features=auto, min_samples_split=15, n_estimators=150, total=   0.6s\n",
      "[CV] class_weight=balanced, criterion=gini, max_depth=10, max_features=auto, min_samples_split=15, n_estimators=200 \n",
      "[CV]  class_weight=balanced, criterion=gini, max_depth=10, max_features=auto, min_samples_split=15, n_estimators=200, total=   0.9s\n",
      "[CV] class_weight=balanced, criterion=gini, max_depth=10, max_features=auto, min_samples_split=15, n_estimators=200 \n",
      "[CV]  class_weight=balanced, criterion=gini, max_depth=10, max_features=auto, min_samples_split=15, n_estimators=200, total=   0.9s\n",
      "[CV] class_weight=balanced, criterion=gini, max_depth=10, max_features=auto, min_samples_split=15, n_estimators=200 \n",
      "[CV]  class_weight=balanced, criterion=gini, max_depth=10, max_features=auto, min_samples_split=15, n_estimators=200, total=   0.9s\n",
      "[CV] class_weight=balanced, criterion=gini, max_depth=10, max_features=auto, min_samples_split=15, n_estimators=200 \n",
      "[CV]  class_weight=balanced, criterion=gini, max_depth=10, max_features=auto, min_samples_split=15, n_estimators=200, total=   0.9s\n",
      "[CV] class_weight=balanced, criterion=gini, max_depth=10, max_features=auto, min_samples_split=15, n_estimators=200 \n",
      "[CV]  class_weight=balanced, criterion=gini, max_depth=10, max_features=auto, min_samples_split=15, n_estimators=200, total=   0.9s\n",
      "[CV] class_weight=balanced, criterion=gini, max_depth=10, max_features=auto, min_samples_split=15, n_estimators=300 \n",
      "[CV]  class_weight=balanced, criterion=gini, max_depth=10, max_features=auto, min_samples_split=15, n_estimators=300, total=   1.3s\n",
      "[CV] class_weight=balanced, criterion=gini, max_depth=10, max_features=auto, min_samples_split=15, n_estimators=300 \n",
      "[CV]  class_weight=balanced, criterion=gini, max_depth=10, max_features=auto, min_samples_split=15, n_estimators=300, total=   1.3s\n",
      "[CV] class_weight=balanced, criterion=gini, max_depth=10, max_features=auto, min_samples_split=15, n_estimators=300 \n",
      "[CV]  class_weight=balanced, criterion=gini, max_depth=10, max_features=auto, min_samples_split=15, n_estimators=300, total=   1.4s\n",
      "[CV] class_weight=balanced, criterion=gini, max_depth=10, max_features=auto, min_samples_split=15, n_estimators=300 \n",
      "[CV]  class_weight=balanced, criterion=gini, max_depth=10, max_features=auto, min_samples_split=15, n_estimators=300, total=   1.3s\n",
      "[CV] class_weight=balanced, criterion=gini, max_depth=10, max_features=auto, min_samples_split=15, n_estimators=300 \n",
      "[CV]  class_weight=balanced, criterion=gini, max_depth=10, max_features=auto, min_samples_split=15, n_estimators=300, total=   1.3s\n",
      "[CV] class_weight=balanced, criterion=gini, max_depth=10, max_features=auto, min_samples_split=10, n_estimators=150 \n",
      "[CV]  class_weight=balanced, criterion=gini, max_depth=10, max_features=auto, min_samples_split=10, n_estimators=150, total=   0.6s\n",
      "[CV] class_weight=balanced, criterion=gini, max_depth=10, max_features=auto, min_samples_split=10, n_estimators=150 \n",
      "[CV]  class_weight=balanced, criterion=gini, max_depth=10, max_features=auto, min_samples_split=10, n_estimators=150, total=   0.6s\n",
      "[CV] class_weight=balanced, criterion=gini, max_depth=10, max_features=auto, min_samples_split=10, n_estimators=150 \n",
      "[CV]  class_weight=balanced, criterion=gini, max_depth=10, max_features=auto, min_samples_split=10, n_estimators=150, total=   0.6s\n",
      "[CV] class_weight=balanced, criterion=gini, max_depth=10, max_features=auto, min_samples_split=10, n_estimators=150 \n",
      "[CV]  class_weight=balanced, criterion=gini, max_depth=10, max_features=auto, min_samples_split=10, n_estimators=150, total=   0.6s\n",
      "[CV] class_weight=balanced, criterion=gini, max_depth=10, max_features=auto, min_samples_split=10, n_estimators=150 \n",
      "[CV]  class_weight=balanced, criterion=gini, max_depth=10, max_features=auto, min_samples_split=10, n_estimators=150, total=   0.6s\n",
      "[CV] class_weight=balanced, criterion=gini, max_depth=10, max_features=auto, min_samples_split=10, n_estimators=200 \n"
     ]
    },
    {
     "name": "stdout",
     "output_type": "stream",
     "text": [
      "[CV]  class_weight=balanced, criterion=gini, max_depth=10, max_features=auto, min_samples_split=10, n_estimators=200, total=   0.9s\n",
      "[CV] class_weight=balanced, criterion=gini, max_depth=10, max_features=auto, min_samples_split=10, n_estimators=200 \n",
      "[CV]  class_weight=balanced, criterion=gini, max_depth=10, max_features=auto, min_samples_split=10, n_estimators=200, total=   1.1s\n",
      "[CV] class_weight=balanced, criterion=gini, max_depth=10, max_features=auto, min_samples_split=10, n_estimators=200 \n",
      "[CV]  class_weight=balanced, criterion=gini, max_depth=10, max_features=auto, min_samples_split=10, n_estimators=200, total=   0.9s\n",
      "[CV] class_weight=balanced, criterion=gini, max_depth=10, max_features=auto, min_samples_split=10, n_estimators=200 \n",
      "[CV]  class_weight=balanced, criterion=gini, max_depth=10, max_features=auto, min_samples_split=10, n_estimators=200, total=   0.9s\n",
      "[CV] class_weight=balanced, criterion=gini, max_depth=10, max_features=auto, min_samples_split=10, n_estimators=200 \n",
      "[CV]  class_weight=balanced, criterion=gini, max_depth=10, max_features=auto, min_samples_split=10, n_estimators=200, total=   0.9s\n",
      "[CV] class_weight=balanced, criterion=gini, max_depth=10, max_features=auto, min_samples_split=10, n_estimators=300 \n",
      "[CV]  class_weight=balanced, criterion=gini, max_depth=10, max_features=auto, min_samples_split=10, n_estimators=300, total=   1.4s\n",
      "[CV] class_weight=balanced, criterion=gini, max_depth=10, max_features=auto, min_samples_split=10, n_estimators=300 \n",
      "[CV]  class_weight=balanced, criterion=gini, max_depth=10, max_features=auto, min_samples_split=10, n_estimators=300, total=   1.4s\n",
      "[CV] class_weight=balanced, criterion=gini, max_depth=10, max_features=auto, min_samples_split=10, n_estimators=300 \n",
      "[CV]  class_weight=balanced, criterion=gini, max_depth=10, max_features=auto, min_samples_split=10, n_estimators=300, total=   1.4s\n",
      "[CV] class_weight=balanced, criterion=gini, max_depth=10, max_features=auto, min_samples_split=10, n_estimators=300 \n",
      "[CV]  class_weight=balanced, criterion=gini, max_depth=10, max_features=auto, min_samples_split=10, n_estimators=300, total=   1.4s\n",
      "[CV] class_weight=balanced, criterion=gini, max_depth=10, max_features=auto, min_samples_split=10, n_estimators=300 \n",
      "[CV]  class_weight=balanced, criterion=gini, max_depth=10, max_features=auto, min_samples_split=10, n_estimators=300, total=   1.5s\n",
      "[CV] class_weight=balanced, criterion=gini, max_depth=14, max_features=auto, min_samples_split=20, n_estimators=150 \n",
      "[CV]  class_weight=balanced, criterion=gini, max_depth=14, max_features=auto, min_samples_split=20, n_estimators=150, total=   0.6s\n",
      "[CV] class_weight=balanced, criterion=gini, max_depth=14, max_features=auto, min_samples_split=20, n_estimators=150 \n",
      "[CV]  class_weight=balanced, criterion=gini, max_depth=14, max_features=auto, min_samples_split=20, n_estimators=150, total=   0.6s\n",
      "[CV] class_weight=balanced, criterion=gini, max_depth=14, max_features=auto, min_samples_split=20, n_estimators=150 \n",
      "[CV]  class_weight=balanced, criterion=gini, max_depth=14, max_features=auto, min_samples_split=20, n_estimators=150, total=   0.6s\n",
      "[CV] class_weight=balanced, criterion=gini, max_depth=14, max_features=auto, min_samples_split=20, n_estimators=150 \n",
      "[CV]  class_weight=balanced, criterion=gini, max_depth=14, max_features=auto, min_samples_split=20, n_estimators=150, total=   0.6s\n",
      "[CV] class_weight=balanced, criterion=gini, max_depth=14, max_features=auto, min_samples_split=20, n_estimators=150 \n",
      "[CV]  class_weight=balanced, criterion=gini, max_depth=14, max_features=auto, min_samples_split=20, n_estimators=150, total=   0.6s\n",
      "[CV] class_weight=balanced, criterion=gini, max_depth=14, max_features=auto, min_samples_split=20, n_estimators=200 \n",
      "[CV]  class_weight=balanced, criterion=gini, max_depth=14, max_features=auto, min_samples_split=20, n_estimators=200, total=   0.9s\n",
      "[CV] class_weight=balanced, criterion=gini, max_depth=14, max_features=auto, min_samples_split=20, n_estimators=200 \n",
      "[CV]  class_weight=balanced, criterion=gini, max_depth=14, max_features=auto, min_samples_split=20, n_estimators=200, total=   0.9s\n",
      "[CV] class_weight=balanced, criterion=gini, max_depth=14, max_features=auto, min_samples_split=20, n_estimators=200 \n",
      "[CV]  class_weight=balanced, criterion=gini, max_depth=14, max_features=auto, min_samples_split=20, n_estimators=200, total=   0.9s\n",
      "[CV] class_weight=balanced, criterion=gini, max_depth=14, max_features=auto, min_samples_split=20, n_estimators=200 \n",
      "[CV]  class_weight=balanced, criterion=gini, max_depth=14, max_features=auto, min_samples_split=20, n_estimators=200, total=   0.9s\n",
      "[CV] class_weight=balanced, criterion=gini, max_depth=14, max_features=auto, min_samples_split=20, n_estimators=200 \n",
      "[CV]  class_weight=balanced, criterion=gini, max_depth=14, max_features=auto, min_samples_split=20, n_estimators=200, total=   0.9s\n",
      "[CV] class_weight=balanced, criterion=gini, max_depth=14, max_features=auto, min_samples_split=20, n_estimators=300 \n",
      "[CV]  class_weight=balanced, criterion=gini, max_depth=14, max_features=auto, min_samples_split=20, n_estimators=300, total=   1.4s\n",
      "[CV] class_weight=balanced, criterion=gini, max_depth=14, max_features=auto, min_samples_split=20, n_estimators=300 \n",
      "[CV]  class_weight=balanced, criterion=gini, max_depth=14, max_features=auto, min_samples_split=20, n_estimators=300, total=   1.4s\n",
      "[CV] class_weight=balanced, criterion=gini, max_depth=14, max_features=auto, min_samples_split=20, n_estimators=300 \n",
      "[CV]  class_weight=balanced, criterion=gini, max_depth=14, max_features=auto, min_samples_split=20, n_estimators=300, total=   1.4s\n",
      "[CV] class_weight=balanced, criterion=gini, max_depth=14, max_features=auto, min_samples_split=20, n_estimators=300 \n",
      "[CV]  class_weight=balanced, criterion=gini, max_depth=14, max_features=auto, min_samples_split=20, n_estimators=300, total=   1.5s\n",
      "[CV] class_weight=balanced, criterion=gini, max_depth=14, max_features=auto, min_samples_split=20, n_estimators=300 \n",
      "[CV]  class_weight=balanced, criterion=gini, max_depth=14, max_features=auto, min_samples_split=20, n_estimators=300, total=   1.4s\n",
      "[CV] class_weight=balanced, criterion=gini, max_depth=14, max_features=auto, min_samples_split=15, n_estimators=150 \n",
      "[CV]  class_weight=balanced, criterion=gini, max_depth=14, max_features=auto, min_samples_split=15, n_estimators=150, total=   0.6s\n",
      "[CV] class_weight=balanced, criterion=gini, max_depth=14, max_features=auto, min_samples_split=15, n_estimators=150 \n",
      "[CV]  class_weight=balanced, criterion=gini, max_depth=14, max_features=auto, min_samples_split=15, n_estimators=150, total=   0.7s\n",
      "[CV] class_weight=balanced, criterion=gini, max_depth=14, max_features=auto, min_samples_split=15, n_estimators=150 \n",
      "[CV]  class_weight=balanced, criterion=gini, max_depth=14, max_features=auto, min_samples_split=15, n_estimators=150, total=   0.6s\n",
      "[CV] class_weight=balanced, criterion=gini, max_depth=14, max_features=auto, min_samples_split=15, n_estimators=150 \n",
      "[CV]  class_weight=balanced, criterion=gini, max_depth=14, max_features=auto, min_samples_split=15, n_estimators=150, total=   0.8s\n",
      "[CV] class_weight=balanced, criterion=gini, max_depth=14, max_features=auto, min_samples_split=15, n_estimators=150 \n",
      "[CV]  class_weight=balanced, criterion=gini, max_depth=14, max_features=auto, min_samples_split=15, n_estimators=150, total=   0.7s\n",
      "[CV] class_weight=balanced, criterion=gini, max_depth=14, max_features=auto, min_samples_split=15, n_estimators=200 \n",
      "[CV]  class_weight=balanced, criterion=gini, max_depth=14, max_features=auto, min_samples_split=15, n_estimators=200, total=   0.9s\n",
      "[CV] class_weight=balanced, criterion=gini, max_depth=14, max_features=auto, min_samples_split=15, n_estimators=200 \n",
      "[CV]  class_weight=balanced, criterion=gini, max_depth=14, max_features=auto, min_samples_split=15, n_estimators=200, total=   0.9s\n",
      "[CV] class_weight=balanced, criterion=gini, max_depth=14, max_features=auto, min_samples_split=15, n_estimators=200 \n",
      "[CV]  class_weight=balanced, criterion=gini, max_depth=14, max_features=auto, min_samples_split=15, n_estimators=200, total=   0.9s\n",
      "[CV] class_weight=balanced, criterion=gini, max_depth=14, max_features=auto, min_samples_split=15, n_estimators=200 \n"
     ]
    },
    {
     "name": "stdout",
     "output_type": "stream",
     "text": [
      "[CV]  class_weight=balanced, criterion=gini, max_depth=14, max_features=auto, min_samples_split=15, n_estimators=200, total=   0.9s\n",
      "[CV] class_weight=balanced, criterion=gini, max_depth=14, max_features=auto, min_samples_split=15, n_estimators=200 \n",
      "[CV]  class_weight=balanced, criterion=gini, max_depth=14, max_features=auto, min_samples_split=15, n_estimators=200, total=   0.9s\n",
      "[CV] class_weight=balanced, criterion=gini, max_depth=14, max_features=auto, min_samples_split=15, n_estimators=300 \n",
      "[CV]  class_weight=balanced, criterion=gini, max_depth=14, max_features=auto, min_samples_split=15, n_estimators=300, total=   1.4s\n",
      "[CV] class_weight=balanced, criterion=gini, max_depth=14, max_features=auto, min_samples_split=15, n_estimators=300 \n",
      "[CV]  class_weight=balanced, criterion=gini, max_depth=14, max_features=auto, min_samples_split=15, n_estimators=300, total=   1.4s\n",
      "[CV] class_weight=balanced, criterion=gini, max_depth=14, max_features=auto, min_samples_split=15, n_estimators=300 \n",
      "[CV]  class_weight=balanced, criterion=gini, max_depth=14, max_features=auto, min_samples_split=15, n_estimators=300, total=   1.4s\n",
      "[CV] class_weight=balanced, criterion=gini, max_depth=14, max_features=auto, min_samples_split=15, n_estimators=300 \n",
      "[CV]  class_weight=balanced, criterion=gini, max_depth=14, max_features=auto, min_samples_split=15, n_estimators=300, total=   1.4s\n",
      "[CV] class_weight=balanced, criterion=gini, max_depth=14, max_features=auto, min_samples_split=15, n_estimators=300 \n",
      "[CV]  class_weight=balanced, criterion=gini, max_depth=14, max_features=auto, min_samples_split=15, n_estimators=300, total=   1.4s\n",
      "[CV] class_weight=balanced, criterion=gini, max_depth=14, max_features=auto, min_samples_split=10, n_estimators=150 \n",
      "[CV]  class_weight=balanced, criterion=gini, max_depth=14, max_features=auto, min_samples_split=10, n_estimators=150, total=   0.7s\n",
      "[CV] class_weight=balanced, criterion=gini, max_depth=14, max_features=auto, min_samples_split=10, n_estimators=150 \n",
      "[CV]  class_weight=balanced, criterion=gini, max_depth=14, max_features=auto, min_samples_split=10, n_estimators=150, total=   0.7s\n",
      "[CV] class_weight=balanced, criterion=gini, max_depth=14, max_features=auto, min_samples_split=10, n_estimators=150 \n",
      "[CV]  class_weight=balanced, criterion=gini, max_depth=14, max_features=auto, min_samples_split=10, n_estimators=150, total=   0.7s\n",
      "[CV] class_weight=balanced, criterion=gini, max_depth=14, max_features=auto, min_samples_split=10, n_estimators=150 \n",
      "[CV]  class_weight=balanced, criterion=gini, max_depth=14, max_features=auto, min_samples_split=10, n_estimators=150, total=   0.7s\n",
      "[CV] class_weight=balanced, criterion=gini, max_depth=14, max_features=auto, min_samples_split=10, n_estimators=150 \n",
      "[CV]  class_weight=balanced, criterion=gini, max_depth=14, max_features=auto, min_samples_split=10, n_estimators=150, total=   0.7s\n",
      "[CV] class_weight=balanced, criterion=gini, max_depth=14, max_features=auto, min_samples_split=10, n_estimators=200 \n",
      "[CV]  class_weight=balanced, criterion=gini, max_depth=14, max_features=auto, min_samples_split=10, n_estimators=200, total=   0.9s\n",
      "[CV] class_weight=balanced, criterion=gini, max_depth=14, max_features=auto, min_samples_split=10, n_estimators=200 \n",
      "[CV]  class_weight=balanced, criterion=gini, max_depth=14, max_features=auto, min_samples_split=10, n_estimators=200, total=   0.9s\n",
      "[CV] class_weight=balanced, criterion=gini, max_depth=14, max_features=auto, min_samples_split=10, n_estimators=200 \n",
      "[CV]  class_weight=balanced, criterion=gini, max_depth=14, max_features=auto, min_samples_split=10, n_estimators=200, total=   0.9s\n",
      "[CV] class_weight=balanced, criterion=gini, max_depth=14, max_features=auto, min_samples_split=10, n_estimators=200 \n",
      "[CV]  class_weight=balanced, criterion=gini, max_depth=14, max_features=auto, min_samples_split=10, n_estimators=200, total=   0.9s\n",
      "[CV] class_weight=balanced, criterion=gini, max_depth=14, max_features=auto, min_samples_split=10, n_estimators=200 \n",
      "[CV]  class_weight=balanced, criterion=gini, max_depth=14, max_features=auto, min_samples_split=10, n_estimators=200, total=   0.9s\n",
      "[CV] class_weight=balanced, criterion=gini, max_depth=14, max_features=auto, min_samples_split=10, n_estimators=300 \n",
      "[CV]  class_weight=balanced, criterion=gini, max_depth=14, max_features=auto, min_samples_split=10, n_estimators=300, total=   1.4s\n",
      "[CV] class_weight=balanced, criterion=gini, max_depth=14, max_features=auto, min_samples_split=10, n_estimators=300 \n",
      "[CV]  class_weight=balanced, criterion=gini, max_depth=14, max_features=auto, min_samples_split=10, n_estimators=300, total=   1.4s\n",
      "[CV] class_weight=balanced, criterion=gini, max_depth=14, max_features=auto, min_samples_split=10, n_estimators=300 \n",
      "[CV]  class_weight=balanced, criterion=gini, max_depth=14, max_features=auto, min_samples_split=10, n_estimators=300, total=   1.4s\n",
      "[CV] class_weight=balanced, criterion=gini, max_depth=14, max_features=auto, min_samples_split=10, n_estimators=300 \n",
      "[CV]  class_weight=balanced, criterion=gini, max_depth=14, max_features=auto, min_samples_split=10, n_estimators=300, total=   1.4s\n",
      "[CV] class_weight=balanced, criterion=gini, max_depth=14, max_features=auto, min_samples_split=10, n_estimators=300 \n",
      "[CV]  class_weight=balanced, criterion=gini, max_depth=14, max_features=auto, min_samples_split=10, n_estimators=300, total=   1.4s\n",
      "[CV] class_weight=balanced, criterion=entropy, max_depth=3, max_features=auto, min_samples_split=20, n_estimators=150 \n",
      "[CV]  class_weight=balanced, criterion=entropy, max_depth=3, max_features=auto, min_samples_split=20, n_estimators=150, total=   0.6s\n",
      "[CV] class_weight=balanced, criterion=entropy, max_depth=3, max_features=auto, min_samples_split=20, n_estimators=150 \n",
      "[CV]  class_weight=balanced, criterion=entropy, max_depth=3, max_features=auto, min_samples_split=20, n_estimators=150, total=   0.6s\n",
      "[CV] class_weight=balanced, criterion=entropy, max_depth=3, max_features=auto, min_samples_split=20, n_estimators=150 \n",
      "[CV]  class_weight=balanced, criterion=entropy, max_depth=3, max_features=auto, min_samples_split=20, n_estimators=150, total=   0.6s\n",
      "[CV] class_weight=balanced, criterion=entropy, max_depth=3, max_features=auto, min_samples_split=20, n_estimators=150 \n",
      "[CV]  class_weight=balanced, criterion=entropy, max_depth=3, max_features=auto, min_samples_split=20, n_estimators=150, total=   0.6s\n",
      "[CV] class_weight=balanced, criterion=entropy, max_depth=3, max_features=auto, min_samples_split=20, n_estimators=150 \n",
      "[CV]  class_weight=balanced, criterion=entropy, max_depth=3, max_features=auto, min_samples_split=20, n_estimators=150, total=   0.6s\n",
      "[CV] class_weight=balanced, criterion=entropy, max_depth=3, max_features=auto, min_samples_split=20, n_estimators=200 \n",
      "[CV]  class_weight=balanced, criterion=entropy, max_depth=3, max_features=auto, min_samples_split=20, n_estimators=200, total=   0.8s\n",
      "[CV] class_weight=balanced, criterion=entropy, max_depth=3, max_features=auto, min_samples_split=20, n_estimators=200 \n",
      "[CV]  class_weight=balanced, criterion=entropy, max_depth=3, max_features=auto, min_samples_split=20, n_estimators=200, total=   0.8s\n",
      "[CV] class_weight=balanced, criterion=entropy, max_depth=3, max_features=auto, min_samples_split=20, n_estimators=200 \n",
      "[CV]  class_weight=balanced, criterion=entropy, max_depth=3, max_features=auto, min_samples_split=20, n_estimators=200, total=   0.8s\n",
      "[CV] class_weight=balanced, criterion=entropy, max_depth=3, max_features=auto, min_samples_split=20, n_estimators=200 \n",
      "[CV]  class_weight=balanced, criterion=entropy, max_depth=3, max_features=auto, min_samples_split=20, n_estimators=200, total=   0.8s\n",
      "[CV] class_weight=balanced, criterion=entropy, max_depth=3, max_features=auto, min_samples_split=20, n_estimators=200 \n",
      "[CV]  class_weight=balanced, criterion=entropy, max_depth=3, max_features=auto, min_samples_split=20, n_estimators=200, total=   0.9s\n",
      "[CV] class_weight=balanced, criterion=entropy, max_depth=3, max_features=auto, min_samples_split=20, n_estimators=300 \n",
      "[CV]  class_weight=balanced, criterion=entropy, max_depth=3, max_features=auto, min_samples_split=20, n_estimators=300, total=   1.2s\n",
      "[CV] class_weight=balanced, criterion=entropy, max_depth=3, max_features=auto, min_samples_split=20, n_estimators=300 \n"
     ]
    },
    {
     "name": "stdout",
     "output_type": "stream",
     "text": [
      "[CV]  class_weight=balanced, criterion=entropy, max_depth=3, max_features=auto, min_samples_split=20, n_estimators=300, total=   1.4s\n",
      "[CV] class_weight=balanced, criterion=entropy, max_depth=3, max_features=auto, min_samples_split=20, n_estimators=300 \n",
      "[CV]  class_weight=balanced, criterion=entropy, max_depth=3, max_features=auto, min_samples_split=20, n_estimators=300, total=   1.2s\n",
      "[CV] class_weight=balanced, criterion=entropy, max_depth=3, max_features=auto, min_samples_split=20, n_estimators=300 \n",
      "[CV]  class_weight=balanced, criterion=entropy, max_depth=3, max_features=auto, min_samples_split=20, n_estimators=300, total=   1.3s\n",
      "[CV] class_weight=balanced, criterion=entropy, max_depth=3, max_features=auto, min_samples_split=20, n_estimators=300 \n",
      "[CV]  class_weight=balanced, criterion=entropy, max_depth=3, max_features=auto, min_samples_split=20, n_estimators=300, total=   1.2s\n",
      "[CV] class_weight=balanced, criterion=entropy, max_depth=3, max_features=auto, min_samples_split=15, n_estimators=150 \n",
      "[CV]  class_weight=balanced, criterion=entropy, max_depth=3, max_features=auto, min_samples_split=15, n_estimators=150, total=   0.6s\n",
      "[CV] class_weight=balanced, criterion=entropy, max_depth=3, max_features=auto, min_samples_split=15, n_estimators=150 \n",
      "[CV]  class_weight=balanced, criterion=entropy, max_depth=3, max_features=auto, min_samples_split=15, n_estimators=150, total=   0.6s\n",
      "[CV] class_weight=balanced, criterion=entropy, max_depth=3, max_features=auto, min_samples_split=15, n_estimators=150 \n",
      "[CV]  class_weight=balanced, criterion=entropy, max_depth=3, max_features=auto, min_samples_split=15, n_estimators=150, total=   0.6s\n",
      "[CV] class_weight=balanced, criterion=entropy, max_depth=3, max_features=auto, min_samples_split=15, n_estimators=150 \n",
      "[CV]  class_weight=balanced, criterion=entropy, max_depth=3, max_features=auto, min_samples_split=15, n_estimators=150, total=   0.6s\n",
      "[CV] class_weight=balanced, criterion=entropy, max_depth=3, max_features=auto, min_samples_split=15, n_estimators=150 \n",
      "[CV]  class_weight=balanced, criterion=entropy, max_depth=3, max_features=auto, min_samples_split=15, n_estimators=150, total=   0.6s\n",
      "[CV] class_weight=balanced, criterion=entropy, max_depth=3, max_features=auto, min_samples_split=15, n_estimators=200 \n",
      "[CV]  class_weight=balanced, criterion=entropy, max_depth=3, max_features=auto, min_samples_split=15, n_estimators=200, total=   0.9s\n",
      "[CV] class_weight=balanced, criterion=entropy, max_depth=3, max_features=auto, min_samples_split=15, n_estimators=200 \n",
      "[CV]  class_weight=balanced, criterion=entropy, max_depth=3, max_features=auto, min_samples_split=15, n_estimators=200, total=   0.8s\n",
      "[CV] class_weight=balanced, criterion=entropy, max_depth=3, max_features=auto, min_samples_split=15, n_estimators=200 \n",
      "[CV]  class_weight=balanced, criterion=entropy, max_depth=3, max_features=auto, min_samples_split=15, n_estimators=200, total=   0.8s\n",
      "[CV] class_weight=balanced, criterion=entropy, max_depth=3, max_features=auto, min_samples_split=15, n_estimators=200 \n",
      "[CV]  class_weight=balanced, criterion=entropy, max_depth=3, max_features=auto, min_samples_split=15, n_estimators=200, total=   0.8s\n",
      "[CV] class_weight=balanced, criterion=entropy, max_depth=3, max_features=auto, min_samples_split=15, n_estimators=200 \n",
      "[CV]  class_weight=balanced, criterion=entropy, max_depth=3, max_features=auto, min_samples_split=15, n_estimators=200, total=   0.8s\n",
      "[CV] class_weight=balanced, criterion=entropy, max_depth=3, max_features=auto, min_samples_split=15, n_estimators=300 \n",
      "[CV]  class_weight=balanced, criterion=entropy, max_depth=3, max_features=auto, min_samples_split=15, n_estimators=300, total=   1.4s\n",
      "[CV] class_weight=balanced, criterion=entropy, max_depth=3, max_features=auto, min_samples_split=15, n_estimators=300 \n",
      "[CV]  class_weight=balanced, criterion=entropy, max_depth=3, max_features=auto, min_samples_split=15, n_estimators=300, total=   1.3s\n",
      "[CV] class_weight=balanced, criterion=entropy, max_depth=3, max_features=auto, min_samples_split=15, n_estimators=300 \n",
      "[CV]  class_weight=balanced, criterion=entropy, max_depth=3, max_features=auto, min_samples_split=15, n_estimators=300, total=   1.2s\n",
      "[CV] class_weight=balanced, criterion=entropy, max_depth=3, max_features=auto, min_samples_split=15, n_estimators=300 \n",
      "[CV]  class_weight=balanced, criterion=entropy, max_depth=3, max_features=auto, min_samples_split=15, n_estimators=300, total=   1.2s\n",
      "[CV] class_weight=balanced, criterion=entropy, max_depth=3, max_features=auto, min_samples_split=15, n_estimators=300 \n",
      "[CV]  class_weight=balanced, criterion=entropy, max_depth=3, max_features=auto, min_samples_split=15, n_estimators=300, total=   1.2s\n",
      "[CV] class_weight=balanced, criterion=entropy, max_depth=3, max_features=auto, min_samples_split=10, n_estimators=150 \n",
      "[CV]  class_weight=balanced, criterion=entropy, max_depth=3, max_features=auto, min_samples_split=10, n_estimators=150, total=   0.6s\n",
      "[CV] class_weight=balanced, criterion=entropy, max_depth=3, max_features=auto, min_samples_split=10, n_estimators=150 \n",
      "[CV]  class_weight=balanced, criterion=entropy, max_depth=3, max_features=auto, min_samples_split=10, n_estimators=150, total=   0.6s\n",
      "[CV] class_weight=balanced, criterion=entropy, max_depth=3, max_features=auto, min_samples_split=10, n_estimators=150 \n",
      "[CV]  class_weight=balanced, criterion=entropy, max_depth=3, max_features=auto, min_samples_split=10, n_estimators=150, total=   0.6s\n",
      "[CV] class_weight=balanced, criterion=entropy, max_depth=3, max_features=auto, min_samples_split=10, n_estimators=150 \n",
      "[CV]  class_weight=balanced, criterion=entropy, max_depth=3, max_features=auto, min_samples_split=10, n_estimators=150, total=   0.6s\n",
      "[CV] class_weight=balanced, criterion=entropy, max_depth=3, max_features=auto, min_samples_split=10, n_estimators=150 \n",
      "[CV]  class_weight=balanced, criterion=entropy, max_depth=3, max_features=auto, min_samples_split=10, n_estimators=150, total=   0.6s\n",
      "[CV] class_weight=balanced, criterion=entropy, max_depth=3, max_features=auto, min_samples_split=10, n_estimators=200 \n",
      "[CV]  class_weight=balanced, criterion=entropy, max_depth=3, max_features=auto, min_samples_split=10, n_estimators=200, total=   0.9s\n",
      "[CV] class_weight=balanced, criterion=entropy, max_depth=3, max_features=auto, min_samples_split=10, n_estimators=200 \n",
      "[CV]  class_weight=balanced, criterion=entropy, max_depth=3, max_features=auto, min_samples_split=10, n_estimators=200, total=   0.8s\n",
      "[CV] class_weight=balanced, criterion=entropy, max_depth=3, max_features=auto, min_samples_split=10, n_estimators=200 \n",
      "[CV]  class_weight=balanced, criterion=entropy, max_depth=3, max_features=auto, min_samples_split=10, n_estimators=200, total=   0.8s\n",
      "[CV] class_weight=balanced, criterion=entropy, max_depth=3, max_features=auto, min_samples_split=10, n_estimators=200 \n",
      "[CV]  class_weight=balanced, criterion=entropy, max_depth=3, max_features=auto, min_samples_split=10, n_estimators=200, total=   0.8s\n",
      "[CV] class_weight=balanced, criterion=entropy, max_depth=3, max_features=auto, min_samples_split=10, n_estimators=200 \n",
      "[CV]  class_weight=balanced, criterion=entropy, max_depth=3, max_features=auto, min_samples_split=10, n_estimators=200, total=   0.9s\n",
      "[CV] class_weight=balanced, criterion=entropy, max_depth=3, max_features=auto, min_samples_split=10, n_estimators=300 \n",
      "[CV]  class_weight=balanced, criterion=entropy, max_depth=3, max_features=auto, min_samples_split=10, n_estimators=300, total=   1.2s\n",
      "[CV] class_weight=balanced, criterion=entropy, max_depth=3, max_features=auto, min_samples_split=10, n_estimators=300 \n",
      "[CV]  class_weight=balanced, criterion=entropy, max_depth=3, max_features=auto, min_samples_split=10, n_estimators=300, total=   1.2s\n",
      "[CV] class_weight=balanced, criterion=entropy, max_depth=3, max_features=auto, min_samples_split=10, n_estimators=300 \n",
      "[CV]  class_weight=balanced, criterion=entropy, max_depth=3, max_features=auto, min_samples_split=10, n_estimators=300, total=   1.4s\n",
      "[CV] class_weight=balanced, criterion=entropy, max_depth=3, max_features=auto, min_samples_split=10, n_estimators=300 \n",
      "[CV]  class_weight=balanced, criterion=entropy, max_depth=3, max_features=auto, min_samples_split=10, n_estimators=300, total=   1.2s\n",
      "[CV] class_weight=balanced, criterion=entropy, max_depth=3, max_features=auto, min_samples_split=10, n_estimators=300 \n"
     ]
    },
    {
     "name": "stdout",
     "output_type": "stream",
     "text": [
      "[CV]  class_weight=balanced, criterion=entropy, max_depth=3, max_features=auto, min_samples_split=10, n_estimators=300, total=   1.2s\n",
      "[CV] class_weight=balanced, criterion=entropy, max_depth=5, max_features=auto, min_samples_split=20, n_estimators=150 \n",
      "[CV]  class_weight=balanced, criterion=entropy, max_depth=5, max_features=auto, min_samples_split=20, n_estimators=150, total=   0.6s\n",
      "[CV] class_weight=balanced, criterion=entropy, max_depth=5, max_features=auto, min_samples_split=20, n_estimators=150 \n",
      "[CV]  class_weight=balanced, criterion=entropy, max_depth=5, max_features=auto, min_samples_split=20, n_estimators=150, total=   0.6s\n",
      "[CV] class_weight=balanced, criterion=entropy, max_depth=5, max_features=auto, min_samples_split=20, n_estimators=150 \n",
      "[CV]  class_weight=balanced, criterion=entropy, max_depth=5, max_features=auto, min_samples_split=20, n_estimators=150, total=   0.6s\n",
      "[CV] class_weight=balanced, criterion=entropy, max_depth=5, max_features=auto, min_samples_split=20, n_estimators=150 \n",
      "[CV]  class_weight=balanced, criterion=entropy, max_depth=5, max_features=auto, min_samples_split=20, n_estimators=150, total=   0.6s\n",
      "[CV] class_weight=balanced, criterion=entropy, max_depth=5, max_features=auto, min_samples_split=20, n_estimators=150 \n",
      "[CV]  class_weight=balanced, criterion=entropy, max_depth=5, max_features=auto, min_samples_split=20, n_estimators=150, total=   0.6s\n",
      "[CV] class_weight=balanced, criterion=entropy, max_depth=5, max_features=auto, min_samples_split=20, n_estimators=200 \n",
      "[CV]  class_weight=balanced, criterion=entropy, max_depth=5, max_features=auto, min_samples_split=20, n_estimators=200, total=   0.9s\n",
      "[CV] class_weight=balanced, criterion=entropy, max_depth=5, max_features=auto, min_samples_split=20, n_estimators=200 \n",
      "[CV]  class_weight=balanced, criterion=entropy, max_depth=5, max_features=auto, min_samples_split=20, n_estimators=200, total=   0.8s\n",
      "[CV] class_weight=balanced, criterion=entropy, max_depth=5, max_features=auto, min_samples_split=20, n_estimators=200 \n",
      "[CV]  class_weight=balanced, criterion=entropy, max_depth=5, max_features=auto, min_samples_split=20, n_estimators=200, total=   0.8s\n",
      "[CV] class_weight=balanced, criterion=entropy, max_depth=5, max_features=auto, min_samples_split=20, n_estimators=200 \n",
      "[CV]  class_weight=balanced, criterion=entropy, max_depth=5, max_features=auto, min_samples_split=20, n_estimators=200, total=   0.8s\n",
      "[CV] class_weight=balanced, criterion=entropy, max_depth=5, max_features=auto, min_samples_split=20, n_estimators=200 \n",
      "[CV]  class_weight=balanced, criterion=entropy, max_depth=5, max_features=auto, min_samples_split=20, n_estimators=200, total=   0.8s\n",
      "[CV] class_weight=balanced, criterion=entropy, max_depth=5, max_features=auto, min_samples_split=20, n_estimators=300 \n",
      "[CV]  class_weight=balanced, criterion=entropy, max_depth=5, max_features=auto, min_samples_split=20, n_estimators=300, total=   1.3s\n",
      "[CV] class_weight=balanced, criterion=entropy, max_depth=5, max_features=auto, min_samples_split=20, n_estimators=300 \n",
      "[CV]  class_weight=balanced, criterion=entropy, max_depth=5, max_features=auto, min_samples_split=20, n_estimators=300, total=   1.3s\n",
      "[CV] class_weight=balanced, criterion=entropy, max_depth=5, max_features=auto, min_samples_split=20, n_estimators=300 \n",
      "[CV]  class_weight=balanced, criterion=entropy, max_depth=5, max_features=auto, min_samples_split=20, n_estimators=300, total=   1.3s\n",
      "[CV] class_weight=balanced, criterion=entropy, max_depth=5, max_features=auto, min_samples_split=20, n_estimators=300 \n",
      "[CV]  class_weight=balanced, criterion=entropy, max_depth=5, max_features=auto, min_samples_split=20, n_estimators=300, total=   1.4s\n",
      "[CV] class_weight=balanced, criterion=entropy, max_depth=5, max_features=auto, min_samples_split=20, n_estimators=300 \n",
      "[CV]  class_weight=balanced, criterion=entropy, max_depth=5, max_features=auto, min_samples_split=20, n_estimators=300, total=   1.3s\n",
      "[CV] class_weight=balanced, criterion=entropy, max_depth=5, max_features=auto, min_samples_split=15, n_estimators=150 \n",
      "[CV]  class_weight=balanced, criterion=entropy, max_depth=5, max_features=auto, min_samples_split=15, n_estimators=150, total=   0.8s\n",
      "[CV] class_weight=balanced, criterion=entropy, max_depth=5, max_features=auto, min_samples_split=15, n_estimators=150 \n",
      "[CV]  class_weight=balanced, criterion=entropy, max_depth=5, max_features=auto, min_samples_split=15, n_estimators=150, total=   2.2s\n",
      "[CV] class_weight=balanced, criterion=entropy, max_depth=5, max_features=auto, min_samples_split=15, n_estimators=150 \n",
      "[CV]  class_weight=balanced, criterion=entropy, max_depth=5, max_features=auto, min_samples_split=15, n_estimators=150, total=   0.8s\n",
      "[CV] class_weight=balanced, criterion=entropy, max_depth=5, max_features=auto, min_samples_split=15, n_estimators=150 \n",
      "[CV]  class_weight=balanced, criterion=entropy, max_depth=5, max_features=auto, min_samples_split=15, n_estimators=150, total=   0.3s\n",
      "[CV] class_weight=balanced, criterion=entropy, max_depth=5, max_features=auto, min_samples_split=15, n_estimators=150 \n",
      "[CV]  class_weight=balanced, criterion=entropy, max_depth=5, max_features=auto, min_samples_split=15, n_estimators=150, total=   0.3s\n",
      "[CV] class_weight=balanced, criterion=entropy, max_depth=5, max_features=auto, min_samples_split=15, n_estimators=200 \n",
      "[CV]  class_weight=balanced, criterion=entropy, max_depth=5, max_features=auto, min_samples_split=15, n_estimators=200, total=   0.4s\n",
      "[CV] class_weight=balanced, criterion=entropy, max_depth=5, max_features=auto, min_samples_split=15, n_estimators=200 \n",
      "[CV]  class_weight=balanced, criterion=entropy, max_depth=5, max_features=auto, min_samples_split=15, n_estimators=200, total=   0.8s\n",
      "[CV] class_weight=balanced, criterion=entropy, max_depth=5, max_features=auto, min_samples_split=15, n_estimators=200 \n",
      "[CV]  class_weight=balanced, criterion=entropy, max_depth=5, max_features=auto, min_samples_split=15, n_estimators=200, total=   0.7s\n",
      "[CV] class_weight=balanced, criterion=entropy, max_depth=5, max_features=auto, min_samples_split=15, n_estimators=200 \n",
      "[CV]  class_weight=balanced, criterion=entropy, max_depth=5, max_features=auto, min_samples_split=15, n_estimators=200, total=   1.8s\n",
      "[CV] class_weight=balanced, criterion=entropy, max_depth=5, max_features=auto, min_samples_split=15, n_estimators=200 \n",
      "[CV]  class_weight=balanced, criterion=entropy, max_depth=5, max_features=auto, min_samples_split=15, n_estimators=200, total=   1.6s\n",
      "[CV] class_weight=balanced, criterion=entropy, max_depth=5, max_features=auto, min_samples_split=15, n_estimators=300 \n",
      "[CV]  class_weight=balanced, criterion=entropy, max_depth=5, max_features=auto, min_samples_split=15, n_estimators=300, total=   2.4s\n",
      "[CV] class_weight=balanced, criterion=entropy, max_depth=5, max_features=auto, min_samples_split=15, n_estimators=300 \n",
      "[CV]  class_weight=balanced, criterion=entropy, max_depth=5, max_features=auto, min_samples_split=15, n_estimators=300, total=   2.3s\n",
      "[CV] class_weight=balanced, criterion=entropy, max_depth=5, max_features=auto, min_samples_split=15, n_estimators=300 \n",
      "[CV]  class_weight=balanced, criterion=entropy, max_depth=5, max_features=auto, min_samples_split=15, n_estimators=300, total=   2.5s\n",
      "[CV] class_weight=balanced, criterion=entropy, max_depth=5, max_features=auto, min_samples_split=15, n_estimators=300 \n",
      "[CV]  class_weight=balanced, criterion=entropy, max_depth=5, max_features=auto, min_samples_split=15, n_estimators=300, total=   2.5s\n",
      "[CV] class_weight=balanced, criterion=entropy, max_depth=5, max_features=auto, min_samples_split=15, n_estimators=300 \n",
      "[CV]  class_weight=balanced, criterion=entropy, max_depth=5, max_features=auto, min_samples_split=15, n_estimators=300, total=   2.5s\n",
      "[CV] class_weight=balanced, criterion=entropy, max_depth=5, max_features=auto, min_samples_split=10, n_estimators=150 \n",
      "[CV]  class_weight=balanced, criterion=entropy, max_depth=5, max_features=auto, min_samples_split=10, n_estimators=150, total=   1.0s\n",
      "[CV] class_weight=balanced, criterion=entropy, max_depth=5, max_features=auto, min_samples_split=10, n_estimators=150 \n",
      "[CV]  class_weight=balanced, criterion=entropy, max_depth=5, max_features=auto, min_samples_split=10, n_estimators=150, total=   1.1s\n",
      "[CV] class_weight=balanced, criterion=entropy, max_depth=5, max_features=auto, min_samples_split=10, n_estimators=150 \n"
     ]
    },
    {
     "name": "stdout",
     "output_type": "stream",
     "text": [
      "[CV]  class_weight=balanced, criterion=entropy, max_depth=5, max_features=auto, min_samples_split=10, n_estimators=150, total=   1.0s\n",
      "[CV] class_weight=balanced, criterion=entropy, max_depth=5, max_features=auto, min_samples_split=10, n_estimators=150 \n",
      "[CV]  class_weight=balanced, criterion=entropy, max_depth=5, max_features=auto, min_samples_split=10, n_estimators=150, total=   1.1s\n",
      "[CV] class_weight=balanced, criterion=entropy, max_depth=5, max_features=auto, min_samples_split=10, n_estimators=150 \n",
      "[CV]  class_weight=balanced, criterion=entropy, max_depth=5, max_features=auto, min_samples_split=10, n_estimators=150, total=   1.0s\n",
      "[CV] class_weight=balanced, criterion=entropy, max_depth=5, max_features=auto, min_samples_split=10, n_estimators=200 \n",
      "[CV]  class_weight=balanced, criterion=entropy, max_depth=5, max_features=auto, min_samples_split=10, n_estimators=200, total=   1.4s\n",
      "[CV] class_weight=balanced, criterion=entropy, max_depth=5, max_features=auto, min_samples_split=10, n_estimators=200 \n",
      "[CV]  class_weight=balanced, criterion=entropy, max_depth=5, max_features=auto, min_samples_split=10, n_estimators=200, total=   1.4s\n",
      "[CV] class_weight=balanced, criterion=entropy, max_depth=5, max_features=auto, min_samples_split=10, n_estimators=200 \n",
      "[CV]  class_weight=balanced, criterion=entropy, max_depth=5, max_features=auto, min_samples_split=10, n_estimators=200, total=   1.5s\n",
      "[CV] class_weight=balanced, criterion=entropy, max_depth=5, max_features=auto, min_samples_split=10, n_estimators=200 \n",
      "[CV]  class_weight=balanced, criterion=entropy, max_depth=5, max_features=auto, min_samples_split=10, n_estimators=200, total=   1.4s\n",
      "[CV] class_weight=balanced, criterion=entropy, max_depth=5, max_features=auto, min_samples_split=10, n_estimators=200 \n",
      "[CV]  class_weight=balanced, criterion=entropy, max_depth=5, max_features=auto, min_samples_split=10, n_estimators=200, total=   1.5s\n",
      "[CV] class_weight=balanced, criterion=entropy, max_depth=5, max_features=auto, min_samples_split=10, n_estimators=300 \n",
      "[CV]  class_weight=balanced, criterion=entropy, max_depth=5, max_features=auto, min_samples_split=10, n_estimators=300, total=   2.2s\n",
      "[CV] class_weight=balanced, criterion=entropy, max_depth=5, max_features=auto, min_samples_split=10, n_estimators=300 \n",
      "[CV]  class_weight=balanced, criterion=entropy, max_depth=5, max_features=auto, min_samples_split=10, n_estimators=300, total=   2.1s\n",
      "[CV] class_weight=balanced, criterion=entropy, max_depth=5, max_features=auto, min_samples_split=10, n_estimators=300 \n",
      "[CV]  class_weight=balanced, criterion=entropy, max_depth=5, max_features=auto, min_samples_split=10, n_estimators=300, total=   1.7s\n",
      "[CV] class_weight=balanced, criterion=entropy, max_depth=5, max_features=auto, min_samples_split=10, n_estimators=300 \n",
      "[CV]  class_weight=balanced, criterion=entropy, max_depth=5, max_features=auto, min_samples_split=10, n_estimators=300, total=   2.0s\n",
      "[CV] class_weight=balanced, criterion=entropy, max_depth=5, max_features=auto, min_samples_split=10, n_estimators=300 \n",
      "[CV]  class_weight=balanced, criterion=entropy, max_depth=5, max_features=auto, min_samples_split=10, n_estimators=300, total=   2.2s\n",
      "[CV] class_weight=balanced, criterion=entropy, max_depth=7, max_features=auto, min_samples_split=20, n_estimators=150 \n",
      "[CV]  class_weight=balanced, criterion=entropy, max_depth=7, max_features=auto, min_samples_split=20, n_estimators=150, total=   1.1s\n",
      "[CV] class_weight=balanced, criterion=entropy, max_depth=7, max_features=auto, min_samples_split=20, n_estimators=150 \n",
      "[CV]  class_weight=balanced, criterion=entropy, max_depth=7, max_features=auto, min_samples_split=20, n_estimators=150, total=   1.1s\n",
      "[CV] class_weight=balanced, criterion=entropy, max_depth=7, max_features=auto, min_samples_split=20, n_estimators=150 \n",
      "[CV]  class_weight=balanced, criterion=entropy, max_depth=7, max_features=auto, min_samples_split=20, n_estimators=150, total=   1.1s\n",
      "[CV] class_weight=balanced, criterion=entropy, max_depth=7, max_features=auto, min_samples_split=20, n_estimators=150 \n",
      "[CV]  class_weight=balanced, criterion=entropy, max_depth=7, max_features=auto, min_samples_split=20, n_estimators=150, total=   1.1s\n",
      "[CV] class_weight=balanced, criterion=entropy, max_depth=7, max_features=auto, min_samples_split=20, n_estimators=150 \n",
      "[CV]  class_weight=balanced, criterion=entropy, max_depth=7, max_features=auto, min_samples_split=20, n_estimators=150, total=   1.0s\n",
      "[CV] class_weight=balanced, criterion=entropy, max_depth=7, max_features=auto, min_samples_split=20, n_estimators=200 \n",
      "[CV]  class_weight=balanced, criterion=entropy, max_depth=7, max_features=auto, min_samples_split=20, n_estimators=200, total=   1.5s\n",
      "[CV] class_weight=balanced, criterion=entropy, max_depth=7, max_features=auto, min_samples_split=20, n_estimators=200 \n",
      "[CV]  class_weight=balanced, criterion=entropy, max_depth=7, max_features=auto, min_samples_split=20, n_estimators=200, total=   1.4s\n",
      "[CV] class_weight=balanced, criterion=entropy, max_depth=7, max_features=auto, min_samples_split=20, n_estimators=200 \n",
      "[CV]  class_weight=balanced, criterion=entropy, max_depth=7, max_features=auto, min_samples_split=20, n_estimators=200, total=   1.5s\n",
      "[CV] class_weight=balanced, criterion=entropy, max_depth=7, max_features=auto, min_samples_split=20, n_estimators=200 \n",
      "[CV]  class_weight=balanced, criterion=entropy, max_depth=7, max_features=auto, min_samples_split=20, n_estimators=200, total=   1.4s\n",
      "[CV] class_weight=balanced, criterion=entropy, max_depth=7, max_features=auto, min_samples_split=20, n_estimators=200 \n",
      "[CV]  class_weight=balanced, criterion=entropy, max_depth=7, max_features=auto, min_samples_split=20, n_estimators=200, total=   1.4s\n",
      "[CV] class_weight=balanced, criterion=entropy, max_depth=7, max_features=auto, min_samples_split=20, n_estimators=300 \n",
      "[CV]  class_weight=balanced, criterion=entropy, max_depth=7, max_features=auto, min_samples_split=20, n_estimators=300, total=   2.3s\n",
      "[CV] class_weight=balanced, criterion=entropy, max_depth=7, max_features=auto, min_samples_split=20, n_estimators=300 \n",
      "[CV]  class_weight=balanced, criterion=entropy, max_depth=7, max_features=auto, min_samples_split=20, n_estimators=300, total=   2.2s\n",
      "[CV] class_weight=balanced, criterion=entropy, max_depth=7, max_features=auto, min_samples_split=20, n_estimators=300 \n",
      "[CV]  class_weight=balanced, criterion=entropy, max_depth=7, max_features=auto, min_samples_split=20, n_estimators=300, total=   2.1s\n",
      "[CV] class_weight=balanced, criterion=entropy, max_depth=7, max_features=auto, min_samples_split=20, n_estimators=300 \n",
      "[CV]  class_weight=balanced, criterion=entropy, max_depth=7, max_features=auto, min_samples_split=20, n_estimators=300, total=   2.2s\n",
      "[CV] class_weight=balanced, criterion=entropy, max_depth=7, max_features=auto, min_samples_split=20, n_estimators=300 \n",
      "[CV]  class_weight=balanced, criterion=entropy, max_depth=7, max_features=auto, min_samples_split=20, n_estimators=300, total=   2.3s\n",
      "[CV] class_weight=balanced, criterion=entropy, max_depth=7, max_features=auto, min_samples_split=15, n_estimators=150 \n",
      "[CV]  class_weight=balanced, criterion=entropy, max_depth=7, max_features=auto, min_samples_split=15, n_estimators=150, total=   1.0s\n",
      "[CV] class_weight=balanced, criterion=entropy, max_depth=7, max_features=auto, min_samples_split=15, n_estimators=150 \n",
      "[CV]  class_weight=balanced, criterion=entropy, max_depth=7, max_features=auto, min_samples_split=15, n_estimators=150, total=   1.0s\n",
      "[CV] class_weight=balanced, criterion=entropy, max_depth=7, max_features=auto, min_samples_split=15, n_estimators=150 \n",
      "[CV]  class_weight=balanced, criterion=entropy, max_depth=7, max_features=auto, min_samples_split=15, n_estimators=150, total=   1.0s\n",
      "[CV] class_weight=balanced, criterion=entropy, max_depth=7, max_features=auto, min_samples_split=15, n_estimators=150 \n",
      "[CV]  class_weight=balanced, criterion=entropy, max_depth=7, max_features=auto, min_samples_split=15, n_estimators=150, total=   1.1s\n",
      "[CV] class_weight=balanced, criterion=entropy, max_depth=7, max_features=auto, min_samples_split=15, n_estimators=150 \n",
      "[CV]  class_weight=balanced, criterion=entropy, max_depth=7, max_features=auto, min_samples_split=15, n_estimators=150, total=   1.0s\n",
      "[CV] class_weight=balanced, criterion=entropy, max_depth=7, max_features=auto, min_samples_split=15, n_estimators=200 \n"
     ]
    },
    {
     "name": "stdout",
     "output_type": "stream",
     "text": [
      "[CV]  class_weight=balanced, criterion=entropy, max_depth=7, max_features=auto, min_samples_split=15, n_estimators=200, total=   1.4s\n",
      "[CV] class_weight=balanced, criterion=entropy, max_depth=7, max_features=auto, min_samples_split=15, n_estimators=200 \n",
      "[CV]  class_weight=balanced, criterion=entropy, max_depth=7, max_features=auto, min_samples_split=15, n_estimators=200, total=   1.6s\n",
      "[CV] class_weight=balanced, criterion=entropy, max_depth=7, max_features=auto, min_samples_split=15, n_estimators=200 \n",
      "[CV]  class_weight=balanced, criterion=entropy, max_depth=7, max_features=auto, min_samples_split=15, n_estimators=200, total=   1.4s\n",
      "[CV] class_weight=balanced, criterion=entropy, max_depth=7, max_features=auto, min_samples_split=15, n_estimators=200 \n",
      "[CV]  class_weight=balanced, criterion=entropy, max_depth=7, max_features=auto, min_samples_split=15, n_estimators=200, total=   1.4s\n",
      "[CV] class_weight=balanced, criterion=entropy, max_depth=7, max_features=auto, min_samples_split=15, n_estimators=200 \n",
      "[CV]  class_weight=balanced, criterion=entropy, max_depth=7, max_features=auto, min_samples_split=15, n_estimators=200, total=   1.5s\n",
      "[CV] class_weight=balanced, criterion=entropy, max_depth=7, max_features=auto, min_samples_split=15, n_estimators=300 \n",
      "[CV]  class_weight=balanced, criterion=entropy, max_depth=7, max_features=auto, min_samples_split=15, n_estimators=300, total=   2.1s\n",
      "[CV] class_weight=balanced, criterion=entropy, max_depth=7, max_features=auto, min_samples_split=15, n_estimators=300 \n",
      "[CV]  class_weight=balanced, criterion=entropy, max_depth=7, max_features=auto, min_samples_split=15, n_estimators=300, total=   2.2s\n",
      "[CV] class_weight=balanced, criterion=entropy, max_depth=7, max_features=auto, min_samples_split=15, n_estimators=300 \n",
      "[CV]  class_weight=balanced, criterion=entropy, max_depth=7, max_features=auto, min_samples_split=15, n_estimators=300, total=   2.2s\n",
      "[CV] class_weight=balanced, criterion=entropy, max_depth=7, max_features=auto, min_samples_split=15, n_estimators=300 \n",
      "[CV]  class_weight=balanced, criterion=entropy, max_depth=7, max_features=auto, min_samples_split=15, n_estimators=300, total=   2.3s\n",
      "[CV] class_weight=balanced, criterion=entropy, max_depth=7, max_features=auto, min_samples_split=15, n_estimators=300 \n",
      "[CV]  class_weight=balanced, criterion=entropy, max_depth=7, max_features=auto, min_samples_split=15, n_estimators=300, total=   1.8s\n",
      "[CV] class_weight=balanced, criterion=entropy, max_depth=7, max_features=auto, min_samples_split=10, n_estimators=150 \n",
      "[CV]  class_weight=balanced, criterion=entropy, max_depth=7, max_features=auto, min_samples_split=10, n_estimators=150, total=   1.1s\n",
      "[CV] class_weight=balanced, criterion=entropy, max_depth=7, max_features=auto, min_samples_split=10, n_estimators=150 \n",
      "[CV]  class_weight=balanced, criterion=entropy, max_depth=7, max_features=auto, min_samples_split=10, n_estimators=150, total=   1.2s\n",
      "[CV] class_weight=balanced, criterion=entropy, max_depth=7, max_features=auto, min_samples_split=10, n_estimators=150 \n",
      "[CV]  class_weight=balanced, criterion=entropy, max_depth=7, max_features=auto, min_samples_split=10, n_estimators=150, total=   1.1s\n",
      "[CV] class_weight=balanced, criterion=entropy, max_depth=7, max_features=auto, min_samples_split=10, n_estimators=150 \n",
      "[CV]  class_weight=balanced, criterion=entropy, max_depth=7, max_features=auto, min_samples_split=10, n_estimators=150, total=   1.1s\n",
      "[CV] class_weight=balanced, criterion=entropy, max_depth=7, max_features=auto, min_samples_split=10, n_estimators=150 \n",
      "[CV]  class_weight=balanced, criterion=entropy, max_depth=7, max_features=auto, min_samples_split=10, n_estimators=150, total=   1.0s\n",
      "[CV] class_weight=balanced, criterion=entropy, max_depth=7, max_features=auto, min_samples_split=10, n_estimators=200 \n",
      "[CV]  class_weight=balanced, criterion=entropy, max_depth=7, max_features=auto, min_samples_split=10, n_estimators=200, total=   1.4s\n",
      "[CV] class_weight=balanced, criterion=entropy, max_depth=7, max_features=auto, min_samples_split=10, n_estimators=200 \n",
      "[CV]  class_weight=balanced, criterion=entropy, max_depth=7, max_features=auto, min_samples_split=10, n_estimators=200, total=   1.5s\n",
      "[CV] class_weight=balanced, criterion=entropy, max_depth=7, max_features=auto, min_samples_split=10, n_estimators=200 \n",
      "[CV]  class_weight=balanced, criterion=entropy, max_depth=7, max_features=auto, min_samples_split=10, n_estimators=200, total=   1.4s\n",
      "[CV] class_weight=balanced, criterion=entropy, max_depth=7, max_features=auto, min_samples_split=10, n_estimators=200 \n",
      "[CV]  class_weight=balanced, criterion=entropy, max_depth=7, max_features=auto, min_samples_split=10, n_estimators=200, total=   1.4s\n",
      "[CV] class_weight=balanced, criterion=entropy, max_depth=7, max_features=auto, min_samples_split=10, n_estimators=200 \n",
      "[CV]  class_weight=balanced, criterion=entropy, max_depth=7, max_features=auto, min_samples_split=10, n_estimators=200, total=   1.5s\n",
      "[CV] class_weight=balanced, criterion=entropy, max_depth=7, max_features=auto, min_samples_split=10, n_estimators=300 \n",
      "[CV]  class_weight=balanced, criterion=entropy, max_depth=7, max_features=auto, min_samples_split=10, n_estimators=300, total=   2.2s\n",
      "[CV] class_weight=balanced, criterion=entropy, max_depth=7, max_features=auto, min_samples_split=10, n_estimators=300 \n",
      "[CV]  class_weight=balanced, criterion=entropy, max_depth=7, max_features=auto, min_samples_split=10, n_estimators=300, total=   2.2s\n",
      "[CV] class_weight=balanced, criterion=entropy, max_depth=7, max_features=auto, min_samples_split=10, n_estimators=300 \n",
      "[CV]  class_weight=balanced, criterion=entropy, max_depth=7, max_features=auto, min_samples_split=10, n_estimators=300, total=   2.2s\n",
      "[CV] class_weight=balanced, criterion=entropy, max_depth=7, max_features=auto, min_samples_split=10, n_estimators=300 \n",
      "[CV]  class_weight=balanced, criterion=entropy, max_depth=7, max_features=auto, min_samples_split=10, n_estimators=300, total=   2.0s\n",
      "[CV] class_weight=balanced, criterion=entropy, max_depth=7, max_features=auto, min_samples_split=10, n_estimators=300 \n",
      "[CV]  class_weight=balanced, criterion=entropy, max_depth=7, max_features=auto, min_samples_split=10, n_estimators=300, total=   2.1s\n",
      "[CV] class_weight=balanced, criterion=entropy, max_depth=10, max_features=auto, min_samples_split=20, n_estimators=150 \n",
      "[CV]  class_weight=balanced, criterion=entropy, max_depth=10, max_features=auto, min_samples_split=20, n_estimators=150, total=   1.2s\n",
      "[CV] class_weight=balanced, criterion=entropy, max_depth=10, max_features=auto, min_samples_split=20, n_estimators=150 \n",
      "[CV]  class_weight=balanced, criterion=entropy, max_depth=10, max_features=auto, min_samples_split=20, n_estimators=150, total=   1.2s\n",
      "[CV] class_weight=balanced, criterion=entropy, max_depth=10, max_features=auto, min_samples_split=20, n_estimators=150 \n",
      "[CV]  class_weight=balanced, criterion=entropy, max_depth=10, max_features=auto, min_samples_split=20, n_estimators=150, total=   1.2s\n",
      "[CV] class_weight=balanced, criterion=entropy, max_depth=10, max_features=auto, min_samples_split=20, n_estimators=150 \n",
      "[CV]  class_weight=balanced, criterion=entropy, max_depth=10, max_features=auto, min_samples_split=20, n_estimators=150, total=   1.2s\n",
      "[CV] class_weight=balanced, criterion=entropy, max_depth=10, max_features=auto, min_samples_split=20, n_estimators=150 \n",
      "[CV]  class_weight=balanced, criterion=entropy, max_depth=10, max_features=auto, min_samples_split=20, n_estimators=150, total=   1.2s\n",
      "[CV] class_weight=balanced, criterion=entropy, max_depth=10, max_features=auto, min_samples_split=20, n_estimators=200 \n",
      "[CV]  class_weight=balanced, criterion=entropy, max_depth=10, max_features=auto, min_samples_split=20, n_estimators=200, total=   1.2s\n",
      "[CV] class_weight=balanced, criterion=entropy, max_depth=10, max_features=auto, min_samples_split=20, n_estimators=200 \n",
      "[CV]  class_weight=balanced, criterion=entropy, max_depth=10, max_features=auto, min_samples_split=20, n_estimators=200, total=   1.4s\n",
      "[CV] class_weight=balanced, criterion=entropy, max_depth=10, max_features=auto, min_samples_split=20, n_estimators=200 \n",
      "[CV]  class_weight=balanced, criterion=entropy, max_depth=10, max_features=auto, min_samples_split=20, n_estimators=200, total=   1.4s\n",
      "[CV] class_weight=balanced, criterion=entropy, max_depth=10, max_features=auto, min_samples_split=20, n_estimators=200 \n"
     ]
    },
    {
     "name": "stdout",
     "output_type": "stream",
     "text": [
      "[CV]  class_weight=balanced, criterion=entropy, max_depth=10, max_features=auto, min_samples_split=20, n_estimators=200, total=   1.6s\n",
      "[CV] class_weight=balanced, criterion=entropy, max_depth=10, max_features=auto, min_samples_split=20, n_estimators=200 \n",
      "[CV]  class_weight=balanced, criterion=entropy, max_depth=10, max_features=auto, min_samples_split=20, n_estimators=200, total=   1.5s\n",
      "[CV] class_weight=balanced, criterion=entropy, max_depth=10, max_features=auto, min_samples_split=20, n_estimators=300 \n",
      "[CV]  class_weight=balanced, criterion=entropy, max_depth=10, max_features=auto, min_samples_split=20, n_estimators=300, total=   2.2s\n",
      "[CV] class_weight=balanced, criterion=entropy, max_depth=10, max_features=auto, min_samples_split=20, n_estimators=300 \n",
      "[CV]  class_weight=balanced, criterion=entropy, max_depth=10, max_features=auto, min_samples_split=20, n_estimators=300, total=   2.2s\n",
      "[CV] class_weight=balanced, criterion=entropy, max_depth=10, max_features=auto, min_samples_split=20, n_estimators=300 \n",
      "[CV]  class_weight=balanced, criterion=entropy, max_depth=10, max_features=auto, min_samples_split=20, n_estimators=300, total=   2.2s\n",
      "[CV] class_weight=balanced, criterion=entropy, max_depth=10, max_features=auto, min_samples_split=20, n_estimators=300 \n",
      "[CV]  class_weight=balanced, criterion=entropy, max_depth=10, max_features=auto, min_samples_split=20, n_estimators=300, total=   2.3s\n",
      "[CV] class_weight=balanced, criterion=entropy, max_depth=10, max_features=auto, min_samples_split=20, n_estimators=300 \n",
      "[CV]  class_weight=balanced, criterion=entropy, max_depth=10, max_features=auto, min_samples_split=20, n_estimators=300, total=   2.3s\n",
      "[CV] class_weight=balanced, criterion=entropy, max_depth=10, max_features=auto, min_samples_split=15, n_estimators=150 \n",
      "[CV]  class_weight=balanced, criterion=entropy, max_depth=10, max_features=auto, min_samples_split=15, n_estimators=150, total=   1.2s\n",
      "[CV] class_weight=balanced, criterion=entropy, max_depth=10, max_features=auto, min_samples_split=15, n_estimators=150 \n",
      "[CV]  class_weight=balanced, criterion=entropy, max_depth=10, max_features=auto, min_samples_split=15, n_estimators=150, total=   1.1s\n",
      "[CV] class_weight=balanced, criterion=entropy, max_depth=10, max_features=auto, min_samples_split=15, n_estimators=150 \n",
      "[CV]  class_weight=balanced, criterion=entropy, max_depth=10, max_features=auto, min_samples_split=15, n_estimators=150, total=   1.1s\n",
      "[CV] class_weight=balanced, criterion=entropy, max_depth=10, max_features=auto, min_samples_split=15, n_estimators=150 \n",
      "[CV]  class_weight=balanced, criterion=entropy, max_depth=10, max_features=auto, min_samples_split=15, n_estimators=150, total=   1.3s\n",
      "[CV] class_weight=balanced, criterion=entropy, max_depth=10, max_features=auto, min_samples_split=15, n_estimators=150 \n",
      "[CV]  class_weight=balanced, criterion=entropy, max_depth=10, max_features=auto, min_samples_split=15, n_estimators=150, total=   1.1s\n",
      "[CV] class_weight=balanced, criterion=entropy, max_depth=10, max_features=auto, min_samples_split=15, n_estimators=200 \n",
      "[CV]  class_weight=balanced, criterion=entropy, max_depth=10, max_features=auto, min_samples_split=15, n_estimators=200, total=   1.5s\n",
      "[CV] class_weight=balanced, criterion=entropy, max_depth=10, max_features=auto, min_samples_split=15, n_estimators=200 \n",
      "[CV]  class_weight=balanced, criterion=entropy, max_depth=10, max_features=auto, min_samples_split=15, n_estimators=200, total=   1.5s\n",
      "[CV] class_weight=balanced, criterion=entropy, max_depth=10, max_features=auto, min_samples_split=15, n_estimators=200 \n",
      "[CV]  class_weight=balanced, criterion=entropy, max_depth=10, max_features=auto, min_samples_split=15, n_estimators=200, total=   1.6s\n",
      "[CV] class_weight=balanced, criterion=entropy, max_depth=10, max_features=auto, min_samples_split=15, n_estimators=200 \n",
      "[CV]  class_weight=balanced, criterion=entropy, max_depth=10, max_features=auto, min_samples_split=15, n_estimators=200, total=   1.4s\n",
      "[CV] class_weight=balanced, criterion=entropy, max_depth=10, max_features=auto, min_samples_split=15, n_estimators=200 \n",
      "[CV]  class_weight=balanced, criterion=entropy, max_depth=10, max_features=auto, min_samples_split=15, n_estimators=200, total=   1.5s\n",
      "[CV] class_weight=balanced, criterion=entropy, max_depth=10, max_features=auto, min_samples_split=15, n_estimators=300 \n",
      "[CV]  class_weight=balanced, criterion=entropy, max_depth=10, max_features=auto, min_samples_split=15, n_estimators=300, total=   2.3s\n",
      "[CV] class_weight=balanced, criterion=entropy, max_depth=10, max_features=auto, min_samples_split=15, n_estimators=300 \n",
      "[CV]  class_weight=balanced, criterion=entropy, max_depth=10, max_features=auto, min_samples_split=15, n_estimators=300, total=   1.6s\n",
      "[CV] class_weight=balanced, criterion=entropy, max_depth=10, max_features=auto, min_samples_split=15, n_estimators=300 \n",
      "[CV]  class_weight=balanced, criterion=entropy, max_depth=10, max_features=auto, min_samples_split=15, n_estimators=300, total=   2.3s\n",
      "[CV] class_weight=balanced, criterion=entropy, max_depth=10, max_features=auto, min_samples_split=15, n_estimators=300 \n",
      "[CV]  class_weight=balanced, criterion=entropy, max_depth=10, max_features=auto, min_samples_split=15, n_estimators=300, total=   2.3s\n",
      "[CV] class_weight=balanced, criterion=entropy, max_depth=10, max_features=auto, min_samples_split=15, n_estimators=300 \n",
      "[CV]  class_weight=balanced, criterion=entropy, max_depth=10, max_features=auto, min_samples_split=15, n_estimators=300, total=   2.3s\n",
      "[CV] class_weight=balanced, criterion=entropy, max_depth=10, max_features=auto, min_samples_split=10, n_estimators=150 \n",
      "[CV]  class_weight=balanced, criterion=entropy, max_depth=10, max_features=auto, min_samples_split=10, n_estimators=150, total=   1.1s\n",
      "[CV] class_weight=balanced, criterion=entropy, max_depth=10, max_features=auto, min_samples_split=10, n_estimators=150 \n",
      "[CV]  class_weight=balanced, criterion=entropy, max_depth=10, max_features=auto, min_samples_split=10, n_estimators=150, total=   1.1s\n",
      "[CV] class_weight=balanced, criterion=entropy, max_depth=10, max_features=auto, min_samples_split=10, n_estimators=150 \n",
      "[CV]  class_weight=balanced, criterion=entropy, max_depth=10, max_features=auto, min_samples_split=10, n_estimators=150, total=   1.1s\n",
      "[CV] class_weight=balanced, criterion=entropy, max_depth=10, max_features=auto, min_samples_split=10, n_estimators=150 \n",
      "[CV]  class_weight=balanced, criterion=entropy, max_depth=10, max_features=auto, min_samples_split=10, n_estimators=150, total=   1.1s\n",
      "[CV] class_weight=balanced, criterion=entropy, max_depth=10, max_features=auto, min_samples_split=10, n_estimators=150 \n",
      "[CV]  class_weight=balanced, criterion=entropy, max_depth=10, max_features=auto, min_samples_split=10, n_estimators=150, total=   1.1s\n",
      "[CV] class_weight=balanced, criterion=entropy, max_depth=10, max_features=auto, min_samples_split=10, n_estimators=200 \n",
      "[CV]  class_weight=balanced, criterion=entropy, max_depth=10, max_features=auto, min_samples_split=10, n_estimators=200, total=   1.7s\n",
      "[CV] class_weight=balanced, criterion=entropy, max_depth=10, max_features=auto, min_samples_split=10, n_estimators=200 \n",
      "[CV]  class_weight=balanced, criterion=entropy, max_depth=10, max_features=auto, min_samples_split=10, n_estimators=200, total=   1.6s\n",
      "[CV] class_weight=balanced, criterion=entropy, max_depth=10, max_features=auto, min_samples_split=10, n_estimators=200 \n",
      "[CV]  class_weight=balanced, criterion=entropy, max_depth=10, max_features=auto, min_samples_split=10, n_estimators=200, total=   1.5s\n",
      "[CV] class_weight=balanced, criterion=entropy, max_depth=10, max_features=auto, min_samples_split=10, n_estimators=200 \n",
      "[CV]  class_weight=balanced, criterion=entropy, max_depth=10, max_features=auto, min_samples_split=10, n_estimators=200, total=   1.5s\n",
      "[CV] class_weight=balanced, criterion=entropy, max_depth=10, max_features=auto, min_samples_split=10, n_estimators=200 \n",
      "[CV]  class_weight=balanced, criterion=entropy, max_depth=10, max_features=auto, min_samples_split=10, n_estimators=200, total=   1.6s\n",
      "[CV] class_weight=balanced, criterion=entropy, max_depth=10, max_features=auto, min_samples_split=10, n_estimators=300 \n",
      "[CV]  class_weight=balanced, criterion=entropy, max_depth=10, max_features=auto, min_samples_split=10, n_estimators=300, total=   2.3s\n",
      "[CV] class_weight=balanced, criterion=entropy, max_depth=10, max_features=auto, min_samples_split=10, n_estimators=300 \n"
     ]
    },
    {
     "name": "stdout",
     "output_type": "stream",
     "text": [
      "[CV]  class_weight=balanced, criterion=entropy, max_depth=10, max_features=auto, min_samples_split=10, n_estimators=300, total=   2.3s\n",
      "[CV] class_weight=balanced, criterion=entropy, max_depth=10, max_features=auto, min_samples_split=10, n_estimators=300 \n",
      "[CV]  class_weight=balanced, criterion=entropy, max_depth=10, max_features=auto, min_samples_split=10, n_estimators=300, total=   2.3s\n",
      "[CV] class_weight=balanced, criterion=entropy, max_depth=10, max_features=auto, min_samples_split=10, n_estimators=300 \n",
      "[CV]  class_weight=balanced, criterion=entropy, max_depth=10, max_features=auto, min_samples_split=10, n_estimators=300, total=   2.4s\n",
      "[CV] class_weight=balanced, criterion=entropy, max_depth=10, max_features=auto, min_samples_split=10, n_estimators=300 \n",
      "[CV]  class_weight=balanced, criterion=entropy, max_depth=10, max_features=auto, min_samples_split=10, n_estimators=300, total=   2.2s\n",
      "[CV] class_weight=balanced, criterion=entropy, max_depth=14, max_features=auto, min_samples_split=20, n_estimators=150 \n",
      "[CV]  class_weight=balanced, criterion=entropy, max_depth=14, max_features=auto, min_samples_split=20, n_estimators=150, total=   1.1s\n",
      "[CV] class_weight=balanced, criterion=entropy, max_depth=14, max_features=auto, min_samples_split=20, n_estimators=150 \n",
      "[CV]  class_weight=balanced, criterion=entropy, max_depth=14, max_features=auto, min_samples_split=20, n_estimators=150, total=   1.2s\n",
      "[CV] class_weight=balanced, criterion=entropy, max_depth=14, max_features=auto, min_samples_split=20, n_estimators=150 \n",
      "[CV]  class_weight=balanced, criterion=entropy, max_depth=14, max_features=auto, min_samples_split=20, n_estimators=150, total=   1.1s\n",
      "[CV] class_weight=balanced, criterion=entropy, max_depth=14, max_features=auto, min_samples_split=20, n_estimators=150 \n",
      "[CV]  class_weight=balanced, criterion=entropy, max_depth=14, max_features=auto, min_samples_split=20, n_estimators=150, total=   1.1s\n",
      "[CV] class_weight=balanced, criterion=entropy, max_depth=14, max_features=auto, min_samples_split=20, n_estimators=150 \n",
      "[CV]  class_weight=balanced, criterion=entropy, max_depth=14, max_features=auto, min_samples_split=20, n_estimators=150, total=   1.1s\n",
      "[CV] class_weight=balanced, criterion=entropy, max_depth=14, max_features=auto, min_samples_split=20, n_estimators=200 \n",
      "[CV]  class_weight=balanced, criterion=entropy, max_depth=14, max_features=auto, min_samples_split=20, n_estimators=200, total=   1.4s\n",
      "[CV] class_weight=balanced, criterion=entropy, max_depth=14, max_features=auto, min_samples_split=20, n_estimators=200 \n",
      "[CV]  class_weight=balanced, criterion=entropy, max_depth=14, max_features=auto, min_samples_split=20, n_estimators=200, total=   1.5s\n",
      "[CV] class_weight=balanced, criterion=entropy, max_depth=14, max_features=auto, min_samples_split=20, n_estimators=200 \n",
      "[CV]  class_weight=balanced, criterion=entropy, max_depth=14, max_features=auto, min_samples_split=20, n_estimators=200, total=   1.6s\n",
      "[CV] class_weight=balanced, criterion=entropy, max_depth=14, max_features=auto, min_samples_split=20, n_estimators=200 \n",
      "[CV]  class_weight=balanced, criterion=entropy, max_depth=14, max_features=auto, min_samples_split=20, n_estimators=200, total=   1.4s\n",
      "[CV] class_weight=balanced, criterion=entropy, max_depth=14, max_features=auto, min_samples_split=20, n_estimators=200 \n",
      "[CV]  class_weight=balanced, criterion=entropy, max_depth=14, max_features=auto, min_samples_split=20, n_estimators=200, total=   1.4s\n",
      "[CV] class_weight=balanced, criterion=entropy, max_depth=14, max_features=auto, min_samples_split=20, n_estimators=300 \n",
      "[CV]  class_weight=balanced, criterion=entropy, max_depth=14, max_features=auto, min_samples_split=20, n_estimators=300, total=   2.5s\n",
      "[CV] class_weight=balanced, criterion=entropy, max_depth=14, max_features=auto, min_samples_split=20, n_estimators=300 \n",
      "[CV]  class_weight=balanced, criterion=entropy, max_depth=14, max_features=auto, min_samples_split=20, n_estimators=300, total=   2.3s\n",
      "[CV] class_weight=balanced, criterion=entropy, max_depth=14, max_features=auto, min_samples_split=20, n_estimators=300 \n",
      "[CV]  class_weight=balanced, criterion=entropy, max_depth=14, max_features=auto, min_samples_split=20, n_estimators=300, total=   2.4s\n",
      "[CV] class_weight=balanced, criterion=entropy, max_depth=14, max_features=auto, min_samples_split=20, n_estimators=300 \n",
      "[CV]  class_weight=balanced, criterion=entropy, max_depth=14, max_features=auto, min_samples_split=20, n_estimators=300, total=   2.4s\n",
      "[CV] class_weight=balanced, criterion=entropy, max_depth=14, max_features=auto, min_samples_split=20, n_estimators=300 \n",
      "[CV]  class_weight=balanced, criterion=entropy, max_depth=14, max_features=auto, min_samples_split=20, n_estimators=300, total=   2.5s\n",
      "[CV] class_weight=balanced, criterion=entropy, max_depth=14, max_features=auto, min_samples_split=15, n_estimators=150 \n",
      "[CV]  class_weight=balanced, criterion=entropy, max_depth=14, max_features=auto, min_samples_split=15, n_estimators=150, total=   1.1s\n",
      "[CV] class_weight=balanced, criterion=entropy, max_depth=14, max_features=auto, min_samples_split=15, n_estimators=150 \n",
      "[CV]  class_weight=balanced, criterion=entropy, max_depth=14, max_features=auto, min_samples_split=15, n_estimators=150, total=   1.1s\n",
      "[CV] class_weight=balanced, criterion=entropy, max_depth=14, max_features=auto, min_samples_split=15, n_estimators=150 \n",
      "[CV]  class_weight=balanced, criterion=entropy, max_depth=14, max_features=auto, min_samples_split=15, n_estimators=150, total=   1.1s\n",
      "[CV] class_weight=balanced, criterion=entropy, max_depth=14, max_features=auto, min_samples_split=15, n_estimators=150 \n",
      "[CV]  class_weight=balanced, criterion=entropy, max_depth=14, max_features=auto, min_samples_split=15, n_estimators=150, total=   1.0s\n",
      "[CV] class_weight=balanced, criterion=entropy, max_depth=14, max_features=auto, min_samples_split=15, n_estimators=150 \n",
      "[CV]  class_weight=balanced, criterion=entropy, max_depth=14, max_features=auto, min_samples_split=15, n_estimators=150, total=   1.1s\n",
      "[CV] class_weight=balanced, criterion=entropy, max_depth=14, max_features=auto, min_samples_split=15, n_estimators=200 \n",
      "[CV]  class_weight=balanced, criterion=entropy, max_depth=14, max_features=auto, min_samples_split=15, n_estimators=200, total=   1.5s\n",
      "[CV] class_weight=balanced, criterion=entropy, max_depth=14, max_features=auto, min_samples_split=15, n_estimators=200 \n",
      "[CV]  class_weight=balanced, criterion=entropy, max_depth=14, max_features=auto, min_samples_split=15, n_estimators=200, total=   1.7s\n",
      "[CV] class_weight=balanced, criterion=entropy, max_depth=14, max_features=auto, min_samples_split=15, n_estimators=200 \n",
      "[CV]  class_weight=balanced, criterion=entropy, max_depth=14, max_features=auto, min_samples_split=15, n_estimators=200, total=   1.7s\n",
      "[CV] class_weight=balanced, criterion=entropy, max_depth=14, max_features=auto, min_samples_split=15, n_estimators=200 \n",
      "[CV]  class_weight=balanced, criterion=entropy, max_depth=14, max_features=auto, min_samples_split=15, n_estimators=200, total=   1.1s\n",
      "[CV] class_weight=balanced, criterion=entropy, max_depth=14, max_features=auto, min_samples_split=15, n_estimators=200 \n",
      "[CV]  class_weight=balanced, criterion=entropy, max_depth=14, max_features=auto, min_samples_split=15, n_estimators=200, total=   1.8s\n",
      "[CV] class_weight=balanced, criterion=entropy, max_depth=14, max_features=auto, min_samples_split=15, n_estimators=300 \n",
      "[CV]  class_weight=balanced, criterion=entropy, max_depth=14, max_features=auto, min_samples_split=15, n_estimators=300, total=   2.3s\n",
      "[CV] class_weight=balanced, criterion=entropy, max_depth=14, max_features=auto, min_samples_split=15, n_estimators=300 \n",
      "[CV]  class_weight=balanced, criterion=entropy, max_depth=14, max_features=auto, min_samples_split=15, n_estimators=300, total=   2.4s\n",
      "[CV] class_weight=balanced, criterion=entropy, max_depth=14, max_features=auto, min_samples_split=15, n_estimators=300 \n",
      "[CV]  class_weight=balanced, criterion=entropy, max_depth=14, max_features=auto, min_samples_split=15, n_estimators=300, total=   2.3s\n",
      "[CV] class_weight=balanced, criterion=entropy, max_depth=14, max_features=auto, min_samples_split=15, n_estimators=300 \n",
      "[CV]  class_weight=balanced, criterion=entropy, max_depth=14, max_features=auto, min_samples_split=15, n_estimators=300, total=   2.4s\n",
      "[CV] class_weight=balanced, criterion=entropy, max_depth=14, max_features=auto, min_samples_split=15, n_estimators=300 \n"
     ]
    },
    {
     "name": "stdout",
     "output_type": "stream",
     "text": [
      "[CV]  class_weight=balanced, criterion=entropy, max_depth=14, max_features=auto, min_samples_split=15, n_estimators=300, total=   2.3s\n",
      "[CV] class_weight=balanced, criterion=entropy, max_depth=14, max_features=auto, min_samples_split=10, n_estimators=150 \n",
      "[CV]  class_weight=balanced, criterion=entropy, max_depth=14, max_features=auto, min_samples_split=10, n_estimators=150, total=   1.1s\n",
      "[CV] class_weight=balanced, criterion=entropy, max_depth=14, max_features=auto, min_samples_split=10, n_estimators=150 \n",
      "[CV]  class_weight=balanced, criterion=entropy, max_depth=14, max_features=auto, min_samples_split=10, n_estimators=150, total=   1.2s\n",
      "[CV] class_weight=balanced, criterion=entropy, max_depth=14, max_features=auto, min_samples_split=10, n_estimators=150 \n",
      "[CV]  class_weight=balanced, criterion=entropy, max_depth=14, max_features=auto, min_samples_split=10, n_estimators=150, total=   1.4s\n",
      "[CV] class_weight=balanced, criterion=entropy, max_depth=14, max_features=auto, min_samples_split=10, n_estimators=150 \n",
      "[CV]  class_weight=balanced, criterion=entropy, max_depth=14, max_features=auto, min_samples_split=10, n_estimators=150, total=   1.4s\n",
      "[CV] class_weight=balanced, criterion=entropy, max_depth=14, max_features=auto, min_samples_split=10, n_estimators=150 \n",
      "[CV]  class_weight=balanced, criterion=entropy, max_depth=14, max_features=auto, min_samples_split=10, n_estimators=150, total=   1.4s\n",
      "[CV] class_weight=balanced, criterion=entropy, max_depth=14, max_features=auto, min_samples_split=10, n_estimators=200 \n",
      "[CV]  class_weight=balanced, criterion=entropy, max_depth=14, max_features=auto, min_samples_split=10, n_estimators=200, total=   1.2s\n",
      "[CV] class_weight=balanced, criterion=entropy, max_depth=14, max_features=auto, min_samples_split=10, n_estimators=200 \n",
      "[CV]  class_weight=balanced, criterion=entropy, max_depth=14, max_features=auto, min_samples_split=10, n_estimators=200, total=   1.0s\n",
      "[CV] class_weight=balanced, criterion=entropy, max_depth=14, max_features=auto, min_samples_split=10, n_estimators=200 \n",
      "[CV]  class_weight=balanced, criterion=entropy, max_depth=14, max_features=auto, min_samples_split=10, n_estimators=200, total=   1.5s\n",
      "[CV] class_weight=balanced, criterion=entropy, max_depth=14, max_features=auto, min_samples_split=10, n_estimators=200 \n",
      "[CV]  class_weight=balanced, criterion=entropy, max_depth=14, max_features=auto, min_samples_split=10, n_estimators=200, total=   1.7s\n",
      "[CV] class_weight=balanced, criterion=entropy, max_depth=14, max_features=auto, min_samples_split=10, n_estimators=200 \n",
      "[CV]  class_weight=balanced, criterion=entropy, max_depth=14, max_features=auto, min_samples_split=10, n_estimators=200, total=   1.5s\n",
      "[CV] class_weight=balanced, criterion=entropy, max_depth=14, max_features=auto, min_samples_split=10, n_estimators=300 \n",
      "[CV]  class_weight=balanced, criterion=entropy, max_depth=14, max_features=auto, min_samples_split=10, n_estimators=300, total=   2.6s\n",
      "[CV] class_weight=balanced, criterion=entropy, max_depth=14, max_features=auto, min_samples_split=10, n_estimators=300 \n",
      "[CV]  class_weight=balanced, criterion=entropy, max_depth=14, max_features=auto, min_samples_split=10, n_estimators=300, total=   2.3s\n",
      "[CV] class_weight=balanced, criterion=entropy, max_depth=14, max_features=auto, min_samples_split=10, n_estimators=300 \n",
      "[CV]  class_weight=balanced, criterion=entropy, max_depth=14, max_features=auto, min_samples_split=10, n_estimators=300, total=   2.4s\n",
      "[CV] class_weight=balanced, criterion=entropy, max_depth=14, max_features=auto, min_samples_split=10, n_estimators=300 \n",
      "[CV]  class_weight=balanced, criterion=entropy, max_depth=14, max_features=auto, min_samples_split=10, n_estimators=300, total=   2.4s\n",
      "[CV] class_weight=balanced, criterion=entropy, max_depth=14, max_features=auto, min_samples_split=10, n_estimators=300 \n",
      "[CV]  class_weight=balanced, criterion=entropy, max_depth=14, max_features=auto, min_samples_split=10, n_estimators=300, total=   2.4s\n",
      "[CV] class_weight=balanced_subsample, criterion=gini, max_depth=3, max_features=auto, min_samples_split=20, n_estimators=150 \n",
      "[CV]  class_weight=balanced_subsample, criterion=gini, max_depth=3, max_features=auto, min_samples_split=20, n_estimators=150, total=   1.3s\n",
      "[CV] class_weight=balanced_subsample, criterion=gini, max_depth=3, max_features=auto, min_samples_split=20, n_estimators=150 \n",
      "[CV]  class_weight=balanced_subsample, criterion=gini, max_depth=3, max_features=auto, min_samples_split=20, n_estimators=150, total=   1.3s\n",
      "[CV] class_weight=balanced_subsample, criterion=gini, max_depth=3, max_features=auto, min_samples_split=20, n_estimators=150 \n",
      "[CV]  class_weight=balanced_subsample, criterion=gini, max_depth=3, max_features=auto, min_samples_split=20, n_estimators=150, total=   1.4s\n",
      "[CV] class_weight=balanced_subsample, criterion=gini, max_depth=3, max_features=auto, min_samples_split=20, n_estimators=150 \n",
      "[CV]  class_weight=balanced_subsample, criterion=gini, max_depth=3, max_features=auto, min_samples_split=20, n_estimators=150, total=   1.4s\n",
      "[CV] class_weight=balanced_subsample, criterion=gini, max_depth=3, max_features=auto, min_samples_split=20, n_estimators=150 \n",
      "[CV]  class_weight=balanced_subsample, criterion=gini, max_depth=3, max_features=auto, min_samples_split=20, n_estimators=150, total=   1.3s\n",
      "[CV] class_weight=balanced_subsample, criterion=gini, max_depth=3, max_features=auto, min_samples_split=20, n_estimators=200 \n",
      "[CV]  class_weight=balanced_subsample, criterion=gini, max_depth=3, max_features=auto, min_samples_split=20, n_estimators=200, total=   1.9s\n",
      "[CV] class_weight=balanced_subsample, criterion=gini, max_depth=3, max_features=auto, min_samples_split=20, n_estimators=200 \n",
      "[CV]  class_weight=balanced_subsample, criterion=gini, max_depth=3, max_features=auto, min_samples_split=20, n_estimators=200, total=   1.5s\n",
      "[CV] class_weight=balanced_subsample, criterion=gini, max_depth=3, max_features=auto, min_samples_split=20, n_estimators=200 \n",
      "[CV]  class_weight=balanced_subsample, criterion=gini, max_depth=3, max_features=auto, min_samples_split=20, n_estimators=200, total=   1.7s\n",
      "[CV] class_weight=balanced_subsample, criterion=gini, max_depth=3, max_features=auto, min_samples_split=20, n_estimators=200 \n",
      "[CV]  class_weight=balanced_subsample, criterion=gini, max_depth=3, max_features=auto, min_samples_split=20, n_estimators=200, total=   1.9s\n",
      "[CV] class_weight=balanced_subsample, criterion=gini, max_depth=3, max_features=auto, min_samples_split=20, n_estimators=200 \n",
      "[CV]  class_weight=balanced_subsample, criterion=gini, max_depth=3, max_features=auto, min_samples_split=20, n_estimators=200, total=   1.8s\n",
      "[CV] class_weight=balanced_subsample, criterion=gini, max_depth=3, max_features=auto, min_samples_split=20, n_estimators=300 \n",
      "[CV]  class_weight=balanced_subsample, criterion=gini, max_depth=3, max_features=auto, min_samples_split=20, n_estimators=300, total=   2.9s\n",
      "[CV] class_weight=balanced_subsample, criterion=gini, max_depth=3, max_features=auto, min_samples_split=20, n_estimators=300 \n",
      "[CV]  class_weight=balanced_subsample, criterion=gini, max_depth=3, max_features=auto, min_samples_split=20, n_estimators=300, total=   2.9s\n",
      "[CV] class_weight=balanced_subsample, criterion=gini, max_depth=3, max_features=auto, min_samples_split=20, n_estimators=300 \n",
      "[CV]  class_weight=balanced_subsample, criterion=gini, max_depth=3, max_features=auto, min_samples_split=20, n_estimators=300, total=   2.9s\n",
      "[CV] class_weight=balanced_subsample, criterion=gini, max_depth=3, max_features=auto, min_samples_split=20, n_estimators=300 \n",
      "[CV]  class_weight=balanced_subsample, criterion=gini, max_depth=3, max_features=auto, min_samples_split=20, n_estimators=300, total=   2.7s\n",
      "[CV] class_weight=balanced_subsample, criterion=gini, max_depth=3, max_features=auto, min_samples_split=20, n_estimators=300 \n",
      "[CV]  class_weight=balanced_subsample, criterion=gini, max_depth=3, max_features=auto, min_samples_split=20, n_estimators=300, total=   3.4s\n",
      "[CV] class_weight=balanced_subsample, criterion=gini, max_depth=3, max_features=auto, min_samples_split=15, n_estimators=150 \n",
      "[CV]  class_weight=balanced_subsample, criterion=gini, max_depth=3, max_features=auto, min_samples_split=15, n_estimators=150, total=   1.3s\n",
      "[CV] class_weight=balanced_subsample, criterion=gini, max_depth=3, max_features=auto, min_samples_split=15, n_estimators=150 \n"
     ]
    },
    {
     "name": "stdout",
     "output_type": "stream",
     "text": [
      "[CV]  class_weight=balanced_subsample, criterion=gini, max_depth=3, max_features=auto, min_samples_split=15, n_estimators=150, total=   1.0s\n",
      "[CV] class_weight=balanced_subsample, criterion=gini, max_depth=3, max_features=auto, min_samples_split=15, n_estimators=150 \n",
      "[CV]  class_weight=balanced_subsample, criterion=gini, max_depth=3, max_features=auto, min_samples_split=15, n_estimators=150, total=   0.6s\n",
      "[CV] class_weight=balanced_subsample, criterion=gini, max_depth=3, max_features=auto, min_samples_split=15, n_estimators=150 \n",
      "[CV]  class_weight=balanced_subsample, criterion=gini, max_depth=3, max_features=auto, min_samples_split=15, n_estimators=150, total=   1.0s\n",
      "[CV] class_weight=balanced_subsample, criterion=gini, max_depth=3, max_features=auto, min_samples_split=15, n_estimators=150 \n",
      "[CV]  class_weight=balanced_subsample, criterion=gini, max_depth=3, max_features=auto, min_samples_split=15, n_estimators=150, total=   1.0s\n",
      "[CV] class_weight=balanced_subsample, criterion=gini, max_depth=3, max_features=auto, min_samples_split=15, n_estimators=200 \n",
      "[CV]  class_weight=balanced_subsample, criterion=gini, max_depth=3, max_features=auto, min_samples_split=15, n_estimators=200, total=   2.0s\n",
      "[CV] class_weight=balanced_subsample, criterion=gini, max_depth=3, max_features=auto, min_samples_split=15, n_estimators=200 \n",
      "[CV]  class_weight=balanced_subsample, criterion=gini, max_depth=3, max_features=auto, min_samples_split=15, n_estimators=200, total=   1.9s\n",
      "[CV] class_weight=balanced_subsample, criterion=gini, max_depth=3, max_features=auto, min_samples_split=15, n_estimators=200 \n",
      "[CV]  class_weight=balanced_subsample, criterion=gini, max_depth=3, max_features=auto, min_samples_split=15, n_estimators=200, total=   1.6s\n",
      "[CV] class_weight=balanced_subsample, criterion=gini, max_depth=3, max_features=auto, min_samples_split=15, n_estimators=200 \n",
      "[CV]  class_weight=balanced_subsample, criterion=gini, max_depth=3, max_features=auto, min_samples_split=15, n_estimators=200, total=   1.7s\n",
      "[CV] class_weight=balanced_subsample, criterion=gini, max_depth=3, max_features=auto, min_samples_split=15, n_estimators=200 \n",
      "[CV]  class_weight=balanced_subsample, criterion=gini, max_depth=3, max_features=auto, min_samples_split=15, n_estimators=200, total=   1.2s\n",
      "[CV] class_weight=balanced_subsample, criterion=gini, max_depth=3, max_features=auto, min_samples_split=15, n_estimators=300 \n",
      "[CV]  class_weight=balanced_subsample, criterion=gini, max_depth=3, max_features=auto, min_samples_split=15, n_estimators=300, total=   2.0s\n",
      "[CV] class_weight=balanced_subsample, criterion=gini, max_depth=3, max_features=auto, min_samples_split=15, n_estimators=300 \n",
      "[CV]  class_weight=balanced_subsample, criterion=gini, max_depth=3, max_features=auto, min_samples_split=15, n_estimators=300, total=   3.3s\n",
      "[CV] class_weight=balanced_subsample, criterion=gini, max_depth=3, max_features=auto, min_samples_split=15, n_estimators=300 \n",
      "[CV]  class_weight=balanced_subsample, criterion=gini, max_depth=3, max_features=auto, min_samples_split=15, n_estimators=300, total=   2.4s\n",
      "[CV] class_weight=balanced_subsample, criterion=gini, max_depth=3, max_features=auto, min_samples_split=15, n_estimators=300 \n",
      "[CV]  class_weight=balanced_subsample, criterion=gini, max_depth=3, max_features=auto, min_samples_split=15, n_estimators=300, total=   2.0s\n",
      "[CV] class_weight=balanced_subsample, criterion=gini, max_depth=3, max_features=auto, min_samples_split=15, n_estimators=300 \n",
      "[CV]  class_weight=balanced_subsample, criterion=gini, max_depth=3, max_features=auto, min_samples_split=15, n_estimators=300, total=   3.0s\n",
      "[CV] class_weight=balanced_subsample, criterion=gini, max_depth=3, max_features=auto, min_samples_split=10, n_estimators=150 \n",
      "[CV]  class_weight=balanced_subsample, criterion=gini, max_depth=3, max_features=auto, min_samples_split=10, n_estimators=150, total=   1.3s\n",
      "[CV] class_weight=balanced_subsample, criterion=gini, max_depth=3, max_features=auto, min_samples_split=10, n_estimators=150 \n",
      "[CV]  class_weight=balanced_subsample, criterion=gini, max_depth=3, max_features=auto, min_samples_split=10, n_estimators=150, total=   1.3s\n",
      "[CV] class_weight=balanced_subsample, criterion=gini, max_depth=3, max_features=auto, min_samples_split=10, n_estimators=150 \n",
      "[CV]  class_weight=balanced_subsample, criterion=gini, max_depth=3, max_features=auto, min_samples_split=10, n_estimators=150, total=   1.3s\n",
      "[CV] class_weight=balanced_subsample, criterion=gini, max_depth=3, max_features=auto, min_samples_split=10, n_estimators=150 \n",
      "[CV]  class_weight=balanced_subsample, criterion=gini, max_depth=3, max_features=auto, min_samples_split=10, n_estimators=150, total=   1.5s\n",
      "[CV] class_weight=balanced_subsample, criterion=gini, max_depth=3, max_features=auto, min_samples_split=10, n_estimators=150 \n",
      "[CV]  class_weight=balanced_subsample, criterion=gini, max_depth=3, max_features=auto, min_samples_split=10, n_estimators=150, total=   1.3s\n",
      "[CV] class_weight=balanced_subsample, criterion=gini, max_depth=3, max_features=auto, min_samples_split=10, n_estimators=200 \n",
      "[CV]  class_weight=balanced_subsample, criterion=gini, max_depth=3, max_features=auto, min_samples_split=10, n_estimators=200, total=   2.1s\n",
      "[CV] class_weight=balanced_subsample, criterion=gini, max_depth=3, max_features=auto, min_samples_split=10, n_estimators=200 \n",
      "[CV]  class_weight=balanced_subsample, criterion=gini, max_depth=3, max_features=auto, min_samples_split=10, n_estimators=200, total=   1.5s\n",
      "[CV] class_weight=balanced_subsample, criterion=gini, max_depth=3, max_features=auto, min_samples_split=10, n_estimators=200 \n",
      "[CV]  class_weight=balanced_subsample, criterion=gini, max_depth=3, max_features=auto, min_samples_split=10, n_estimators=200, total=   1.8s\n",
      "[CV] class_weight=balanced_subsample, criterion=gini, max_depth=3, max_features=auto, min_samples_split=10, n_estimators=200 \n",
      "[CV]  class_weight=balanced_subsample, criterion=gini, max_depth=3, max_features=auto, min_samples_split=10, n_estimators=200, total=   1.9s\n",
      "[CV] class_weight=balanced_subsample, criterion=gini, max_depth=3, max_features=auto, min_samples_split=10, n_estimators=200 \n",
      "[CV]  class_weight=balanced_subsample, criterion=gini, max_depth=3, max_features=auto, min_samples_split=10, n_estimators=200, total=   1.8s\n",
      "[CV] class_weight=balanced_subsample, criterion=gini, max_depth=3, max_features=auto, min_samples_split=10, n_estimators=300 \n",
      "[CV]  class_weight=balanced_subsample, criterion=gini, max_depth=3, max_features=auto, min_samples_split=10, n_estimators=300, total=   2.9s\n",
      "[CV] class_weight=balanced_subsample, criterion=gini, max_depth=3, max_features=auto, min_samples_split=10, n_estimators=300 \n",
      "[CV]  class_weight=balanced_subsample, criterion=gini, max_depth=3, max_features=auto, min_samples_split=10, n_estimators=300, total=   2.7s\n",
      "[CV] class_weight=balanced_subsample, criterion=gini, max_depth=3, max_features=auto, min_samples_split=10, n_estimators=300 \n",
      "[CV]  class_weight=balanced_subsample, criterion=gini, max_depth=3, max_features=auto, min_samples_split=10, n_estimators=300, total=   2.8s\n",
      "[CV] class_weight=balanced_subsample, criterion=gini, max_depth=3, max_features=auto, min_samples_split=10, n_estimators=300 \n",
      "[CV]  class_weight=balanced_subsample, criterion=gini, max_depth=3, max_features=auto, min_samples_split=10, n_estimators=300, total=   2.7s\n",
      "[CV] class_weight=balanced_subsample, criterion=gini, max_depth=3, max_features=auto, min_samples_split=10, n_estimators=300 \n",
      "[CV]  class_weight=balanced_subsample, criterion=gini, max_depth=3, max_features=auto, min_samples_split=10, n_estimators=300, total=   2.8s\n",
      "[CV] class_weight=balanced_subsample, criterion=gini, max_depth=5, max_features=auto, min_samples_split=20, n_estimators=150 \n",
      "[CV]  class_weight=balanced_subsample, criterion=gini, max_depth=5, max_features=auto, min_samples_split=20, n_estimators=150, total=   1.3s\n",
      "[CV] class_weight=balanced_subsample, criterion=gini, max_depth=5, max_features=auto, min_samples_split=20, n_estimators=150 \n",
      "[CV]  class_weight=balanced_subsample, criterion=gini, max_depth=5, max_features=auto, min_samples_split=20, n_estimators=150, total=   1.4s\n",
      "[CV] class_weight=balanced_subsample, criterion=gini, max_depth=5, max_features=auto, min_samples_split=20, n_estimators=150 \n"
     ]
    },
    {
     "name": "stdout",
     "output_type": "stream",
     "text": [
      "[CV]  class_weight=balanced_subsample, criterion=gini, max_depth=5, max_features=auto, min_samples_split=20, n_estimators=150, total=   1.1s\n",
      "[CV] class_weight=balanced_subsample, criterion=gini, max_depth=5, max_features=auto, min_samples_split=20, n_estimators=150 \n",
      "[CV]  class_weight=balanced_subsample, criterion=gini, max_depth=5, max_features=auto, min_samples_split=20, n_estimators=150, total=   1.3s\n",
      "[CV] class_weight=balanced_subsample, criterion=gini, max_depth=5, max_features=auto, min_samples_split=20, n_estimators=150 \n",
      "[CV]  class_weight=balanced_subsample, criterion=gini, max_depth=5, max_features=auto, min_samples_split=20, n_estimators=150, total=   1.4s\n",
      "[CV] class_weight=balanced_subsample, criterion=gini, max_depth=5, max_features=auto, min_samples_split=20, n_estimators=200 \n",
      "[CV]  class_weight=balanced_subsample, criterion=gini, max_depth=5, max_features=auto, min_samples_split=20, n_estimators=200, total=   1.9s\n",
      "[CV] class_weight=balanced_subsample, criterion=gini, max_depth=5, max_features=auto, min_samples_split=20, n_estimators=200 \n",
      "[CV]  class_weight=balanced_subsample, criterion=gini, max_depth=5, max_features=auto, min_samples_split=20, n_estimators=200, total=   1.8s\n",
      "[CV] class_weight=balanced_subsample, criterion=gini, max_depth=5, max_features=auto, min_samples_split=20, n_estimators=200 \n",
      "[CV]  class_weight=balanced_subsample, criterion=gini, max_depth=5, max_features=auto, min_samples_split=20, n_estimators=200, total=   1.9s\n",
      "[CV] class_weight=balanced_subsample, criterion=gini, max_depth=5, max_features=auto, min_samples_split=20, n_estimators=200 \n",
      "[CV]  class_weight=balanced_subsample, criterion=gini, max_depth=5, max_features=auto, min_samples_split=20, n_estimators=200, total=   1.9s\n",
      "[CV] class_weight=balanced_subsample, criterion=gini, max_depth=5, max_features=auto, min_samples_split=20, n_estimators=200 \n",
      "[CV]  class_weight=balanced_subsample, criterion=gini, max_depth=5, max_features=auto, min_samples_split=20, n_estimators=200, total=   1.9s\n",
      "[CV] class_weight=balanced_subsample, criterion=gini, max_depth=5, max_features=auto, min_samples_split=20, n_estimators=300 \n",
      "[CV]  class_weight=balanced_subsample, criterion=gini, max_depth=5, max_features=auto, min_samples_split=20, n_estimators=300, total=   2.9s\n",
      "[CV] class_weight=balanced_subsample, criterion=gini, max_depth=5, max_features=auto, min_samples_split=20, n_estimators=300 \n",
      "[CV]  class_weight=balanced_subsample, criterion=gini, max_depth=5, max_features=auto, min_samples_split=20, n_estimators=300, total=   2.8s\n",
      "[CV] class_weight=balanced_subsample, criterion=gini, max_depth=5, max_features=auto, min_samples_split=20, n_estimators=300 \n",
      "[CV]  class_weight=balanced_subsample, criterion=gini, max_depth=5, max_features=auto, min_samples_split=20, n_estimators=300, total=   2.8s\n",
      "[CV] class_weight=balanced_subsample, criterion=gini, max_depth=5, max_features=auto, min_samples_split=20, n_estimators=300 \n",
      "[CV]  class_weight=balanced_subsample, criterion=gini, max_depth=5, max_features=auto, min_samples_split=20, n_estimators=300, total=   2.6s\n",
      "[CV] class_weight=balanced_subsample, criterion=gini, max_depth=5, max_features=auto, min_samples_split=20, n_estimators=300 \n",
      "[CV]  class_weight=balanced_subsample, criterion=gini, max_depth=5, max_features=auto, min_samples_split=20, n_estimators=300, total=   2.8s\n",
      "[CV] class_weight=balanced_subsample, criterion=gini, max_depth=5, max_features=auto, min_samples_split=15, n_estimators=150 \n",
      "[CV]  class_weight=balanced_subsample, criterion=gini, max_depth=5, max_features=auto, min_samples_split=15, n_estimators=150, total=   1.3s\n",
      "[CV] class_weight=balanced_subsample, criterion=gini, max_depth=5, max_features=auto, min_samples_split=15, n_estimators=150 \n",
      "[CV]  class_weight=balanced_subsample, criterion=gini, max_depth=5, max_features=auto, min_samples_split=15, n_estimators=150, total=   1.4s\n",
      "[CV] class_weight=balanced_subsample, criterion=gini, max_depth=5, max_features=auto, min_samples_split=15, n_estimators=150 \n",
      "[CV]  class_weight=balanced_subsample, criterion=gini, max_depth=5, max_features=auto, min_samples_split=15, n_estimators=150, total=   1.3s\n",
      "[CV] class_weight=balanced_subsample, criterion=gini, max_depth=5, max_features=auto, min_samples_split=15, n_estimators=150 \n",
      "[CV]  class_weight=balanced_subsample, criterion=gini, max_depth=5, max_features=auto, min_samples_split=15, n_estimators=150, total=   1.4s\n",
      "[CV] class_weight=balanced_subsample, criterion=gini, max_depth=5, max_features=auto, min_samples_split=15, n_estimators=150 \n",
      "[CV]  class_weight=balanced_subsample, criterion=gini, max_depth=5, max_features=auto, min_samples_split=15, n_estimators=150, total=   1.5s\n",
      "[CV] class_weight=balanced_subsample, criterion=gini, max_depth=5, max_features=auto, min_samples_split=15, n_estimators=200 \n",
      "[CV]  class_weight=balanced_subsample, criterion=gini, max_depth=5, max_features=auto, min_samples_split=15, n_estimators=200, total=   1.9s\n",
      "[CV] class_weight=balanced_subsample, criterion=gini, max_depth=5, max_features=auto, min_samples_split=15, n_estimators=200 \n",
      "[CV]  class_weight=balanced_subsample, criterion=gini, max_depth=5, max_features=auto, min_samples_split=15, n_estimators=200, total=   1.8s\n",
      "[CV] class_weight=balanced_subsample, criterion=gini, max_depth=5, max_features=auto, min_samples_split=15, n_estimators=200 \n",
      "[CV]  class_weight=balanced_subsample, criterion=gini, max_depth=5, max_features=auto, min_samples_split=15, n_estimators=200, total=   1.7s\n",
      "[CV] class_weight=balanced_subsample, criterion=gini, max_depth=5, max_features=auto, min_samples_split=15, n_estimators=200 \n",
      "[CV]  class_weight=balanced_subsample, criterion=gini, max_depth=5, max_features=auto, min_samples_split=15, n_estimators=200, total=   1.8s\n",
      "[CV] class_weight=balanced_subsample, criterion=gini, max_depth=5, max_features=auto, min_samples_split=15, n_estimators=200 \n",
      "[CV]  class_weight=balanced_subsample, criterion=gini, max_depth=5, max_features=auto, min_samples_split=15, n_estimators=200, total=   2.1s\n",
      "[CV] class_weight=balanced_subsample, criterion=gini, max_depth=5, max_features=auto, min_samples_split=15, n_estimators=300 \n",
      "[CV]  class_weight=balanced_subsample, criterion=gini, max_depth=5, max_features=auto, min_samples_split=15, n_estimators=300, total=   2.8s\n",
      "[CV] class_weight=balanced_subsample, criterion=gini, max_depth=5, max_features=auto, min_samples_split=15, n_estimators=300 \n",
      "[CV]  class_weight=balanced_subsample, criterion=gini, max_depth=5, max_features=auto, min_samples_split=15, n_estimators=300, total=   2.9s\n",
      "[CV] class_weight=balanced_subsample, criterion=gini, max_depth=5, max_features=auto, min_samples_split=15, n_estimators=300 \n",
      "[CV]  class_weight=balanced_subsample, criterion=gini, max_depth=5, max_features=auto, min_samples_split=15, n_estimators=300, total=   2.8s\n",
      "[CV] class_weight=balanced_subsample, criterion=gini, max_depth=5, max_features=auto, min_samples_split=15, n_estimators=300 \n",
      "[CV]  class_weight=balanced_subsample, criterion=gini, max_depth=5, max_features=auto, min_samples_split=15, n_estimators=300, total=   3.0s\n",
      "[CV] class_weight=balanced_subsample, criterion=gini, max_depth=5, max_features=auto, min_samples_split=15, n_estimators=300 \n",
      "[CV]  class_weight=balanced_subsample, criterion=gini, max_depth=5, max_features=auto, min_samples_split=15, n_estimators=300, total=   2.8s\n",
      "[CV] class_weight=balanced_subsample, criterion=gini, max_depth=5, max_features=auto, min_samples_split=10, n_estimators=150 \n",
      "[CV]  class_weight=balanced_subsample, criterion=gini, max_depth=5, max_features=auto, min_samples_split=10, n_estimators=150, total=   1.4s\n",
      "[CV] class_weight=balanced_subsample, criterion=gini, max_depth=5, max_features=auto, min_samples_split=10, n_estimators=150 \n",
      "[CV]  class_weight=balanced_subsample, criterion=gini, max_depth=5, max_features=auto, min_samples_split=10, n_estimators=150, total=   1.3s\n",
      "[CV] class_weight=balanced_subsample, criterion=gini, max_depth=5, max_features=auto, min_samples_split=10, n_estimators=150 \n",
      "[CV]  class_weight=balanced_subsample, criterion=gini, max_depth=5, max_features=auto, min_samples_split=10, n_estimators=150, total=   1.5s\n",
      "[CV] class_weight=balanced_subsample, criterion=gini, max_depth=5, max_features=auto, min_samples_split=10, n_estimators=150 \n"
     ]
    },
    {
     "name": "stdout",
     "output_type": "stream",
     "text": [
      "[CV]  class_weight=balanced_subsample, criterion=gini, max_depth=5, max_features=auto, min_samples_split=10, n_estimators=150, total=   1.4s\n",
      "[CV] class_weight=balanced_subsample, criterion=gini, max_depth=5, max_features=auto, min_samples_split=10, n_estimators=150 \n",
      "[CV]  class_weight=balanced_subsample, criterion=gini, max_depth=5, max_features=auto, min_samples_split=10, n_estimators=150, total=   1.3s\n",
      "[CV] class_weight=balanced_subsample, criterion=gini, max_depth=5, max_features=auto, min_samples_split=10, n_estimators=200 \n",
      "[CV]  class_weight=balanced_subsample, criterion=gini, max_depth=5, max_features=auto, min_samples_split=10, n_estimators=200, total=   1.8s\n",
      "[CV] class_weight=balanced_subsample, criterion=gini, max_depth=5, max_features=auto, min_samples_split=10, n_estimators=200 \n",
      "[CV]  class_weight=balanced_subsample, criterion=gini, max_depth=5, max_features=auto, min_samples_split=10, n_estimators=200, total=   1.4s\n",
      "[CV] class_weight=balanced_subsample, criterion=gini, max_depth=5, max_features=auto, min_samples_split=10, n_estimators=200 \n",
      "[CV]  class_weight=balanced_subsample, criterion=gini, max_depth=5, max_features=auto, min_samples_split=10, n_estimators=200, total=   1.8s\n",
      "[CV] class_weight=balanced_subsample, criterion=gini, max_depth=5, max_features=auto, min_samples_split=10, n_estimators=200 \n",
      "[CV]  class_weight=balanced_subsample, criterion=gini, max_depth=5, max_features=auto, min_samples_split=10, n_estimators=200, total=   2.1s\n",
      "[CV] class_weight=balanced_subsample, criterion=gini, max_depth=5, max_features=auto, min_samples_split=10, n_estimators=200 \n",
      "[CV]  class_weight=balanced_subsample, criterion=gini, max_depth=5, max_features=auto, min_samples_split=10, n_estimators=200, total=   1.8s\n",
      "[CV] class_weight=balanced_subsample, criterion=gini, max_depth=5, max_features=auto, min_samples_split=10, n_estimators=300 \n",
      "[CV]  class_weight=balanced_subsample, criterion=gini, max_depth=5, max_features=auto, min_samples_split=10, n_estimators=300, total=   2.9s\n",
      "[CV] class_weight=balanced_subsample, criterion=gini, max_depth=5, max_features=auto, min_samples_split=10, n_estimators=300 \n",
      "[CV]  class_weight=balanced_subsample, criterion=gini, max_depth=5, max_features=auto, min_samples_split=10, n_estimators=300, total=   2.7s\n",
      "[CV] class_weight=balanced_subsample, criterion=gini, max_depth=5, max_features=auto, min_samples_split=10, n_estimators=300 \n",
      "[CV]  class_weight=balanced_subsample, criterion=gini, max_depth=5, max_features=auto, min_samples_split=10, n_estimators=300, total=   3.4s\n",
      "[CV] class_weight=balanced_subsample, criterion=gini, max_depth=5, max_features=auto, min_samples_split=10, n_estimators=300 \n",
      "[CV]  class_weight=balanced_subsample, criterion=gini, max_depth=5, max_features=auto, min_samples_split=10, n_estimators=300, total=   2.5s\n",
      "[CV] class_weight=balanced_subsample, criterion=gini, max_depth=5, max_features=auto, min_samples_split=10, n_estimators=300 \n",
      "[CV]  class_weight=balanced_subsample, criterion=gini, max_depth=5, max_features=auto, min_samples_split=10, n_estimators=300, total=   2.8s\n",
      "[CV] class_weight=balanced_subsample, criterion=gini, max_depth=7, max_features=auto, min_samples_split=20, n_estimators=150 \n",
      "[CV]  class_weight=balanced_subsample, criterion=gini, max_depth=7, max_features=auto, min_samples_split=20, n_estimators=150, total=   1.4s\n",
      "[CV] class_weight=balanced_subsample, criterion=gini, max_depth=7, max_features=auto, min_samples_split=20, n_estimators=150 \n",
      "[CV]  class_weight=balanced_subsample, criterion=gini, max_depth=7, max_features=auto, min_samples_split=20, n_estimators=150, total=   1.4s\n",
      "[CV] class_weight=balanced_subsample, criterion=gini, max_depth=7, max_features=auto, min_samples_split=20, n_estimators=150 \n",
      "[CV]  class_weight=balanced_subsample, criterion=gini, max_depth=7, max_features=auto, min_samples_split=20, n_estimators=150, total=   1.3s\n",
      "[CV] class_weight=balanced_subsample, criterion=gini, max_depth=7, max_features=auto, min_samples_split=20, n_estimators=150 \n",
      "[CV]  class_weight=balanced_subsample, criterion=gini, max_depth=7, max_features=auto, min_samples_split=20, n_estimators=150, total=   1.3s\n",
      "[CV] class_weight=balanced_subsample, criterion=gini, max_depth=7, max_features=auto, min_samples_split=20, n_estimators=150 \n",
      "[CV]  class_weight=balanced_subsample, criterion=gini, max_depth=7, max_features=auto, min_samples_split=20, n_estimators=150, total=   1.4s\n",
      "[CV] class_weight=balanced_subsample, criterion=gini, max_depth=7, max_features=auto, min_samples_split=20, n_estimators=200 \n",
      "[CV]  class_weight=balanced_subsample, criterion=gini, max_depth=7, max_features=auto, min_samples_split=20, n_estimators=200, total=   1.8s\n",
      "[CV] class_weight=balanced_subsample, criterion=gini, max_depth=7, max_features=auto, min_samples_split=20, n_estimators=200 \n",
      "[CV]  class_weight=balanced_subsample, criterion=gini, max_depth=7, max_features=auto, min_samples_split=20, n_estimators=200, total=   2.0s\n",
      "[CV] class_weight=balanced_subsample, criterion=gini, max_depth=7, max_features=auto, min_samples_split=20, n_estimators=200 \n",
      "[CV]  class_weight=balanced_subsample, criterion=gini, max_depth=7, max_features=auto, min_samples_split=20, n_estimators=200, total=   1.9s\n",
      "[CV] class_weight=balanced_subsample, criterion=gini, max_depth=7, max_features=auto, min_samples_split=20, n_estimators=200 \n",
      "[CV]  class_weight=balanced_subsample, criterion=gini, max_depth=7, max_features=auto, min_samples_split=20, n_estimators=200, total=   1.9s\n",
      "[CV] class_weight=balanced_subsample, criterion=gini, max_depth=7, max_features=auto, min_samples_split=20, n_estimators=200 \n",
      "[CV]  class_weight=balanced_subsample, criterion=gini, max_depth=7, max_features=auto, min_samples_split=20, n_estimators=200, total=   1.9s\n",
      "[CV] class_weight=balanced_subsample, criterion=gini, max_depth=7, max_features=auto, min_samples_split=20, n_estimators=300 \n",
      "[CV]  class_weight=balanced_subsample, criterion=gini, max_depth=7, max_features=auto, min_samples_split=20, n_estimators=300, total=   2.9s\n",
      "[CV] class_weight=balanced_subsample, criterion=gini, max_depth=7, max_features=auto, min_samples_split=20, n_estimators=300 \n",
      "[CV]  class_weight=balanced_subsample, criterion=gini, max_depth=7, max_features=auto, min_samples_split=20, n_estimators=300, total=   2.9s\n",
      "[CV] class_weight=balanced_subsample, criterion=gini, max_depth=7, max_features=auto, min_samples_split=20, n_estimators=300 \n",
      "[CV]  class_weight=balanced_subsample, criterion=gini, max_depth=7, max_features=auto, min_samples_split=20, n_estimators=300, total=   2.8s\n",
      "[CV] class_weight=balanced_subsample, criterion=gini, max_depth=7, max_features=auto, min_samples_split=20, n_estimators=300 \n",
      "[CV]  class_weight=balanced_subsample, criterion=gini, max_depth=7, max_features=auto, min_samples_split=20, n_estimators=300, total=   3.0s\n",
      "[CV] class_weight=balanced_subsample, criterion=gini, max_depth=7, max_features=auto, min_samples_split=20, n_estimators=300 \n",
      "[CV]  class_weight=balanced_subsample, criterion=gini, max_depth=7, max_features=auto, min_samples_split=20, n_estimators=300, total=   3.0s\n",
      "[CV] class_weight=balanced_subsample, criterion=gini, max_depth=7, max_features=auto, min_samples_split=15, n_estimators=150 \n",
      "[CV]  class_weight=balanced_subsample, criterion=gini, max_depth=7, max_features=auto, min_samples_split=15, n_estimators=150, total=   1.4s\n",
      "[CV] class_weight=balanced_subsample, criterion=gini, max_depth=7, max_features=auto, min_samples_split=15, n_estimators=150 \n",
      "[CV]  class_weight=balanced_subsample, criterion=gini, max_depth=7, max_features=auto, min_samples_split=15, n_estimators=150, total=   1.3s\n",
      "[CV] class_weight=balanced_subsample, criterion=gini, max_depth=7, max_features=auto, min_samples_split=15, n_estimators=150 \n",
      "[CV]  class_weight=balanced_subsample, criterion=gini, max_depth=7, max_features=auto, min_samples_split=15, n_estimators=150, total=   1.4s\n",
      "[CV] class_weight=balanced_subsample, criterion=gini, max_depth=7, max_features=auto, min_samples_split=15, n_estimators=150 \n",
      "[CV]  class_weight=balanced_subsample, criterion=gini, max_depth=7, max_features=auto, min_samples_split=15, n_estimators=150, total=   1.0s\n",
      "[CV] class_weight=balanced_subsample, criterion=gini, max_depth=7, max_features=auto, min_samples_split=15, n_estimators=150 \n"
     ]
    },
    {
     "name": "stdout",
     "output_type": "stream",
     "text": [
      "[CV]  class_weight=balanced_subsample, criterion=gini, max_depth=7, max_features=auto, min_samples_split=15, n_estimators=150, total=   1.4s\n",
      "[CV] class_weight=balanced_subsample, criterion=gini, max_depth=7, max_features=auto, min_samples_split=15, n_estimators=200 \n",
      "[CV]  class_weight=balanced_subsample, criterion=gini, max_depth=7, max_features=auto, min_samples_split=15, n_estimators=200, total=   2.0s\n",
      "[CV] class_weight=balanced_subsample, criterion=gini, max_depth=7, max_features=auto, min_samples_split=15, n_estimators=200 \n",
      "[CV]  class_weight=balanced_subsample, criterion=gini, max_depth=7, max_features=auto, min_samples_split=15, n_estimators=200, total=   1.9s\n",
      "[CV] class_weight=balanced_subsample, criterion=gini, max_depth=7, max_features=auto, min_samples_split=15, n_estimators=200 \n",
      "[CV]  class_weight=balanced_subsample, criterion=gini, max_depth=7, max_features=auto, min_samples_split=15, n_estimators=200, total=   1.9s\n",
      "[CV] class_weight=balanced_subsample, criterion=gini, max_depth=7, max_features=auto, min_samples_split=15, n_estimators=200 \n",
      "[CV]  class_weight=balanced_subsample, criterion=gini, max_depth=7, max_features=auto, min_samples_split=15, n_estimators=200, total=   2.0s\n",
      "[CV] class_weight=balanced_subsample, criterion=gini, max_depth=7, max_features=auto, min_samples_split=15, n_estimators=200 \n",
      "[CV]  class_weight=balanced_subsample, criterion=gini, max_depth=7, max_features=auto, min_samples_split=15, n_estimators=200, total=   1.9s\n",
      "[CV] class_weight=balanced_subsample, criterion=gini, max_depth=7, max_features=auto, min_samples_split=15, n_estimators=300 \n",
      "[CV]  class_weight=balanced_subsample, criterion=gini, max_depth=7, max_features=auto, min_samples_split=15, n_estimators=300, total=   2.9s\n",
      "[CV] class_weight=balanced_subsample, criterion=gini, max_depth=7, max_features=auto, min_samples_split=15, n_estimators=300 \n",
      "[CV]  class_weight=balanced_subsample, criterion=gini, max_depth=7, max_features=auto, min_samples_split=15, n_estimators=300, total=   2.9s\n",
      "[CV] class_weight=balanced_subsample, criterion=gini, max_depth=7, max_features=auto, min_samples_split=15, n_estimators=300 \n",
      "[CV]  class_weight=balanced_subsample, criterion=gini, max_depth=7, max_features=auto, min_samples_split=15, n_estimators=300, total=   2.9s\n",
      "[CV] class_weight=balanced_subsample, criterion=gini, max_depth=7, max_features=auto, min_samples_split=15, n_estimators=300 \n",
      "[CV]  class_weight=balanced_subsample, criterion=gini, max_depth=7, max_features=auto, min_samples_split=15, n_estimators=300, total=   2.9s\n",
      "[CV] class_weight=balanced_subsample, criterion=gini, max_depth=7, max_features=auto, min_samples_split=15, n_estimators=300 \n",
      "[CV]  class_weight=balanced_subsample, criterion=gini, max_depth=7, max_features=auto, min_samples_split=15, n_estimators=300, total=   2.8s\n",
      "[CV] class_weight=balanced_subsample, criterion=gini, max_depth=7, max_features=auto, min_samples_split=10, n_estimators=150 \n",
      "[CV]  class_weight=balanced_subsample, criterion=gini, max_depth=7, max_features=auto, min_samples_split=10, n_estimators=150, total=   1.4s\n",
      "[CV] class_weight=balanced_subsample, criterion=gini, max_depth=7, max_features=auto, min_samples_split=10, n_estimators=150 \n",
      "[CV]  class_weight=balanced_subsample, criterion=gini, max_depth=7, max_features=auto, min_samples_split=10, n_estimators=150, total=   1.5s\n",
      "[CV] class_weight=balanced_subsample, criterion=gini, max_depth=7, max_features=auto, min_samples_split=10, n_estimators=150 \n",
      "[CV]  class_weight=balanced_subsample, criterion=gini, max_depth=7, max_features=auto, min_samples_split=10, n_estimators=150, total=   1.4s\n",
      "[CV] class_weight=balanced_subsample, criterion=gini, max_depth=7, max_features=auto, min_samples_split=10, n_estimators=150 \n",
      "[CV]  class_weight=balanced_subsample, criterion=gini, max_depth=7, max_features=auto, min_samples_split=10, n_estimators=150, total=   1.5s\n",
      "[CV] class_weight=balanced_subsample, criterion=gini, max_depth=7, max_features=auto, min_samples_split=10, n_estimators=150 \n",
      "[CV]  class_weight=balanced_subsample, criterion=gini, max_depth=7, max_features=auto, min_samples_split=10, n_estimators=150, total=   1.5s\n",
      "[CV] class_weight=balanced_subsample, criterion=gini, max_depth=7, max_features=auto, min_samples_split=10, n_estimators=200 \n",
      "[CV]  class_weight=balanced_subsample, criterion=gini, max_depth=7, max_features=auto, min_samples_split=10, n_estimators=200, total=   1.9s\n",
      "[CV] class_weight=balanced_subsample, criterion=gini, max_depth=7, max_features=auto, min_samples_split=10, n_estimators=200 \n",
      "[CV]  class_weight=balanced_subsample, criterion=gini, max_depth=7, max_features=auto, min_samples_split=10, n_estimators=200, total=   1.9s\n",
      "[CV] class_weight=balanced_subsample, criterion=gini, max_depth=7, max_features=auto, min_samples_split=10, n_estimators=200 \n",
      "[CV]  class_weight=balanced_subsample, criterion=gini, max_depth=7, max_features=auto, min_samples_split=10, n_estimators=200, total=   1.6s\n",
      "[CV] class_weight=balanced_subsample, criterion=gini, max_depth=7, max_features=auto, min_samples_split=10, n_estimators=200 \n",
      "[CV]  class_weight=balanced_subsample, criterion=gini, max_depth=7, max_features=auto, min_samples_split=10, n_estimators=200, total=   1.8s\n",
      "[CV] class_weight=balanced_subsample, criterion=gini, max_depth=7, max_features=auto, min_samples_split=10, n_estimators=200 \n",
      "[CV]  class_weight=balanced_subsample, criterion=gini, max_depth=7, max_features=auto, min_samples_split=10, n_estimators=200, total=   2.0s\n",
      "[CV] class_weight=balanced_subsample, criterion=gini, max_depth=7, max_features=auto, min_samples_split=10, n_estimators=300 \n",
      "[CV]  class_weight=balanced_subsample, criterion=gini, max_depth=7, max_features=auto, min_samples_split=10, n_estimators=300, total=   2.8s\n",
      "[CV] class_weight=balanced_subsample, criterion=gini, max_depth=7, max_features=auto, min_samples_split=10, n_estimators=300 \n",
      "[CV]  class_weight=balanced_subsample, criterion=gini, max_depth=7, max_features=auto, min_samples_split=10, n_estimators=300, total=   3.0s\n",
      "[CV] class_weight=balanced_subsample, criterion=gini, max_depth=7, max_features=auto, min_samples_split=10, n_estimators=300 \n",
      "[CV]  class_weight=balanced_subsample, criterion=gini, max_depth=7, max_features=auto, min_samples_split=10, n_estimators=300, total=   2.9s\n",
      "[CV] class_weight=balanced_subsample, criterion=gini, max_depth=7, max_features=auto, min_samples_split=10, n_estimators=300 \n",
      "[CV]  class_weight=balanced_subsample, criterion=gini, max_depth=7, max_features=auto, min_samples_split=10, n_estimators=300, total=   3.0s\n",
      "[CV] class_weight=balanced_subsample, criterion=gini, max_depth=7, max_features=auto, min_samples_split=10, n_estimators=300 \n",
      "[CV]  class_weight=balanced_subsample, criterion=gini, max_depth=7, max_features=auto, min_samples_split=10, n_estimators=300, total=   2.9s\n",
      "[CV] class_weight=balanced_subsample, criterion=gini, max_depth=10, max_features=auto, min_samples_split=20, n_estimators=150 \n",
      "[CV]  class_weight=balanced_subsample, criterion=gini, max_depth=10, max_features=auto, min_samples_split=20, n_estimators=150, total=   1.4s\n",
      "[CV] class_weight=balanced_subsample, criterion=gini, max_depth=10, max_features=auto, min_samples_split=20, n_estimators=150 \n",
      "[CV]  class_weight=balanced_subsample, criterion=gini, max_depth=10, max_features=auto, min_samples_split=20, n_estimators=150, total=   1.5s\n",
      "[CV] class_weight=balanced_subsample, criterion=gini, max_depth=10, max_features=auto, min_samples_split=20, n_estimators=150 \n",
      "[CV]  class_weight=balanced_subsample, criterion=gini, max_depth=10, max_features=auto, min_samples_split=20, n_estimators=150, total=   1.5s\n",
      "[CV] class_weight=balanced_subsample, criterion=gini, max_depth=10, max_features=auto, min_samples_split=20, n_estimators=150 \n",
      "[CV]  class_weight=balanced_subsample, criterion=gini, max_depth=10, max_features=auto, min_samples_split=20, n_estimators=150, total=   1.4s\n",
      "[CV] class_weight=balanced_subsample, criterion=gini, max_depth=10, max_features=auto, min_samples_split=20, n_estimators=150 \n",
      "[CV]  class_weight=balanced_subsample, criterion=gini, max_depth=10, max_features=auto, min_samples_split=20, n_estimators=150, total=   1.6s\n",
      "[CV] class_weight=balanced_subsample, criterion=gini, max_depth=10, max_features=auto, min_samples_split=20, n_estimators=200 \n"
     ]
    },
    {
     "name": "stdout",
     "output_type": "stream",
     "text": [
      "[CV]  class_weight=balanced_subsample, criterion=gini, max_depth=10, max_features=auto, min_samples_split=20, n_estimators=200, total=   1.7s\n",
      "[CV] class_weight=balanced_subsample, criterion=gini, max_depth=10, max_features=auto, min_samples_split=20, n_estimators=200 \n",
      "[CV]  class_weight=balanced_subsample, criterion=gini, max_depth=10, max_features=auto, min_samples_split=20, n_estimators=200, total=   1.9s\n",
      "[CV] class_weight=balanced_subsample, criterion=gini, max_depth=10, max_features=auto, min_samples_split=20, n_estimators=200 \n",
      "[CV]  class_weight=balanced_subsample, criterion=gini, max_depth=10, max_features=auto, min_samples_split=20, n_estimators=200, total=   1.9s\n",
      "[CV] class_weight=balanced_subsample, criterion=gini, max_depth=10, max_features=auto, min_samples_split=20, n_estimators=200 \n",
      "[CV]  class_weight=balanced_subsample, criterion=gini, max_depth=10, max_features=auto, min_samples_split=20, n_estimators=200, total=   1.9s\n",
      "[CV] class_weight=balanced_subsample, criterion=gini, max_depth=10, max_features=auto, min_samples_split=20, n_estimators=200 \n",
      "[CV]  class_weight=balanced_subsample, criterion=gini, max_depth=10, max_features=auto, min_samples_split=20, n_estimators=200, total=   1.9s\n",
      "[CV] class_weight=balanced_subsample, criterion=gini, max_depth=10, max_features=auto, min_samples_split=20, n_estimators=300 \n",
      "[CV]  class_weight=balanced_subsample, criterion=gini, max_depth=10, max_features=auto, min_samples_split=20, n_estimators=300, total=   2.9s\n",
      "[CV] class_weight=balanced_subsample, criterion=gini, max_depth=10, max_features=auto, min_samples_split=20, n_estimators=300 \n",
      "[CV]  class_weight=balanced_subsample, criterion=gini, max_depth=10, max_features=auto, min_samples_split=20, n_estimators=300, total=   2.9s\n",
      "[CV] class_weight=balanced_subsample, criterion=gini, max_depth=10, max_features=auto, min_samples_split=20, n_estimators=300 \n",
      "[CV]  class_weight=balanced_subsample, criterion=gini, max_depth=10, max_features=auto, min_samples_split=20, n_estimators=300, total=   2.9s\n",
      "[CV] class_weight=balanced_subsample, criterion=gini, max_depth=10, max_features=auto, min_samples_split=20, n_estimators=300 \n",
      "[CV]  class_weight=balanced_subsample, criterion=gini, max_depth=10, max_features=auto, min_samples_split=20, n_estimators=300, total=   3.0s\n",
      "[CV] class_weight=balanced_subsample, criterion=gini, max_depth=10, max_features=auto, min_samples_split=20, n_estimators=300 \n",
      "[CV]  class_weight=balanced_subsample, criterion=gini, max_depth=10, max_features=auto, min_samples_split=20, n_estimators=300, total=   2.9s\n",
      "[CV] class_weight=balanced_subsample, criterion=gini, max_depth=10, max_features=auto, min_samples_split=15, n_estimators=150 \n",
      "[CV]  class_weight=balanced_subsample, criterion=gini, max_depth=10, max_features=auto, min_samples_split=15, n_estimators=150, total=   1.6s\n",
      "[CV] class_weight=balanced_subsample, criterion=gini, max_depth=10, max_features=auto, min_samples_split=15, n_estimators=150 \n",
      "[CV]  class_weight=balanced_subsample, criterion=gini, max_depth=10, max_features=auto, min_samples_split=15, n_estimators=150, total=   1.5s\n",
      "[CV] class_weight=balanced_subsample, criterion=gini, max_depth=10, max_features=auto, min_samples_split=15, n_estimators=150 \n",
      "[CV]  class_weight=balanced_subsample, criterion=gini, max_depth=10, max_features=auto, min_samples_split=15, n_estimators=150, total=   1.4s\n",
      "[CV] class_weight=balanced_subsample, criterion=gini, max_depth=10, max_features=auto, min_samples_split=15, n_estimators=150 \n",
      "[CV]  class_weight=balanced_subsample, criterion=gini, max_depth=10, max_features=auto, min_samples_split=15, n_estimators=150, total=   1.6s\n",
      "[CV] class_weight=balanced_subsample, criterion=gini, max_depth=10, max_features=auto, min_samples_split=15, n_estimators=150 \n",
      "[CV]  class_weight=balanced_subsample, criterion=gini, max_depth=10, max_features=auto, min_samples_split=15, n_estimators=150, total=   1.4s\n",
      "[CV] class_weight=balanced_subsample, criterion=gini, max_depth=10, max_features=auto, min_samples_split=15, n_estimators=200 \n",
      "[CV]  class_weight=balanced_subsample, criterion=gini, max_depth=10, max_features=auto, min_samples_split=15, n_estimators=200, total=   1.9s\n",
      "[CV] class_weight=balanced_subsample, criterion=gini, max_depth=10, max_features=auto, min_samples_split=15, n_estimators=200 \n",
      "[CV]  class_weight=balanced_subsample, criterion=gini, max_depth=10, max_features=auto, min_samples_split=15, n_estimators=200, total=   2.0s\n",
      "[CV] class_weight=balanced_subsample, criterion=gini, max_depth=10, max_features=auto, min_samples_split=15, n_estimators=200 \n",
      "[CV]  class_weight=balanced_subsample, criterion=gini, max_depth=10, max_features=auto, min_samples_split=15, n_estimators=200, total=   1.9s\n",
      "[CV] class_weight=balanced_subsample, criterion=gini, max_depth=10, max_features=auto, min_samples_split=15, n_estimators=200 \n",
      "[CV]  class_weight=balanced_subsample, criterion=gini, max_depth=10, max_features=auto, min_samples_split=15, n_estimators=200, total=   2.0s\n",
      "[CV] class_weight=balanced_subsample, criterion=gini, max_depth=10, max_features=auto, min_samples_split=15, n_estimators=200 \n",
      "[CV]  class_weight=balanced_subsample, criterion=gini, max_depth=10, max_features=auto, min_samples_split=15, n_estimators=200, total=   1.9s\n",
      "[CV] class_weight=balanced_subsample, criterion=gini, max_depth=10, max_features=auto, min_samples_split=15, n_estimators=300 \n",
      "[CV]  class_weight=balanced_subsample, criterion=gini, max_depth=10, max_features=auto, min_samples_split=15, n_estimators=300, total=   2.9s\n",
      "[CV] class_weight=balanced_subsample, criterion=gini, max_depth=10, max_features=auto, min_samples_split=15, n_estimators=300 \n",
      "[CV]  class_weight=balanced_subsample, criterion=gini, max_depth=10, max_features=auto, min_samples_split=15, n_estimators=300, total=   2.9s\n",
      "[CV] class_weight=balanced_subsample, criterion=gini, max_depth=10, max_features=auto, min_samples_split=15, n_estimators=300 \n",
      "[CV]  class_weight=balanced_subsample, criterion=gini, max_depth=10, max_features=auto, min_samples_split=15, n_estimators=300, total=   3.0s\n",
      "[CV] class_weight=balanced_subsample, criterion=gini, max_depth=10, max_features=auto, min_samples_split=15, n_estimators=300 \n",
      "[CV]  class_weight=balanced_subsample, criterion=gini, max_depth=10, max_features=auto, min_samples_split=15, n_estimators=300, total=   3.1s\n",
      "[CV] class_weight=balanced_subsample, criterion=gini, max_depth=10, max_features=auto, min_samples_split=15, n_estimators=300 \n",
      "[CV]  class_weight=balanced_subsample, criterion=gini, max_depth=10, max_features=auto, min_samples_split=15, n_estimators=300, total=   2.8s\n",
      "[CV] class_weight=balanced_subsample, criterion=gini, max_depth=10, max_features=auto, min_samples_split=10, n_estimators=150 \n",
      "[CV]  class_weight=balanced_subsample, criterion=gini, max_depth=10, max_features=auto, min_samples_split=10, n_estimators=150, total=   1.4s\n",
      "[CV] class_weight=balanced_subsample, criterion=gini, max_depth=10, max_features=auto, min_samples_split=10, n_estimators=150 \n",
      "[CV]  class_weight=balanced_subsample, criterion=gini, max_depth=10, max_features=auto, min_samples_split=10, n_estimators=150, total=   1.5s\n",
      "[CV] class_weight=balanced_subsample, criterion=gini, max_depth=10, max_features=auto, min_samples_split=10, n_estimators=150 \n",
      "[CV]  class_weight=balanced_subsample, criterion=gini, max_depth=10, max_features=auto, min_samples_split=10, n_estimators=150, total=   1.5s\n",
      "[CV] class_weight=balanced_subsample, criterion=gini, max_depth=10, max_features=auto, min_samples_split=10, n_estimators=150 \n",
      "[CV]  class_weight=balanced_subsample, criterion=gini, max_depth=10, max_features=auto, min_samples_split=10, n_estimators=150, total=   1.4s\n",
      "[CV] class_weight=balanced_subsample, criterion=gini, max_depth=10, max_features=auto, min_samples_split=10, n_estimators=150 \n",
      "[CV]  class_weight=balanced_subsample, criterion=gini, max_depth=10, max_features=auto, min_samples_split=10, n_estimators=150, total=   1.5s\n",
      "[CV] class_weight=balanced_subsample, criterion=gini, max_depth=10, max_features=auto, min_samples_split=10, n_estimators=200 \n",
      "[CV]  class_weight=balanced_subsample, criterion=gini, max_depth=10, max_features=auto, min_samples_split=10, n_estimators=200, total=   1.9s\n",
      "[CV] class_weight=balanced_subsample, criterion=gini, max_depth=10, max_features=auto, min_samples_split=10, n_estimators=200 \n"
     ]
    },
    {
     "name": "stdout",
     "output_type": "stream",
     "text": [
      "[CV]  class_weight=balanced_subsample, criterion=gini, max_depth=10, max_features=auto, min_samples_split=10, n_estimators=200, total=   1.9s\n",
      "[CV] class_weight=balanced_subsample, criterion=gini, max_depth=10, max_features=auto, min_samples_split=10, n_estimators=200 \n",
      "[CV]  class_weight=balanced_subsample, criterion=gini, max_depth=10, max_features=auto, min_samples_split=10, n_estimators=200, total=   1.9s\n",
      "[CV] class_weight=balanced_subsample, criterion=gini, max_depth=10, max_features=auto, min_samples_split=10, n_estimators=200 \n",
      "[CV]  class_weight=balanced_subsample, criterion=gini, max_depth=10, max_features=auto, min_samples_split=10, n_estimators=200, total=   1.9s\n",
      "[CV] class_weight=balanced_subsample, criterion=gini, max_depth=10, max_features=auto, min_samples_split=10, n_estimators=200 \n",
      "[CV]  class_weight=balanced_subsample, criterion=gini, max_depth=10, max_features=auto, min_samples_split=10, n_estimators=200, total=   2.0s\n",
      "[CV] class_weight=balanced_subsample, criterion=gini, max_depth=10, max_features=auto, min_samples_split=10, n_estimators=300 \n",
      "[CV]  class_weight=balanced_subsample, criterion=gini, max_depth=10, max_features=auto, min_samples_split=10, n_estimators=300, total=   2.9s\n",
      "[CV] class_weight=balanced_subsample, criterion=gini, max_depth=10, max_features=auto, min_samples_split=10, n_estimators=300 \n",
      "[CV]  class_weight=balanced_subsample, criterion=gini, max_depth=10, max_features=auto, min_samples_split=10, n_estimators=300, total=   3.1s\n",
      "[CV] class_weight=balanced_subsample, criterion=gini, max_depth=10, max_features=auto, min_samples_split=10, n_estimators=300 \n",
      "[CV]  class_weight=balanced_subsample, criterion=gini, max_depth=10, max_features=auto, min_samples_split=10, n_estimators=300, total=   3.1s\n",
      "[CV] class_weight=balanced_subsample, criterion=gini, max_depth=10, max_features=auto, min_samples_split=10, n_estimators=300 \n",
      "[CV]  class_weight=balanced_subsample, criterion=gini, max_depth=10, max_features=auto, min_samples_split=10, n_estimators=300, total=   3.1s\n",
      "[CV] class_weight=balanced_subsample, criterion=gini, max_depth=10, max_features=auto, min_samples_split=10, n_estimators=300 \n",
      "[CV]  class_weight=balanced_subsample, criterion=gini, max_depth=10, max_features=auto, min_samples_split=10, n_estimators=300, total=   3.4s\n",
      "[CV] class_weight=balanced_subsample, criterion=gini, max_depth=14, max_features=auto, min_samples_split=20, n_estimators=150 \n",
      "[CV]  class_weight=balanced_subsample, criterion=gini, max_depth=14, max_features=auto, min_samples_split=20, n_estimators=150, total=   1.4s\n",
      "[CV] class_weight=balanced_subsample, criterion=gini, max_depth=14, max_features=auto, min_samples_split=20, n_estimators=150 \n",
      "[CV]  class_weight=balanced_subsample, criterion=gini, max_depth=14, max_features=auto, min_samples_split=20, n_estimators=150, total=   1.8s\n",
      "[CV] class_weight=balanced_subsample, criterion=gini, max_depth=14, max_features=auto, min_samples_split=20, n_estimators=150 \n",
      "[CV]  class_weight=balanced_subsample, criterion=gini, max_depth=14, max_features=auto, min_samples_split=20, n_estimators=150, total=   1.5s\n",
      "[CV] class_weight=balanced_subsample, criterion=gini, max_depth=14, max_features=auto, min_samples_split=20, n_estimators=150 \n",
      "[CV]  class_weight=balanced_subsample, criterion=gini, max_depth=14, max_features=auto, min_samples_split=20, n_estimators=150, total=   1.4s\n",
      "[CV] class_weight=balanced_subsample, criterion=gini, max_depth=14, max_features=auto, min_samples_split=20, n_estimators=150 \n",
      "[CV]  class_weight=balanced_subsample, criterion=gini, max_depth=14, max_features=auto, min_samples_split=20, n_estimators=150, total=   1.5s\n",
      "[CV] class_weight=balanced_subsample, criterion=gini, max_depth=14, max_features=auto, min_samples_split=20, n_estimators=200 \n",
      "[CV]  class_weight=balanced_subsample, criterion=gini, max_depth=14, max_features=auto, min_samples_split=20, n_estimators=200, total=   1.8s\n",
      "[CV] class_weight=balanced_subsample, criterion=gini, max_depth=14, max_features=auto, min_samples_split=20, n_estimators=200 \n",
      "[CV]  class_weight=balanced_subsample, criterion=gini, max_depth=14, max_features=auto, min_samples_split=20, n_estimators=200, total=   1.9s\n",
      "[CV] class_weight=balanced_subsample, criterion=gini, max_depth=14, max_features=auto, min_samples_split=20, n_estimators=200 \n",
      "[CV]  class_weight=balanced_subsample, criterion=gini, max_depth=14, max_features=auto, min_samples_split=20, n_estimators=200, total=   1.8s\n",
      "[CV] class_weight=balanced_subsample, criterion=gini, max_depth=14, max_features=auto, min_samples_split=20, n_estimators=200 \n",
      "[CV]  class_weight=balanced_subsample, criterion=gini, max_depth=14, max_features=auto, min_samples_split=20, n_estimators=200, total=   1.9s\n",
      "[CV] class_weight=balanced_subsample, criterion=gini, max_depth=14, max_features=auto, min_samples_split=20, n_estimators=200 \n",
      "[CV]  class_weight=balanced_subsample, criterion=gini, max_depth=14, max_features=auto, min_samples_split=20, n_estimators=200, total=   2.3s\n",
      "[CV] class_weight=balanced_subsample, criterion=gini, max_depth=14, max_features=auto, min_samples_split=20, n_estimators=300 \n",
      "[CV]  class_weight=balanced_subsample, criterion=gini, max_depth=14, max_features=auto, min_samples_split=20, n_estimators=300, total=   2.5s\n",
      "[CV] class_weight=balanced_subsample, criterion=gini, max_depth=14, max_features=auto, min_samples_split=20, n_estimators=300 \n",
      "[CV]  class_weight=balanced_subsample, criterion=gini, max_depth=14, max_features=auto, min_samples_split=20, n_estimators=300, total=   3.4s\n",
      "[CV] class_weight=balanced_subsample, criterion=gini, max_depth=14, max_features=auto, min_samples_split=20, n_estimators=300 \n",
      "[CV]  class_weight=balanced_subsample, criterion=gini, max_depth=14, max_features=auto, min_samples_split=20, n_estimators=300, total=   3.1s\n",
      "[CV] class_weight=balanced_subsample, criterion=gini, max_depth=14, max_features=auto, min_samples_split=20, n_estimators=300 \n",
      "[CV]  class_weight=balanced_subsample, criterion=gini, max_depth=14, max_features=auto, min_samples_split=20, n_estimators=300, total=   2.9s\n",
      "[CV] class_weight=balanced_subsample, criterion=gini, max_depth=14, max_features=auto, min_samples_split=20, n_estimators=300 \n",
      "[CV]  class_weight=balanced_subsample, criterion=gini, max_depth=14, max_features=auto, min_samples_split=20, n_estimators=300, total=   3.0s\n",
      "[CV] class_weight=balanced_subsample, criterion=gini, max_depth=14, max_features=auto, min_samples_split=15, n_estimators=150 \n",
      "[CV]  class_weight=balanced_subsample, criterion=gini, max_depth=14, max_features=auto, min_samples_split=15, n_estimators=150, total=   1.4s\n",
      "[CV] class_weight=balanced_subsample, criterion=gini, max_depth=14, max_features=auto, min_samples_split=15, n_estimators=150 \n",
      "[CV]  class_weight=balanced_subsample, criterion=gini, max_depth=14, max_features=auto, min_samples_split=15, n_estimators=150, total=   1.4s\n",
      "[CV] class_weight=balanced_subsample, criterion=gini, max_depth=14, max_features=auto, min_samples_split=15, n_estimators=150 \n",
      "[CV]  class_weight=balanced_subsample, criterion=gini, max_depth=14, max_features=auto, min_samples_split=15, n_estimators=150, total=   1.5s\n",
      "[CV] class_weight=balanced_subsample, criterion=gini, max_depth=14, max_features=auto, min_samples_split=15, n_estimators=150 \n",
      "[CV]  class_weight=balanced_subsample, criterion=gini, max_depth=14, max_features=auto, min_samples_split=15, n_estimators=150, total=   1.4s\n",
      "[CV] class_weight=balanced_subsample, criterion=gini, max_depth=14, max_features=auto, min_samples_split=15, n_estimators=150 \n",
      "[CV]  class_weight=balanced_subsample, criterion=gini, max_depth=14, max_features=auto, min_samples_split=15, n_estimators=150, total=   1.4s\n",
      "[CV] class_weight=balanced_subsample, criterion=gini, max_depth=14, max_features=auto, min_samples_split=15, n_estimators=200 \n",
      "[CV]  class_weight=balanced_subsample, criterion=gini, max_depth=14, max_features=auto, min_samples_split=15, n_estimators=200, total=   2.2s\n",
      "[CV] class_weight=balanced_subsample, criterion=gini, max_depth=14, max_features=auto, min_samples_split=15, n_estimators=200 \n",
      "[CV]  class_weight=balanced_subsample, criterion=gini, max_depth=14, max_features=auto, min_samples_split=15, n_estimators=200, total=   1.2s\n",
      "[CV] class_weight=balanced_subsample, criterion=gini, max_depth=14, max_features=auto, min_samples_split=15, n_estimators=200 \n"
     ]
    },
    {
     "name": "stdout",
     "output_type": "stream",
     "text": [
      "[CV]  class_weight=balanced_subsample, criterion=gini, max_depth=14, max_features=auto, min_samples_split=15, n_estimators=200, total=   1.6s\n",
      "[CV] class_weight=balanced_subsample, criterion=gini, max_depth=14, max_features=auto, min_samples_split=15, n_estimators=200 \n",
      "[CV]  class_weight=balanced_subsample, criterion=gini, max_depth=14, max_features=auto, min_samples_split=15, n_estimators=200, total=   2.1s\n",
      "[CV] class_weight=balanced_subsample, criterion=gini, max_depth=14, max_features=auto, min_samples_split=15, n_estimators=200 \n",
      "[CV]  class_weight=balanced_subsample, criterion=gini, max_depth=14, max_features=auto, min_samples_split=15, n_estimators=200, total=   2.1s\n",
      "[CV] class_weight=balanced_subsample, criterion=gini, max_depth=14, max_features=auto, min_samples_split=15, n_estimators=300 \n",
      "[CV]  class_weight=balanced_subsample, criterion=gini, max_depth=14, max_features=auto, min_samples_split=15, n_estimators=300, total=   3.1s\n",
      "[CV] class_weight=balanced_subsample, criterion=gini, max_depth=14, max_features=auto, min_samples_split=15, n_estimators=300 \n",
      "[CV]  class_weight=balanced_subsample, criterion=gini, max_depth=14, max_features=auto, min_samples_split=15, n_estimators=300, total=   3.0s\n",
      "[CV] class_weight=balanced_subsample, criterion=gini, max_depth=14, max_features=auto, min_samples_split=15, n_estimators=300 \n",
      "[CV]  class_weight=balanced_subsample, criterion=gini, max_depth=14, max_features=auto, min_samples_split=15, n_estimators=300, total=   2.9s\n",
      "[CV] class_weight=balanced_subsample, criterion=gini, max_depth=14, max_features=auto, min_samples_split=15, n_estimators=300 \n",
      "[CV]  class_weight=balanced_subsample, criterion=gini, max_depth=14, max_features=auto, min_samples_split=15, n_estimators=300, total=   3.0s\n",
      "[CV] class_weight=balanced_subsample, criterion=gini, max_depth=14, max_features=auto, min_samples_split=15, n_estimators=300 \n",
      "[CV]  class_weight=balanced_subsample, criterion=gini, max_depth=14, max_features=auto, min_samples_split=15, n_estimators=300, total=   2.9s\n",
      "[CV] class_weight=balanced_subsample, criterion=gini, max_depth=14, max_features=auto, min_samples_split=10, n_estimators=150 \n",
      "[CV]  class_weight=balanced_subsample, criterion=gini, max_depth=14, max_features=auto, min_samples_split=10, n_estimators=150, total=   1.4s\n",
      "[CV] class_weight=balanced_subsample, criterion=gini, max_depth=14, max_features=auto, min_samples_split=10, n_estimators=150 \n",
      "[CV]  class_weight=balanced_subsample, criterion=gini, max_depth=14, max_features=auto, min_samples_split=10, n_estimators=150, total=   1.4s\n",
      "[CV] class_weight=balanced_subsample, criterion=gini, max_depth=14, max_features=auto, min_samples_split=10, n_estimators=150 \n",
      "[CV]  class_weight=balanced_subsample, criterion=gini, max_depth=14, max_features=auto, min_samples_split=10, n_estimators=150, total=   1.4s\n",
      "[CV] class_weight=balanced_subsample, criterion=gini, max_depth=14, max_features=auto, min_samples_split=10, n_estimators=150 \n",
      "[CV]  class_weight=balanced_subsample, criterion=gini, max_depth=14, max_features=auto, min_samples_split=10, n_estimators=150, total=   1.5s\n",
      "[CV] class_weight=balanced_subsample, criterion=gini, max_depth=14, max_features=auto, min_samples_split=10, n_estimators=150 \n",
      "[CV]  class_weight=balanced_subsample, criterion=gini, max_depth=14, max_features=auto, min_samples_split=10, n_estimators=150, total=   1.4s\n",
      "[CV] class_weight=balanced_subsample, criterion=gini, max_depth=14, max_features=auto, min_samples_split=10, n_estimators=200 \n",
      "[CV]  class_weight=balanced_subsample, criterion=gini, max_depth=14, max_features=auto, min_samples_split=10, n_estimators=200, total=   2.0s\n",
      "[CV] class_weight=balanced_subsample, criterion=gini, max_depth=14, max_features=auto, min_samples_split=10, n_estimators=200 \n",
      "[CV]  class_weight=balanced_subsample, criterion=gini, max_depth=14, max_features=auto, min_samples_split=10, n_estimators=200, total=   1.7s\n",
      "[CV] class_weight=balanced_subsample, criterion=gini, max_depth=14, max_features=auto, min_samples_split=10, n_estimators=200 \n",
      "[CV]  class_weight=balanced_subsample, criterion=gini, max_depth=14, max_features=auto, min_samples_split=10, n_estimators=200, total=   2.0s\n",
      "[CV] class_weight=balanced_subsample, criterion=gini, max_depth=14, max_features=auto, min_samples_split=10, n_estimators=200 \n",
      "[CV]  class_weight=balanced_subsample, criterion=gini, max_depth=14, max_features=auto, min_samples_split=10, n_estimators=200, total=   2.1s\n",
      "[CV] class_weight=balanced_subsample, criterion=gini, max_depth=14, max_features=auto, min_samples_split=10, n_estimators=200 \n",
      "[CV]  class_weight=balanced_subsample, criterion=gini, max_depth=14, max_features=auto, min_samples_split=10, n_estimators=200, total=   1.9s\n",
      "[CV] class_weight=balanced_subsample, criterion=gini, max_depth=14, max_features=auto, min_samples_split=10, n_estimators=300 \n",
      "[CV]  class_weight=balanced_subsample, criterion=gini, max_depth=14, max_features=auto, min_samples_split=10, n_estimators=300, total=   3.0s\n",
      "[CV] class_weight=balanced_subsample, criterion=gini, max_depth=14, max_features=auto, min_samples_split=10, n_estimators=300 \n",
      "[CV]  class_weight=balanced_subsample, criterion=gini, max_depth=14, max_features=auto, min_samples_split=10, n_estimators=300, total=   3.0s\n",
      "[CV] class_weight=balanced_subsample, criterion=gini, max_depth=14, max_features=auto, min_samples_split=10, n_estimators=300 \n",
      "[CV]  class_weight=balanced_subsample, criterion=gini, max_depth=14, max_features=auto, min_samples_split=10, n_estimators=300, total=   3.0s\n",
      "[CV] class_weight=balanced_subsample, criterion=gini, max_depth=14, max_features=auto, min_samples_split=10, n_estimators=300 \n",
      "[CV]  class_weight=balanced_subsample, criterion=gini, max_depth=14, max_features=auto, min_samples_split=10, n_estimators=300, total=   3.1s\n",
      "[CV] class_weight=balanced_subsample, criterion=gini, max_depth=14, max_features=auto, min_samples_split=10, n_estimators=300 \n",
      "[CV]  class_weight=balanced_subsample, criterion=gini, max_depth=14, max_features=auto, min_samples_split=10, n_estimators=300, total=   2.9s\n",
      "[CV] class_weight=balanced_subsample, criterion=entropy, max_depth=3, max_features=auto, min_samples_split=20, n_estimators=150 \n",
      "[CV]  class_weight=balanced_subsample, criterion=entropy, max_depth=3, max_features=auto, min_samples_split=20, n_estimators=150, total=   1.4s\n",
      "[CV] class_weight=balanced_subsample, criterion=entropy, max_depth=3, max_features=auto, min_samples_split=20, n_estimators=150 \n",
      "[CV]  class_weight=balanced_subsample, criterion=entropy, max_depth=3, max_features=auto, min_samples_split=20, n_estimators=150, total=   1.3s\n",
      "[CV] class_weight=balanced_subsample, criterion=entropy, max_depth=3, max_features=auto, min_samples_split=20, n_estimators=150 \n",
      "[CV]  class_weight=balanced_subsample, criterion=entropy, max_depth=3, max_features=auto, min_samples_split=20, n_estimators=150, total=   1.3s\n",
      "[CV] class_weight=balanced_subsample, criterion=entropy, max_depth=3, max_features=auto, min_samples_split=20, n_estimators=150 \n",
      "[CV]  class_weight=balanced_subsample, criterion=entropy, max_depth=3, max_features=auto, min_samples_split=20, n_estimators=150, total=   1.4s\n",
      "[CV] class_weight=balanced_subsample, criterion=entropy, max_depth=3, max_features=auto, min_samples_split=20, n_estimators=150 \n",
      "[CV]  class_weight=balanced_subsample, criterion=entropy, max_depth=3, max_features=auto, min_samples_split=20, n_estimators=150, total=   1.3s\n",
      "[CV] class_weight=balanced_subsample, criterion=entropy, max_depth=3, max_features=auto, min_samples_split=20, n_estimators=200 \n",
      "[CV]  class_weight=balanced_subsample, criterion=entropy, max_depth=3, max_features=auto, min_samples_split=20, n_estimators=200, total=   1.9s\n",
      "[CV] class_weight=balanced_subsample, criterion=entropy, max_depth=3, max_features=auto, min_samples_split=20, n_estimators=200 \n",
      "[CV]  class_weight=balanced_subsample, criterion=entropy, max_depth=3, max_features=auto, min_samples_split=20, n_estimators=200, total=   1.9s\n",
      "[CV] class_weight=balanced_subsample, criterion=entropy, max_depth=3, max_features=auto, min_samples_split=20, n_estimators=200 \n",
      "[CV]  class_weight=balanced_subsample, criterion=entropy, max_depth=3, max_features=auto, min_samples_split=20, n_estimators=200, total=   1.8s\n",
      "[CV] class_weight=balanced_subsample, criterion=entropy, max_depth=3, max_features=auto, min_samples_split=20, n_estimators=200 \n"
     ]
    },
    {
     "name": "stdout",
     "output_type": "stream",
     "text": [
      "[CV]  class_weight=balanced_subsample, criterion=entropy, max_depth=3, max_features=auto, min_samples_split=20, n_estimators=200, total=   1.7s\n",
      "[CV] class_weight=balanced_subsample, criterion=entropy, max_depth=3, max_features=auto, min_samples_split=20, n_estimators=200 \n",
      "[CV]  class_weight=balanced_subsample, criterion=entropy, max_depth=3, max_features=auto, min_samples_split=20, n_estimators=200, total=   1.4s\n",
      "[CV] class_weight=balanced_subsample, criterion=entropy, max_depth=3, max_features=auto, min_samples_split=20, n_estimators=300 \n",
      "[CV]  class_weight=balanced_subsample, criterion=entropy, max_depth=3, max_features=auto, min_samples_split=20, n_estimators=300, total=   2.4s\n",
      "[CV] class_weight=balanced_subsample, criterion=entropy, max_depth=3, max_features=auto, min_samples_split=20, n_estimators=300 \n",
      "[CV]  class_weight=balanced_subsample, criterion=entropy, max_depth=3, max_features=auto, min_samples_split=20, n_estimators=300, total=   2.8s\n",
      "[CV] class_weight=balanced_subsample, criterion=entropy, max_depth=3, max_features=auto, min_samples_split=20, n_estimators=300 \n",
      "[CV]  class_weight=balanced_subsample, criterion=entropy, max_depth=3, max_features=auto, min_samples_split=20, n_estimators=300, total=   2.7s\n",
      "[CV] class_weight=balanced_subsample, criterion=entropy, max_depth=3, max_features=auto, min_samples_split=20, n_estimators=300 \n",
      "[CV]  class_weight=balanced_subsample, criterion=entropy, max_depth=3, max_features=auto, min_samples_split=20, n_estimators=300, total=   2.8s\n",
      "[CV] class_weight=balanced_subsample, criterion=entropy, max_depth=3, max_features=auto, min_samples_split=20, n_estimators=300 \n",
      "[CV]  class_weight=balanced_subsample, criterion=entropy, max_depth=3, max_features=auto, min_samples_split=20, n_estimators=300, total=   3.1s\n",
      "[CV] class_weight=balanced_subsample, criterion=entropy, max_depth=3, max_features=auto, min_samples_split=15, n_estimators=150 \n",
      "[CV]  class_weight=balanced_subsample, criterion=entropy, max_depth=3, max_features=auto, min_samples_split=15, n_estimators=150, total=   1.0s\n",
      "[CV] class_weight=balanced_subsample, criterion=entropy, max_depth=3, max_features=auto, min_samples_split=15, n_estimators=150 \n",
      "[CV]  class_weight=balanced_subsample, criterion=entropy, max_depth=3, max_features=auto, min_samples_split=15, n_estimators=150, total=   1.3s\n",
      "[CV] class_weight=balanced_subsample, criterion=entropy, max_depth=3, max_features=auto, min_samples_split=15, n_estimators=150 \n",
      "[CV]  class_weight=balanced_subsample, criterion=entropy, max_depth=3, max_features=auto, min_samples_split=15, n_estimators=150, total=   1.3s\n",
      "[CV] class_weight=balanced_subsample, criterion=entropy, max_depth=3, max_features=auto, min_samples_split=15, n_estimators=150 \n",
      "[CV]  class_weight=balanced_subsample, criterion=entropy, max_depth=3, max_features=auto, min_samples_split=15, n_estimators=150, total=   1.4s\n",
      "[CV] class_weight=balanced_subsample, criterion=entropy, max_depth=3, max_features=auto, min_samples_split=15, n_estimators=150 \n",
      "[CV]  class_weight=balanced_subsample, criterion=entropy, max_depth=3, max_features=auto, min_samples_split=15, n_estimators=150, total=   1.3s\n",
      "[CV] class_weight=balanced_subsample, criterion=entropy, max_depth=3, max_features=auto, min_samples_split=15, n_estimators=200 \n",
      "[CV]  class_weight=balanced_subsample, criterion=entropy, max_depth=3, max_features=auto, min_samples_split=15, n_estimators=200, total=   1.9s\n",
      "[CV] class_weight=balanced_subsample, criterion=entropy, max_depth=3, max_features=auto, min_samples_split=15, n_estimators=200 \n",
      "[CV]  class_weight=balanced_subsample, criterion=entropy, max_depth=3, max_features=auto, min_samples_split=15, n_estimators=200, total=   1.6s\n",
      "[CV] class_weight=balanced_subsample, criterion=entropy, max_depth=3, max_features=auto, min_samples_split=15, n_estimators=200 \n",
      "[CV]  class_weight=balanced_subsample, criterion=entropy, max_depth=3, max_features=auto, min_samples_split=15, n_estimators=200, total=   1.8s\n",
      "[CV] class_weight=balanced_subsample, criterion=entropy, max_depth=3, max_features=auto, min_samples_split=15, n_estimators=200 \n",
      "[CV]  class_weight=balanced_subsample, criterion=entropy, max_depth=3, max_features=auto, min_samples_split=15, n_estimators=200, total=   1.8s\n",
      "[CV] class_weight=balanced_subsample, criterion=entropy, max_depth=3, max_features=auto, min_samples_split=15, n_estimators=200 \n",
      "[CV]  class_weight=balanced_subsample, criterion=entropy, max_depth=3, max_features=auto, min_samples_split=15, n_estimators=200, total=   1.9s\n",
      "[CV] class_weight=balanced_subsample, criterion=entropy, max_depth=3, max_features=auto, min_samples_split=15, n_estimators=300 \n",
      "[CV]  class_weight=balanced_subsample, criterion=entropy, max_depth=3, max_features=auto, min_samples_split=15, n_estimators=300, total=   2.6s\n",
      "[CV] class_weight=balanced_subsample, criterion=entropy, max_depth=3, max_features=auto, min_samples_split=15, n_estimators=300 \n",
      "[CV]  class_weight=balanced_subsample, criterion=entropy, max_depth=3, max_features=auto, min_samples_split=15, n_estimators=300, total=   2.8s\n",
      "[CV] class_weight=balanced_subsample, criterion=entropy, max_depth=3, max_features=auto, min_samples_split=15, n_estimators=300 \n",
      "[CV]  class_weight=balanced_subsample, criterion=entropy, max_depth=3, max_features=auto, min_samples_split=15, n_estimators=300, total=   3.0s\n",
      "[CV] class_weight=balanced_subsample, criterion=entropy, max_depth=3, max_features=auto, min_samples_split=15, n_estimators=300 \n",
      "[CV]  class_weight=balanced_subsample, criterion=entropy, max_depth=3, max_features=auto, min_samples_split=15, n_estimators=300, total=   2.2s\n",
      "[CV] class_weight=balanced_subsample, criterion=entropy, max_depth=3, max_features=auto, min_samples_split=15, n_estimators=300 \n",
      "[CV]  class_weight=balanced_subsample, criterion=entropy, max_depth=3, max_features=auto, min_samples_split=15, n_estimators=300, total=   2.1s\n",
      "[CV] class_weight=balanced_subsample, criterion=entropy, max_depth=3, max_features=auto, min_samples_split=10, n_estimators=150 \n",
      "[CV]  class_weight=balanced_subsample, criterion=entropy, max_depth=3, max_features=auto, min_samples_split=10, n_estimators=150, total=   1.5s\n",
      "[CV] class_weight=balanced_subsample, criterion=entropy, max_depth=3, max_features=auto, min_samples_split=10, n_estimators=150 \n",
      "[CV]  class_weight=balanced_subsample, criterion=entropy, max_depth=3, max_features=auto, min_samples_split=10, n_estimators=150, total=   1.3s\n",
      "[CV] class_weight=balanced_subsample, criterion=entropy, max_depth=3, max_features=auto, min_samples_split=10, n_estimators=150 \n",
      "[CV]  class_weight=balanced_subsample, criterion=entropy, max_depth=3, max_features=auto, min_samples_split=10, n_estimators=150, total=   1.5s\n",
      "[CV] class_weight=balanced_subsample, criterion=entropy, max_depth=3, max_features=auto, min_samples_split=10, n_estimators=150 \n",
      "[CV]  class_weight=balanced_subsample, criterion=entropy, max_depth=3, max_features=auto, min_samples_split=10, n_estimators=150, total=   1.4s\n",
      "[CV] class_weight=balanced_subsample, criterion=entropy, max_depth=3, max_features=auto, min_samples_split=10, n_estimators=150 \n",
      "[CV]  class_weight=balanced_subsample, criterion=entropy, max_depth=3, max_features=auto, min_samples_split=10, n_estimators=150, total=   1.3s\n",
      "[CV] class_weight=balanced_subsample, criterion=entropy, max_depth=3, max_features=auto, min_samples_split=10, n_estimators=200 \n",
      "[CV]  class_weight=balanced_subsample, criterion=entropy, max_depth=3, max_features=auto, min_samples_split=10, n_estimators=200, total=   1.9s\n",
      "[CV] class_weight=balanced_subsample, criterion=entropy, max_depth=3, max_features=auto, min_samples_split=10, n_estimators=200 \n",
      "[CV]  class_weight=balanced_subsample, criterion=entropy, max_depth=3, max_features=auto, min_samples_split=10, n_estimators=200, total=   1.9s\n",
      "[CV] class_weight=balanced_subsample, criterion=entropy, max_depth=3, max_features=auto, min_samples_split=10, n_estimators=200 \n",
      "[CV]  class_weight=balanced_subsample, criterion=entropy, max_depth=3, max_features=auto, min_samples_split=10, n_estimators=200, total=   1.8s\n",
      "[CV] class_weight=balanced_subsample, criterion=entropy, max_depth=3, max_features=auto, min_samples_split=10, n_estimators=200 \n",
      "[CV]  class_weight=balanced_subsample, criterion=entropy, max_depth=3, max_features=auto, min_samples_split=10, n_estimators=200, total=   1.8s\n",
      "[CV] class_weight=balanced_subsample, criterion=entropy, max_depth=3, max_features=auto, min_samples_split=10, n_estimators=200 \n"
     ]
    },
    {
     "name": "stdout",
     "output_type": "stream",
     "text": [
      "[CV]  class_weight=balanced_subsample, criterion=entropy, max_depth=3, max_features=auto, min_samples_split=10, n_estimators=200, total=   1.6s\n",
      "[CV] class_weight=balanced_subsample, criterion=entropy, max_depth=3, max_features=auto, min_samples_split=10, n_estimators=300 \n",
      "[CV]  class_weight=balanced_subsample, criterion=entropy, max_depth=3, max_features=auto, min_samples_split=10, n_estimators=300, total=   2.7s\n",
      "[CV] class_weight=balanced_subsample, criterion=entropy, max_depth=3, max_features=auto, min_samples_split=10, n_estimators=300 \n",
      "[CV]  class_weight=balanced_subsample, criterion=entropy, max_depth=3, max_features=auto, min_samples_split=10, n_estimators=300, total=   2.8s\n",
      "[CV] class_weight=balanced_subsample, criterion=entropy, max_depth=3, max_features=auto, min_samples_split=10, n_estimators=300 \n",
      "[CV]  class_weight=balanced_subsample, criterion=entropy, max_depth=3, max_features=auto, min_samples_split=10, n_estimators=300, total=   2.8s\n",
      "[CV] class_weight=balanced_subsample, criterion=entropy, max_depth=3, max_features=auto, min_samples_split=10, n_estimators=300 \n",
      "[CV]  class_weight=balanced_subsample, criterion=entropy, max_depth=3, max_features=auto, min_samples_split=10, n_estimators=300, total=   2.7s\n",
      "[CV] class_weight=balanced_subsample, criterion=entropy, max_depth=3, max_features=auto, min_samples_split=10, n_estimators=300 \n",
      "[CV]  class_weight=balanced_subsample, criterion=entropy, max_depth=3, max_features=auto, min_samples_split=10, n_estimators=300, total=   2.7s\n",
      "[CV] class_weight=balanced_subsample, criterion=entropy, max_depth=5, max_features=auto, min_samples_split=20, n_estimators=150 \n",
      "[CV]  class_weight=balanced_subsample, criterion=entropy, max_depth=5, max_features=auto, min_samples_split=20, n_estimators=150, total=   1.3s\n",
      "[CV] class_weight=balanced_subsample, criterion=entropy, max_depth=5, max_features=auto, min_samples_split=20, n_estimators=150 \n",
      "[CV]  class_weight=balanced_subsample, criterion=entropy, max_depth=5, max_features=auto, min_samples_split=20, n_estimators=150, total=   1.4s\n",
      "[CV] class_weight=balanced_subsample, criterion=entropy, max_depth=5, max_features=auto, min_samples_split=20, n_estimators=150 \n",
      "[CV]  class_weight=balanced_subsample, criterion=entropy, max_depth=5, max_features=auto, min_samples_split=20, n_estimators=150, total=   1.4s\n",
      "[CV] class_weight=balanced_subsample, criterion=entropy, max_depth=5, max_features=auto, min_samples_split=20, n_estimators=150 \n",
      "[CV]  class_weight=balanced_subsample, criterion=entropy, max_depth=5, max_features=auto, min_samples_split=20, n_estimators=150, total=   1.3s\n",
      "[CV] class_weight=balanced_subsample, criterion=entropy, max_depth=5, max_features=auto, min_samples_split=20, n_estimators=150 \n",
      "[CV]  class_weight=balanced_subsample, criterion=entropy, max_depth=5, max_features=auto, min_samples_split=20, n_estimators=150, total=   1.3s\n",
      "[CV] class_weight=balanced_subsample, criterion=entropy, max_depth=5, max_features=auto, min_samples_split=20, n_estimators=200 \n",
      "[CV]  class_weight=balanced_subsample, criterion=entropy, max_depth=5, max_features=auto, min_samples_split=20, n_estimators=200, total=   2.1s\n",
      "[CV] class_weight=balanced_subsample, criterion=entropy, max_depth=5, max_features=auto, min_samples_split=20, n_estimators=200 \n",
      "[CV]  class_weight=balanced_subsample, criterion=entropy, max_depth=5, max_features=auto, min_samples_split=20, n_estimators=200, total=   1.9s\n",
      "[CV] class_weight=balanced_subsample, criterion=entropy, max_depth=5, max_features=auto, min_samples_split=20, n_estimators=200 \n",
      "[CV]  class_weight=balanced_subsample, criterion=entropy, max_depth=5, max_features=auto, min_samples_split=20, n_estimators=200, total=   1.8s\n",
      "[CV] class_weight=balanced_subsample, criterion=entropy, max_depth=5, max_features=auto, min_samples_split=20, n_estimators=200 \n",
      "[CV]  class_weight=balanced_subsample, criterion=entropy, max_depth=5, max_features=auto, min_samples_split=20, n_estimators=200, total=   2.0s\n",
      "[CV] class_weight=balanced_subsample, criterion=entropy, max_depth=5, max_features=auto, min_samples_split=20, n_estimators=200 \n",
      "[CV]  class_weight=balanced_subsample, criterion=entropy, max_depth=5, max_features=auto, min_samples_split=20, n_estimators=200, total=   1.8s\n",
      "[CV] class_weight=balanced_subsample, criterion=entropy, max_depth=5, max_features=auto, min_samples_split=20, n_estimators=300 \n",
      "[CV]  class_weight=balanced_subsample, criterion=entropy, max_depth=5, max_features=auto, min_samples_split=20, n_estimators=300, total=   2.9s\n",
      "[CV] class_weight=balanced_subsample, criterion=entropy, max_depth=5, max_features=auto, min_samples_split=20, n_estimators=300 \n",
      "[CV]  class_weight=balanced_subsample, criterion=entropy, max_depth=5, max_features=auto, min_samples_split=20, n_estimators=300, total=   2.8s\n",
      "[CV] class_weight=balanced_subsample, criterion=entropy, max_depth=5, max_features=auto, min_samples_split=20, n_estimators=300 \n",
      "[CV]  class_weight=balanced_subsample, criterion=entropy, max_depth=5, max_features=auto, min_samples_split=20, n_estimators=300, total=   2.9s\n",
      "[CV] class_weight=balanced_subsample, criterion=entropy, max_depth=5, max_features=auto, min_samples_split=20, n_estimators=300 \n",
      "[CV]  class_weight=balanced_subsample, criterion=entropy, max_depth=5, max_features=auto, min_samples_split=20, n_estimators=300, total=   2.7s\n",
      "[CV] class_weight=balanced_subsample, criterion=entropy, max_depth=5, max_features=auto, min_samples_split=20, n_estimators=300 \n",
      "[CV]  class_weight=balanced_subsample, criterion=entropy, max_depth=5, max_features=auto, min_samples_split=20, n_estimators=300, total=   2.8s\n",
      "[CV] class_weight=balanced_subsample, criterion=entropy, max_depth=5, max_features=auto, min_samples_split=15, n_estimators=150 \n",
      "[CV]  class_weight=balanced_subsample, criterion=entropy, max_depth=5, max_features=auto, min_samples_split=15, n_estimators=150, total=   1.4s\n",
      "[CV] class_weight=balanced_subsample, criterion=entropy, max_depth=5, max_features=auto, min_samples_split=15, n_estimators=150 \n",
      "[CV]  class_weight=balanced_subsample, criterion=entropy, max_depth=5, max_features=auto, min_samples_split=15, n_estimators=150, total=   1.4s\n",
      "[CV] class_weight=balanced_subsample, criterion=entropy, max_depth=5, max_features=auto, min_samples_split=15, n_estimators=150 \n",
      "[CV]  class_weight=balanced_subsample, criterion=entropy, max_depth=5, max_features=auto, min_samples_split=15, n_estimators=150, total=   1.3s\n",
      "[CV] class_weight=balanced_subsample, criterion=entropy, max_depth=5, max_features=auto, min_samples_split=15, n_estimators=150 \n",
      "[CV]  class_weight=balanced_subsample, criterion=entropy, max_depth=5, max_features=auto, min_samples_split=15, n_estimators=150, total=   1.5s\n",
      "[CV] class_weight=balanced_subsample, criterion=entropy, max_depth=5, max_features=auto, min_samples_split=15, n_estimators=150 \n",
      "[CV]  class_weight=balanced_subsample, criterion=entropy, max_depth=5, max_features=auto, min_samples_split=15, n_estimators=150, total=   1.4s\n",
      "[CV] class_weight=balanced_subsample, criterion=entropy, max_depth=5, max_features=auto, min_samples_split=15, n_estimators=200 \n",
      "[CV]  class_weight=balanced_subsample, criterion=entropy, max_depth=5, max_features=auto, min_samples_split=15, n_estimators=200, total=   1.8s\n",
      "[CV] class_weight=balanced_subsample, criterion=entropy, max_depth=5, max_features=auto, min_samples_split=15, n_estimators=200 \n",
      "[CV]  class_weight=balanced_subsample, criterion=entropy, max_depth=5, max_features=auto, min_samples_split=15, n_estimators=200, total=   1.8s\n",
      "[CV] class_weight=balanced_subsample, criterion=entropy, max_depth=5, max_features=auto, min_samples_split=15, n_estimators=200 \n",
      "[CV]  class_weight=balanced_subsample, criterion=entropy, max_depth=5, max_features=auto, min_samples_split=15, n_estimators=200, total=   1.9s\n",
      "[CV] class_weight=balanced_subsample, criterion=entropy, max_depth=5, max_features=auto, min_samples_split=15, n_estimators=200 \n",
      "[CV]  class_weight=balanced_subsample, criterion=entropy, max_depth=5, max_features=auto, min_samples_split=15, n_estimators=200, total=   1.9s\n",
      "[CV] class_weight=balanced_subsample, criterion=entropy, max_depth=5, max_features=auto, min_samples_split=15, n_estimators=200 \n",
      "[CV]  class_weight=balanced_subsample, criterion=entropy, max_depth=5, max_features=auto, min_samples_split=15, n_estimators=200, total=   1.9s\n",
      "[CV] class_weight=balanced_subsample, criterion=entropy, max_depth=5, max_features=auto, min_samples_split=15, n_estimators=300 \n"
     ]
    },
    {
     "name": "stdout",
     "output_type": "stream",
     "text": [
      "[CV]  class_weight=balanced_subsample, criterion=entropy, max_depth=5, max_features=auto, min_samples_split=15, n_estimators=300, total=   2.3s\n",
      "[CV] class_weight=balanced_subsample, criterion=entropy, max_depth=5, max_features=auto, min_samples_split=15, n_estimators=300 \n",
      "[CV]  class_weight=balanced_subsample, criterion=entropy, max_depth=5, max_features=auto, min_samples_split=15, n_estimators=300, total=   2.9s\n",
      "[CV] class_weight=balanced_subsample, criterion=entropy, max_depth=5, max_features=auto, min_samples_split=15, n_estimators=300 \n",
      "[CV]  class_weight=balanced_subsample, criterion=entropy, max_depth=5, max_features=auto, min_samples_split=15, n_estimators=300, total=   2.8s\n",
      "[CV] class_weight=balanced_subsample, criterion=entropy, max_depth=5, max_features=auto, min_samples_split=15, n_estimators=300 \n",
      "[CV]  class_weight=balanced_subsample, criterion=entropy, max_depth=5, max_features=auto, min_samples_split=15, n_estimators=300, total=   2.9s\n",
      "[CV] class_weight=balanced_subsample, criterion=entropy, max_depth=5, max_features=auto, min_samples_split=15, n_estimators=300 \n",
      "[CV]  class_weight=balanced_subsample, criterion=entropy, max_depth=5, max_features=auto, min_samples_split=15, n_estimators=300, total=   2.8s\n",
      "[CV] class_weight=balanced_subsample, criterion=entropy, max_depth=5, max_features=auto, min_samples_split=10, n_estimators=150 \n",
      "[CV]  class_weight=balanced_subsample, criterion=entropy, max_depth=5, max_features=auto, min_samples_split=10, n_estimators=150, total=   1.5s\n",
      "[CV] class_weight=balanced_subsample, criterion=entropy, max_depth=5, max_features=auto, min_samples_split=10, n_estimators=150 \n",
      "[CV]  class_weight=balanced_subsample, criterion=entropy, max_depth=5, max_features=auto, min_samples_split=10, n_estimators=150, total=   1.4s\n",
      "[CV] class_weight=balanced_subsample, criterion=entropy, max_depth=5, max_features=auto, min_samples_split=10, n_estimators=150 \n",
      "[CV]  class_weight=balanced_subsample, criterion=entropy, max_depth=5, max_features=auto, min_samples_split=10, n_estimators=150, total=   1.5s\n",
      "[CV] class_weight=balanced_subsample, criterion=entropy, max_depth=5, max_features=auto, min_samples_split=10, n_estimators=150 \n",
      "[CV]  class_weight=balanced_subsample, criterion=entropy, max_depth=5, max_features=auto, min_samples_split=10, n_estimators=150, total=   1.4s\n",
      "[CV] class_weight=balanced_subsample, criterion=entropy, max_depth=5, max_features=auto, min_samples_split=10, n_estimators=150 \n",
      "[CV]  class_weight=balanced_subsample, criterion=entropy, max_depth=5, max_features=auto, min_samples_split=10, n_estimators=150, total=   1.6s\n",
      "[CV] class_weight=balanced_subsample, criterion=entropy, max_depth=5, max_features=auto, min_samples_split=10, n_estimators=200 \n",
      "[CV]  class_weight=balanced_subsample, criterion=entropy, max_depth=5, max_features=auto, min_samples_split=10, n_estimators=200, total=   2.0s\n",
      "[CV] class_weight=balanced_subsample, criterion=entropy, max_depth=5, max_features=auto, min_samples_split=10, n_estimators=200 \n",
      "[CV]  class_weight=balanced_subsample, criterion=entropy, max_depth=5, max_features=auto, min_samples_split=10, n_estimators=200, total=   2.0s\n",
      "[CV] class_weight=balanced_subsample, criterion=entropy, max_depth=5, max_features=auto, min_samples_split=10, n_estimators=200 \n",
      "[CV]  class_weight=balanced_subsample, criterion=entropy, max_depth=5, max_features=auto, min_samples_split=10, n_estimators=200, total=   1.9s\n",
      "[CV] class_weight=balanced_subsample, criterion=entropy, max_depth=5, max_features=auto, min_samples_split=10, n_estimators=200 \n",
      "[CV]  class_weight=balanced_subsample, criterion=entropy, max_depth=5, max_features=auto, min_samples_split=10, n_estimators=200, total=   1.9s\n",
      "[CV] class_weight=balanced_subsample, criterion=entropy, max_depth=5, max_features=auto, min_samples_split=10, n_estimators=200 \n",
      "[CV]  class_weight=balanced_subsample, criterion=entropy, max_depth=5, max_features=auto, min_samples_split=10, n_estimators=200, total=   1.8s\n",
      "[CV] class_weight=balanced_subsample, criterion=entropy, max_depth=5, max_features=auto, min_samples_split=10, n_estimators=300 \n",
      "[CV]  class_weight=balanced_subsample, criterion=entropy, max_depth=5, max_features=auto, min_samples_split=10, n_estimators=300, total=   2.7s\n",
      "[CV] class_weight=balanced_subsample, criterion=entropy, max_depth=5, max_features=auto, min_samples_split=10, n_estimators=300 \n",
      "[CV]  class_weight=balanced_subsample, criterion=entropy, max_depth=5, max_features=auto, min_samples_split=10, n_estimators=300, total=   2.5s\n",
      "[CV] class_weight=balanced_subsample, criterion=entropy, max_depth=5, max_features=auto, min_samples_split=10, n_estimators=300 \n",
      "[CV]  class_weight=balanced_subsample, criterion=entropy, max_depth=5, max_features=auto, min_samples_split=10, n_estimators=300, total=   2.9s\n",
      "[CV] class_weight=balanced_subsample, criterion=entropy, max_depth=5, max_features=auto, min_samples_split=10, n_estimators=300 \n",
      "[CV]  class_weight=balanced_subsample, criterion=entropy, max_depth=5, max_features=auto, min_samples_split=10, n_estimators=300, total=   2.8s\n",
      "[CV] class_weight=balanced_subsample, criterion=entropy, max_depth=5, max_features=auto, min_samples_split=10, n_estimators=300 \n",
      "[CV]  class_weight=balanced_subsample, criterion=entropy, max_depth=5, max_features=auto, min_samples_split=10, n_estimators=300, total=   3.0s\n",
      "[CV] class_weight=balanced_subsample, criterion=entropy, max_depth=7, max_features=auto, min_samples_split=20, n_estimators=150 \n",
      "[CV]  class_weight=balanced_subsample, criterion=entropy, max_depth=7, max_features=auto, min_samples_split=20, n_estimators=150, total=   1.4s\n",
      "[CV] class_weight=balanced_subsample, criterion=entropy, max_depth=7, max_features=auto, min_samples_split=20, n_estimators=150 \n",
      "[CV]  class_weight=balanced_subsample, criterion=entropy, max_depth=7, max_features=auto, min_samples_split=20, n_estimators=150, total=   1.4s\n",
      "[CV] class_weight=balanced_subsample, criterion=entropy, max_depth=7, max_features=auto, min_samples_split=20, n_estimators=150 \n",
      "[CV]  class_weight=balanced_subsample, criterion=entropy, max_depth=7, max_features=auto, min_samples_split=20, n_estimators=150, total=   1.3s\n",
      "[CV] class_weight=balanced_subsample, criterion=entropy, max_depth=7, max_features=auto, min_samples_split=20, n_estimators=150 \n",
      "[CV]  class_weight=balanced_subsample, criterion=entropy, max_depth=7, max_features=auto, min_samples_split=20, n_estimators=150, total=   1.4s\n",
      "[CV] class_weight=balanced_subsample, criterion=entropy, max_depth=7, max_features=auto, min_samples_split=20, n_estimators=150 \n",
      "[CV]  class_weight=balanced_subsample, criterion=entropy, max_depth=7, max_features=auto, min_samples_split=20, n_estimators=150, total=   1.4s\n",
      "[CV] class_weight=balanced_subsample, criterion=entropy, max_depth=7, max_features=auto, min_samples_split=20, n_estimators=200 \n",
      "[CV]  class_weight=balanced_subsample, criterion=entropy, max_depth=7, max_features=auto, min_samples_split=20, n_estimators=200, total=   2.0s\n",
      "[CV] class_weight=balanced_subsample, criterion=entropy, max_depth=7, max_features=auto, min_samples_split=20, n_estimators=200 \n",
      "[CV]  class_weight=balanced_subsample, criterion=entropy, max_depth=7, max_features=auto, min_samples_split=20, n_estimators=200, total=   1.9s\n",
      "[CV] class_weight=balanced_subsample, criterion=entropy, max_depth=7, max_features=auto, min_samples_split=20, n_estimators=200 \n",
      "[CV]  class_weight=balanced_subsample, criterion=entropy, max_depth=7, max_features=auto, min_samples_split=20, n_estimators=200, total=   1.9s\n",
      "[CV] class_weight=balanced_subsample, criterion=entropy, max_depth=7, max_features=auto, min_samples_split=20, n_estimators=200 \n",
      "[CV]  class_weight=balanced_subsample, criterion=entropy, max_depth=7, max_features=auto, min_samples_split=20, n_estimators=200, total=   1.8s\n",
      "[CV] class_weight=balanced_subsample, criterion=entropy, max_depth=7, max_features=auto, min_samples_split=20, n_estimators=200 \n",
      "[CV]  class_weight=balanced_subsample, criterion=entropy, max_depth=7, max_features=auto, min_samples_split=20, n_estimators=200, total=   1.9s\n",
      "[CV] class_weight=balanced_subsample, criterion=entropy, max_depth=7, max_features=auto, min_samples_split=20, n_estimators=300 \n",
      "[CV]  class_weight=balanced_subsample, criterion=entropy, max_depth=7, max_features=auto, min_samples_split=20, n_estimators=300, total=   2.9s\n",
      "[CV] class_weight=balanced_subsample, criterion=entropy, max_depth=7, max_features=auto, min_samples_split=20, n_estimators=300 \n"
     ]
    },
    {
     "name": "stdout",
     "output_type": "stream",
     "text": [
      "[CV]  class_weight=balanced_subsample, criterion=entropy, max_depth=7, max_features=auto, min_samples_split=20, n_estimators=300, total=   2.9s\n",
      "[CV] class_weight=balanced_subsample, criterion=entropy, max_depth=7, max_features=auto, min_samples_split=20, n_estimators=300 \n",
      "[CV]  class_weight=balanced_subsample, criterion=entropy, max_depth=7, max_features=auto, min_samples_split=20, n_estimators=300, total=   2.8s\n",
      "[CV] class_weight=balanced_subsample, criterion=entropy, max_depth=7, max_features=auto, min_samples_split=20, n_estimators=300 \n",
      "[CV]  class_weight=balanced_subsample, criterion=entropy, max_depth=7, max_features=auto, min_samples_split=20, n_estimators=300, total=   2.9s\n",
      "[CV] class_weight=balanced_subsample, criterion=entropy, max_depth=7, max_features=auto, min_samples_split=20, n_estimators=300 \n",
      "[CV]  class_weight=balanced_subsample, criterion=entropy, max_depth=7, max_features=auto, min_samples_split=20, n_estimators=300, total=   2.9s\n",
      "[CV] class_weight=balanced_subsample, criterion=entropy, max_depth=7, max_features=auto, min_samples_split=15, n_estimators=150 \n",
      "[CV]  class_weight=balanced_subsample, criterion=entropy, max_depth=7, max_features=auto, min_samples_split=15, n_estimators=150, total=   1.3s\n",
      "[CV] class_weight=balanced_subsample, criterion=entropy, max_depth=7, max_features=auto, min_samples_split=15, n_estimators=150 \n",
      "[CV]  class_weight=balanced_subsample, criterion=entropy, max_depth=7, max_features=auto, min_samples_split=15, n_estimators=150, total=   1.4s\n",
      "[CV] class_weight=balanced_subsample, criterion=entropy, max_depth=7, max_features=auto, min_samples_split=15, n_estimators=150 \n",
      "[CV]  class_weight=balanced_subsample, criterion=entropy, max_depth=7, max_features=auto, min_samples_split=15, n_estimators=150, total=   1.4s\n",
      "[CV] class_weight=balanced_subsample, criterion=entropy, max_depth=7, max_features=auto, min_samples_split=15, n_estimators=150 \n",
      "[CV]  class_weight=balanced_subsample, criterion=entropy, max_depth=7, max_features=auto, min_samples_split=15, n_estimators=150, total=   1.5s\n",
      "[CV] class_weight=balanced_subsample, criterion=entropy, max_depth=7, max_features=auto, min_samples_split=15, n_estimators=150 \n",
      "[CV]  class_weight=balanced_subsample, criterion=entropy, max_depth=7, max_features=auto, min_samples_split=15, n_estimators=150, total=   1.4s\n",
      "[CV] class_weight=balanced_subsample, criterion=entropy, max_depth=7, max_features=auto, min_samples_split=15, n_estimators=200 \n",
      "[CV]  class_weight=balanced_subsample, criterion=entropy, max_depth=7, max_features=auto, min_samples_split=15, n_estimators=200, total=   1.9s\n",
      "[CV] class_weight=balanced_subsample, criterion=entropy, max_depth=7, max_features=auto, min_samples_split=15, n_estimators=200 \n",
      "[CV]  class_weight=balanced_subsample, criterion=entropy, max_depth=7, max_features=auto, min_samples_split=15, n_estimators=200, total=   1.9s\n",
      "[CV] class_weight=balanced_subsample, criterion=entropy, max_depth=7, max_features=auto, min_samples_split=15, n_estimators=200 \n",
      "[CV]  class_weight=balanced_subsample, criterion=entropy, max_depth=7, max_features=auto, min_samples_split=15, n_estimators=200, total=   1.9s\n",
      "[CV] class_weight=balanced_subsample, criterion=entropy, max_depth=7, max_features=auto, min_samples_split=15, n_estimators=200 \n",
      "[CV]  class_weight=balanced_subsample, criterion=entropy, max_depth=7, max_features=auto, min_samples_split=15, n_estimators=200, total=   2.0s\n",
      "[CV] class_weight=balanced_subsample, criterion=entropy, max_depth=7, max_features=auto, min_samples_split=15, n_estimators=200 \n",
      "[CV]  class_weight=balanced_subsample, criterion=entropy, max_depth=7, max_features=auto, min_samples_split=15, n_estimators=200, total=   1.8s\n",
      "[CV] class_weight=balanced_subsample, criterion=entropy, max_depth=7, max_features=auto, min_samples_split=15, n_estimators=300 \n",
      "[CV]  class_weight=balanced_subsample, criterion=entropy, max_depth=7, max_features=auto, min_samples_split=15, n_estimators=300, total=   2.9s\n",
      "[CV] class_weight=balanced_subsample, criterion=entropy, max_depth=7, max_features=auto, min_samples_split=15, n_estimators=300 \n",
      "[CV]  class_weight=balanced_subsample, criterion=entropy, max_depth=7, max_features=auto, min_samples_split=15, n_estimators=300, total=   2.7s\n",
      "[CV] class_weight=balanced_subsample, criterion=entropy, max_depth=7, max_features=auto, min_samples_split=15, n_estimators=300 \n",
      "[CV]  class_weight=balanced_subsample, criterion=entropy, max_depth=7, max_features=auto, min_samples_split=15, n_estimators=300, total=   2.9s\n",
      "[CV] class_weight=balanced_subsample, criterion=entropy, max_depth=7, max_features=auto, min_samples_split=15, n_estimators=300 \n",
      "[CV]  class_weight=balanced_subsample, criterion=entropy, max_depth=7, max_features=auto, min_samples_split=15, n_estimators=300, total=   3.0s\n",
      "[CV] class_weight=balanced_subsample, criterion=entropy, max_depth=7, max_features=auto, min_samples_split=15, n_estimators=300 \n",
      "[CV]  class_weight=balanced_subsample, criterion=entropy, max_depth=7, max_features=auto, min_samples_split=15, n_estimators=300, total=   2.9s\n",
      "[CV] class_weight=balanced_subsample, criterion=entropy, max_depth=7, max_features=auto, min_samples_split=10, n_estimators=150 \n",
      "[CV]  class_weight=balanced_subsample, criterion=entropy, max_depth=7, max_features=auto, min_samples_split=10, n_estimators=150, total=   1.9s\n",
      "[CV] class_weight=balanced_subsample, criterion=entropy, max_depth=7, max_features=auto, min_samples_split=10, n_estimators=150 \n",
      "[CV]  class_weight=balanced_subsample, criterion=entropy, max_depth=7, max_features=auto, min_samples_split=10, n_estimators=150, total=   0.9s\n",
      "[CV] class_weight=balanced_subsample, criterion=entropy, max_depth=7, max_features=auto, min_samples_split=10, n_estimators=150 \n",
      "[CV]  class_weight=balanced_subsample, criterion=entropy, max_depth=7, max_features=auto, min_samples_split=10, n_estimators=150, total=   1.3s\n",
      "[CV] class_weight=balanced_subsample, criterion=entropy, max_depth=7, max_features=auto, min_samples_split=10, n_estimators=150 \n",
      "[CV]  class_weight=balanced_subsample, criterion=entropy, max_depth=7, max_features=auto, min_samples_split=10, n_estimators=150, total=   1.4s\n",
      "[CV] class_weight=balanced_subsample, criterion=entropy, max_depth=7, max_features=auto, min_samples_split=10, n_estimators=150 \n",
      "[CV]  class_weight=balanced_subsample, criterion=entropy, max_depth=7, max_features=auto, min_samples_split=10, n_estimators=150, total=   1.4s\n",
      "[CV] class_weight=balanced_subsample, criterion=entropy, max_depth=7, max_features=auto, min_samples_split=10, n_estimators=200 \n",
      "[CV]  class_weight=balanced_subsample, criterion=entropy, max_depth=7, max_features=auto, min_samples_split=10, n_estimators=200, total=   2.2s\n",
      "[CV] class_weight=balanced_subsample, criterion=entropy, max_depth=7, max_features=auto, min_samples_split=10, n_estimators=200 \n",
      "[CV]  class_weight=balanced_subsample, criterion=entropy, max_depth=7, max_features=auto, min_samples_split=10, n_estimators=200, total=   1.9s\n",
      "[CV] class_weight=balanced_subsample, criterion=entropy, max_depth=7, max_features=auto, min_samples_split=10, n_estimators=200 \n",
      "[CV]  class_weight=balanced_subsample, criterion=entropy, max_depth=7, max_features=auto, min_samples_split=10, n_estimators=200, total=   1.9s\n",
      "[CV] class_weight=balanced_subsample, criterion=entropy, max_depth=7, max_features=auto, min_samples_split=10, n_estimators=200 \n",
      "[CV]  class_weight=balanced_subsample, criterion=entropy, max_depth=7, max_features=auto, min_samples_split=10, n_estimators=200, total=   1.8s\n",
      "[CV] class_weight=balanced_subsample, criterion=entropy, max_depth=7, max_features=auto, min_samples_split=10, n_estimators=200 \n",
      "[CV]  class_weight=balanced_subsample, criterion=entropy, max_depth=7, max_features=auto, min_samples_split=10, n_estimators=200, total=   1.9s\n",
      "[CV] class_weight=balanced_subsample, criterion=entropy, max_depth=7, max_features=auto, min_samples_split=10, n_estimators=300 \n",
      "[CV]  class_weight=balanced_subsample, criterion=entropy, max_depth=7, max_features=auto, min_samples_split=10, n_estimators=300, total=   2.9s\n",
      "[CV] class_weight=balanced_subsample, criterion=entropy, max_depth=7, max_features=auto, min_samples_split=10, n_estimators=300 \n",
      "[CV]  class_weight=balanced_subsample, criterion=entropy, max_depth=7, max_features=auto, min_samples_split=10, n_estimators=300, total=   3.0s\n",
      "[CV] class_weight=balanced_subsample, criterion=entropy, max_depth=7, max_features=auto, min_samples_split=10, n_estimators=300 \n"
     ]
    },
    {
     "name": "stdout",
     "output_type": "stream",
     "text": [
      "[CV]  class_weight=balanced_subsample, criterion=entropy, max_depth=7, max_features=auto, min_samples_split=10, n_estimators=300, total=   2.7s\n",
      "[CV] class_weight=balanced_subsample, criterion=entropy, max_depth=7, max_features=auto, min_samples_split=10, n_estimators=300 \n",
      "[CV]  class_weight=balanced_subsample, criterion=entropy, max_depth=7, max_features=auto, min_samples_split=10, n_estimators=300, total=   2.9s\n",
      "[CV] class_weight=balanced_subsample, criterion=entropy, max_depth=7, max_features=auto, min_samples_split=10, n_estimators=300 \n",
      "[CV]  class_weight=balanced_subsample, criterion=entropy, max_depth=7, max_features=auto, min_samples_split=10, n_estimators=300, total=   2.8s\n",
      "[CV] class_weight=balanced_subsample, criterion=entropy, max_depth=10, max_features=auto, min_samples_split=20, n_estimators=150 \n",
      "[CV]  class_weight=balanced_subsample, criterion=entropy, max_depth=10, max_features=auto, min_samples_split=20, n_estimators=150, total=   1.4s\n",
      "[CV] class_weight=balanced_subsample, criterion=entropy, max_depth=10, max_features=auto, min_samples_split=20, n_estimators=150 \n",
      "[CV]  class_weight=balanced_subsample, criterion=entropy, max_depth=10, max_features=auto, min_samples_split=20, n_estimators=150, total=   1.4s\n",
      "[CV] class_weight=balanced_subsample, criterion=entropy, max_depth=10, max_features=auto, min_samples_split=20, n_estimators=150 \n",
      "[CV]  class_weight=balanced_subsample, criterion=entropy, max_depth=10, max_features=auto, min_samples_split=20, n_estimators=150, total=   1.3s\n",
      "[CV] class_weight=balanced_subsample, criterion=entropy, max_depth=10, max_features=auto, min_samples_split=20, n_estimators=150 \n",
      "[CV]  class_weight=balanced_subsample, criterion=entropy, max_depth=10, max_features=auto, min_samples_split=20, n_estimators=150, total=   1.5s\n",
      "[CV] class_weight=balanced_subsample, criterion=entropy, max_depth=10, max_features=auto, min_samples_split=20, n_estimators=150 \n",
      "[CV]  class_weight=balanced_subsample, criterion=entropy, max_depth=10, max_features=auto, min_samples_split=20, n_estimators=150, total=   1.4s\n",
      "[CV] class_weight=balanced_subsample, criterion=entropy, max_depth=10, max_features=auto, min_samples_split=20, n_estimators=200 \n",
      "[CV]  class_weight=balanced_subsample, criterion=entropy, max_depth=10, max_features=auto, min_samples_split=20, n_estimators=200, total=   1.9s\n",
      "[CV] class_weight=balanced_subsample, criterion=entropy, max_depth=10, max_features=auto, min_samples_split=20, n_estimators=200 \n",
      "[CV]  class_weight=balanced_subsample, criterion=entropy, max_depth=10, max_features=auto, min_samples_split=20, n_estimators=200, total=   1.9s\n",
      "[CV] class_weight=balanced_subsample, criterion=entropy, max_depth=10, max_features=auto, min_samples_split=20, n_estimators=200 \n",
      "[CV]  class_weight=balanced_subsample, criterion=entropy, max_depth=10, max_features=auto, min_samples_split=20, n_estimators=200, total=   1.9s\n",
      "[CV] class_weight=balanced_subsample, criterion=entropy, max_depth=10, max_features=auto, min_samples_split=20, n_estimators=200 \n",
      "[CV]  class_weight=balanced_subsample, criterion=entropy, max_depth=10, max_features=auto, min_samples_split=20, n_estimators=200, total=   2.0s\n",
      "[CV] class_weight=balanced_subsample, criterion=entropy, max_depth=10, max_features=auto, min_samples_split=20, n_estimators=200 \n",
      "[CV]  class_weight=balanced_subsample, criterion=entropy, max_depth=10, max_features=auto, min_samples_split=20, n_estimators=200, total=   1.9s\n",
      "[CV] class_weight=balanced_subsample, criterion=entropy, max_depth=10, max_features=auto, min_samples_split=20, n_estimators=300 \n",
      "[CV]  class_weight=balanced_subsample, criterion=entropy, max_depth=10, max_features=auto, min_samples_split=20, n_estimators=300, total=   2.9s\n",
      "[CV] class_weight=balanced_subsample, criterion=entropy, max_depth=10, max_features=auto, min_samples_split=20, n_estimators=300 \n",
      "[CV]  class_weight=balanced_subsample, criterion=entropy, max_depth=10, max_features=auto, min_samples_split=20, n_estimators=300, total=   3.1s\n",
      "[CV] class_weight=balanced_subsample, criterion=entropy, max_depth=10, max_features=auto, min_samples_split=20, n_estimators=300 \n",
      "[CV]  class_weight=balanced_subsample, criterion=entropy, max_depth=10, max_features=auto, min_samples_split=20, n_estimators=300, total=   3.0s\n",
      "[CV] class_weight=balanced_subsample, criterion=entropy, max_depth=10, max_features=auto, min_samples_split=20, n_estimators=300 \n",
      "[CV]  class_weight=balanced_subsample, criterion=entropy, max_depth=10, max_features=auto, min_samples_split=20, n_estimators=300, total=   3.0s\n",
      "[CV] class_weight=balanced_subsample, criterion=entropy, max_depth=10, max_features=auto, min_samples_split=20, n_estimators=300 \n",
      "[CV]  class_weight=balanced_subsample, criterion=entropy, max_depth=10, max_features=auto, min_samples_split=20, n_estimators=300, total=   2.9s\n",
      "[CV] class_weight=balanced_subsample, criterion=entropy, max_depth=10, max_features=auto, min_samples_split=15, n_estimators=150 \n",
      "[CV]  class_weight=balanced_subsample, criterion=entropy, max_depth=10, max_features=auto, min_samples_split=15, n_estimators=150, total=   1.5s\n",
      "[CV] class_weight=balanced_subsample, criterion=entropy, max_depth=10, max_features=auto, min_samples_split=15, n_estimators=150 \n",
      "[CV]  class_weight=balanced_subsample, criterion=entropy, max_depth=10, max_features=auto, min_samples_split=15, n_estimators=150, total=   1.4s\n",
      "[CV] class_weight=balanced_subsample, criterion=entropy, max_depth=10, max_features=auto, min_samples_split=15, n_estimators=150 \n",
      "[CV]  class_weight=balanced_subsample, criterion=entropy, max_depth=10, max_features=auto, min_samples_split=15, n_estimators=150, total=   1.4s\n",
      "[CV] class_weight=balanced_subsample, criterion=entropy, max_depth=10, max_features=auto, min_samples_split=15, n_estimators=150 \n",
      "[CV]  class_weight=balanced_subsample, criterion=entropy, max_depth=10, max_features=auto, min_samples_split=15, n_estimators=150, total=   1.5s\n",
      "[CV] class_weight=balanced_subsample, criterion=entropy, max_depth=10, max_features=auto, min_samples_split=15, n_estimators=150 \n",
      "[CV]  class_weight=balanced_subsample, criterion=entropy, max_depth=10, max_features=auto, min_samples_split=15, n_estimators=150, total=   1.4s\n",
      "[CV] class_weight=balanced_subsample, criterion=entropy, max_depth=10, max_features=auto, min_samples_split=15, n_estimators=200 \n",
      "[CV]  class_weight=balanced_subsample, criterion=entropy, max_depth=10, max_features=auto, min_samples_split=15, n_estimators=200, total=   1.9s\n",
      "[CV] class_weight=balanced_subsample, criterion=entropy, max_depth=10, max_features=auto, min_samples_split=15, n_estimators=200 \n",
      "[CV]  class_weight=balanced_subsample, criterion=entropy, max_depth=10, max_features=auto, min_samples_split=15, n_estimators=200, total=   2.1s\n",
      "[CV] class_weight=balanced_subsample, criterion=entropy, max_depth=10, max_features=auto, min_samples_split=15, n_estimators=200 \n",
      "[CV]  class_weight=balanced_subsample, criterion=entropy, max_depth=10, max_features=auto, min_samples_split=15, n_estimators=200, total=   1.9s\n",
      "[CV] class_weight=balanced_subsample, criterion=entropy, max_depth=10, max_features=auto, min_samples_split=15, n_estimators=200 \n",
      "[CV]  class_weight=balanced_subsample, criterion=entropy, max_depth=10, max_features=auto, min_samples_split=15, n_estimators=200, total=   1.9s\n",
      "[CV] class_weight=balanced_subsample, criterion=entropy, max_depth=10, max_features=auto, min_samples_split=15, n_estimators=200 \n",
      "[CV]  class_weight=balanced_subsample, criterion=entropy, max_depth=10, max_features=auto, min_samples_split=15, n_estimators=200, total=   1.6s\n",
      "[CV] class_weight=balanced_subsample, criterion=entropy, max_depth=10, max_features=auto, min_samples_split=15, n_estimators=300 \n",
      "[CV]  class_weight=balanced_subsample, criterion=entropy, max_depth=10, max_features=auto, min_samples_split=15, n_estimators=300, total=   3.0s\n",
      "[CV] class_weight=balanced_subsample, criterion=entropy, max_depth=10, max_features=auto, min_samples_split=15, n_estimators=300 \n",
      "[CV]  class_weight=balanced_subsample, criterion=entropy, max_depth=10, max_features=auto, min_samples_split=15, n_estimators=300, total=   2.9s\n",
      "[CV] class_weight=balanced_subsample, criterion=entropy, max_depth=10, max_features=auto, min_samples_split=15, n_estimators=300 \n"
     ]
    },
    {
     "name": "stdout",
     "output_type": "stream",
     "text": [
      "[CV]  class_weight=balanced_subsample, criterion=entropy, max_depth=10, max_features=auto, min_samples_split=15, n_estimators=300, total=   3.0s\n",
      "[CV] class_weight=balanced_subsample, criterion=entropy, max_depth=10, max_features=auto, min_samples_split=15, n_estimators=300 \n",
      "[CV]  class_weight=balanced_subsample, criterion=entropy, max_depth=10, max_features=auto, min_samples_split=15, n_estimators=300, total=   3.1s\n",
      "[CV] class_weight=balanced_subsample, criterion=entropy, max_depth=10, max_features=auto, min_samples_split=15, n_estimators=300 \n",
      "[CV]  class_weight=balanced_subsample, criterion=entropy, max_depth=10, max_features=auto, min_samples_split=15, n_estimators=300, total=   2.8s\n",
      "[CV] class_weight=balanced_subsample, criterion=entropy, max_depth=10, max_features=auto, min_samples_split=10, n_estimators=150 \n",
      "[CV]  class_weight=balanced_subsample, criterion=entropy, max_depth=10, max_features=auto, min_samples_split=10, n_estimators=150, total=   0.6s\n",
      "[CV] class_weight=balanced_subsample, criterion=entropy, max_depth=10, max_features=auto, min_samples_split=10, n_estimators=150 \n",
      "[CV]  class_weight=balanced_subsample, criterion=entropy, max_depth=10, max_features=auto, min_samples_split=10, n_estimators=150, total=   0.6s\n",
      "[CV] class_weight=balanced_subsample, criterion=entropy, max_depth=10, max_features=auto, min_samples_split=10, n_estimators=150 \n",
      "[CV]  class_weight=balanced_subsample, criterion=entropy, max_depth=10, max_features=auto, min_samples_split=10, n_estimators=150, total=   0.5s\n",
      "[CV] class_weight=balanced_subsample, criterion=entropy, max_depth=10, max_features=auto, min_samples_split=10, n_estimators=150 \n",
      "[CV]  class_weight=balanced_subsample, criterion=entropy, max_depth=10, max_features=auto, min_samples_split=10, n_estimators=150, total=   0.3s\n",
      "[CV] class_weight=balanced_subsample, criterion=entropy, max_depth=10, max_features=auto, min_samples_split=10, n_estimators=150 \n",
      "[CV]  class_weight=balanced_subsample, criterion=entropy, max_depth=10, max_features=auto, min_samples_split=10, n_estimators=150, total=   1.7s\n",
      "[CV] class_weight=balanced_subsample, criterion=entropy, max_depth=10, max_features=auto, min_samples_split=10, n_estimators=200 \n",
      "[CV]  class_weight=balanced_subsample, criterion=entropy, max_depth=10, max_features=auto, min_samples_split=10, n_estimators=200, total=   2.2s\n",
      "[CV] class_weight=balanced_subsample, criterion=entropy, max_depth=10, max_features=auto, min_samples_split=10, n_estimators=200 \n",
      "[CV]  class_weight=balanced_subsample, criterion=entropy, max_depth=10, max_features=auto, min_samples_split=10, n_estimators=200, total=   1.5s\n",
      "[CV] class_weight=balanced_subsample, criterion=entropy, max_depth=10, max_features=auto, min_samples_split=10, n_estimators=200 \n",
      "[CV]  class_weight=balanced_subsample, criterion=entropy, max_depth=10, max_features=auto, min_samples_split=10, n_estimators=200, total=   1.9s\n",
      "[CV] class_weight=balanced_subsample, criterion=entropy, max_depth=10, max_features=auto, min_samples_split=10, n_estimators=200 \n",
      "[CV]  class_weight=balanced_subsample, criterion=entropy, max_depth=10, max_features=auto, min_samples_split=10, n_estimators=200, total=   2.8s\n",
      "[CV] class_weight=balanced_subsample, criterion=entropy, max_depth=10, max_features=auto, min_samples_split=10, n_estimators=200 \n",
      "[CV]  class_weight=balanced_subsample, criterion=entropy, max_depth=10, max_features=auto, min_samples_split=10, n_estimators=200, total=   1.4s\n",
      "[CV] class_weight=balanced_subsample, criterion=entropy, max_depth=10, max_features=auto, min_samples_split=10, n_estimators=300 \n",
      "[CV]  class_weight=balanced_subsample, criterion=entropy, max_depth=10, max_features=auto, min_samples_split=10, n_estimators=300, total=   1.7s\n",
      "[CV] class_weight=balanced_subsample, criterion=entropy, max_depth=10, max_features=auto, min_samples_split=10, n_estimators=300 \n",
      "[CV]  class_weight=balanced_subsample, criterion=entropy, max_depth=10, max_features=auto, min_samples_split=10, n_estimators=300, total=   2.9s\n",
      "[CV] class_weight=balanced_subsample, criterion=entropy, max_depth=10, max_features=auto, min_samples_split=10, n_estimators=300 \n",
      "[CV]  class_weight=balanced_subsample, criterion=entropy, max_depth=10, max_features=auto, min_samples_split=10, n_estimators=300, total=   3.2s\n",
      "[CV] class_weight=balanced_subsample, criterion=entropy, max_depth=10, max_features=auto, min_samples_split=10, n_estimators=300 \n",
      "[CV]  class_weight=balanced_subsample, criterion=entropy, max_depth=10, max_features=auto, min_samples_split=10, n_estimators=300, total=   2.9s\n",
      "[CV] class_weight=balanced_subsample, criterion=entropy, max_depth=10, max_features=auto, min_samples_split=10, n_estimators=300 \n",
      "[CV]  class_weight=balanced_subsample, criterion=entropy, max_depth=10, max_features=auto, min_samples_split=10, n_estimators=300, total=   3.2s\n",
      "[CV] class_weight=balanced_subsample, criterion=entropy, max_depth=14, max_features=auto, min_samples_split=20, n_estimators=150 \n",
      "[CV]  class_weight=balanced_subsample, criterion=entropy, max_depth=14, max_features=auto, min_samples_split=20, n_estimators=150, total=   1.4s\n",
      "[CV] class_weight=balanced_subsample, criterion=entropy, max_depth=14, max_features=auto, min_samples_split=20, n_estimators=150 \n",
      "[CV]  class_weight=balanced_subsample, criterion=entropy, max_depth=14, max_features=auto, min_samples_split=20, n_estimators=150, total=   1.5s\n",
      "[CV] class_weight=balanced_subsample, criterion=entropy, max_depth=14, max_features=auto, min_samples_split=20, n_estimators=150 \n",
      "[CV]  class_weight=balanced_subsample, criterion=entropy, max_depth=14, max_features=auto, min_samples_split=20, n_estimators=150, total=   1.4s\n",
      "[CV] class_weight=balanced_subsample, criterion=entropy, max_depth=14, max_features=auto, min_samples_split=20, n_estimators=150 \n",
      "[CV]  class_weight=balanced_subsample, criterion=entropy, max_depth=14, max_features=auto, min_samples_split=20, n_estimators=150, total=   1.4s\n",
      "[CV] class_weight=balanced_subsample, criterion=entropy, max_depth=14, max_features=auto, min_samples_split=20, n_estimators=150 \n",
      "[CV]  class_weight=balanced_subsample, criterion=entropy, max_depth=14, max_features=auto, min_samples_split=20, n_estimators=150, total=   1.5s\n",
      "[CV] class_weight=balanced_subsample, criterion=entropy, max_depth=14, max_features=auto, min_samples_split=20, n_estimators=200 \n",
      "[CV]  class_weight=balanced_subsample, criterion=entropy, max_depth=14, max_features=auto, min_samples_split=20, n_estimators=200, total=   1.9s\n",
      "[CV] class_weight=balanced_subsample, criterion=entropy, max_depth=14, max_features=auto, min_samples_split=20, n_estimators=200 \n",
      "[CV]  class_weight=balanced_subsample, criterion=entropy, max_depth=14, max_features=auto, min_samples_split=20, n_estimators=200, total=   1.9s\n",
      "[CV] class_weight=balanced_subsample, criterion=entropy, max_depth=14, max_features=auto, min_samples_split=20, n_estimators=200 \n",
      "[CV]  class_weight=balanced_subsample, criterion=entropy, max_depth=14, max_features=auto, min_samples_split=20, n_estimators=200, total=   1.8s\n",
      "[CV] class_weight=balanced_subsample, criterion=entropy, max_depth=14, max_features=auto, min_samples_split=20, n_estimators=200 \n",
      "[CV]  class_weight=balanced_subsample, criterion=entropy, max_depth=14, max_features=auto, min_samples_split=20, n_estimators=200, total=   2.1s\n",
      "[CV] class_weight=balanced_subsample, criterion=entropy, max_depth=14, max_features=auto, min_samples_split=20, n_estimators=200 \n",
      "[CV]  class_weight=balanced_subsample, criterion=entropy, max_depth=14, max_features=auto, min_samples_split=20, n_estimators=200, total=   2.0s\n",
      "[CV] class_weight=balanced_subsample, criterion=entropy, max_depth=14, max_features=auto, min_samples_split=20, n_estimators=300 \n",
      "[CV]  class_weight=balanced_subsample, criterion=entropy, max_depth=14, max_features=auto, min_samples_split=20, n_estimators=300, total=   2.9s\n",
      "[CV] class_weight=balanced_subsample, criterion=entropy, max_depth=14, max_features=auto, min_samples_split=20, n_estimators=300 \n",
      "[CV]  class_weight=balanced_subsample, criterion=entropy, max_depth=14, max_features=auto, min_samples_split=20, n_estimators=300, total=   3.1s\n",
      "[CV] class_weight=balanced_subsample, criterion=entropy, max_depth=14, max_features=auto, min_samples_split=20, n_estimators=300 \n"
     ]
    },
    {
     "name": "stdout",
     "output_type": "stream",
     "text": [
      "[CV]  class_weight=balanced_subsample, criterion=entropy, max_depth=14, max_features=auto, min_samples_split=20, n_estimators=300, total=   3.1s\n",
      "[CV] class_weight=balanced_subsample, criterion=entropy, max_depth=14, max_features=auto, min_samples_split=20, n_estimators=300 \n",
      "[CV]  class_weight=balanced_subsample, criterion=entropy, max_depth=14, max_features=auto, min_samples_split=20, n_estimators=300, total=   3.0s\n",
      "[CV] class_weight=balanced_subsample, criterion=entropy, max_depth=14, max_features=auto, min_samples_split=20, n_estimators=300 \n",
      "[CV]  class_weight=balanced_subsample, criterion=entropy, max_depth=14, max_features=auto, min_samples_split=20, n_estimators=300, total=   3.1s\n",
      "[CV] class_weight=balanced_subsample, criterion=entropy, max_depth=14, max_features=auto, min_samples_split=15, n_estimators=150 \n",
      "[CV]  class_weight=balanced_subsample, criterion=entropy, max_depth=14, max_features=auto, min_samples_split=15, n_estimators=150, total=   1.4s\n",
      "[CV] class_weight=balanced_subsample, criterion=entropy, max_depth=14, max_features=auto, min_samples_split=15, n_estimators=150 \n",
      "[CV]  class_weight=balanced_subsample, criterion=entropy, max_depth=14, max_features=auto, min_samples_split=15, n_estimators=150, total=   1.5s\n",
      "[CV] class_weight=balanced_subsample, criterion=entropy, max_depth=14, max_features=auto, min_samples_split=15, n_estimators=150 \n",
      "[CV]  class_weight=balanced_subsample, criterion=entropy, max_depth=14, max_features=auto, min_samples_split=15, n_estimators=150, total=   1.4s\n",
      "[CV] class_weight=balanced_subsample, criterion=entropy, max_depth=14, max_features=auto, min_samples_split=15, n_estimators=150 \n",
      "[CV]  class_weight=balanced_subsample, criterion=entropy, max_depth=14, max_features=auto, min_samples_split=15, n_estimators=150, total=   1.5s\n",
      "[CV] class_weight=balanced_subsample, criterion=entropy, max_depth=14, max_features=auto, min_samples_split=15, n_estimators=150 \n",
      "[CV]  class_weight=balanced_subsample, criterion=entropy, max_depth=14, max_features=auto, min_samples_split=15, n_estimators=150, total=   1.5s\n",
      "[CV] class_weight=balanced_subsample, criterion=entropy, max_depth=14, max_features=auto, min_samples_split=15, n_estimators=200 \n",
      "[CV]  class_weight=balanced_subsample, criterion=entropy, max_depth=14, max_features=auto, min_samples_split=15, n_estimators=200, total=   1.9s\n",
      "[CV] class_weight=balanced_subsample, criterion=entropy, max_depth=14, max_features=auto, min_samples_split=15, n_estimators=200 \n",
      "[CV]  class_weight=balanced_subsample, criterion=entropy, max_depth=14, max_features=auto, min_samples_split=15, n_estimators=200, total=   2.1s\n",
      "[CV] class_weight=balanced_subsample, criterion=entropy, max_depth=14, max_features=auto, min_samples_split=15, n_estimators=200 \n",
      "[CV]  class_weight=balanced_subsample, criterion=entropy, max_depth=14, max_features=auto, min_samples_split=15, n_estimators=200, total=   2.1s\n",
      "[CV] class_weight=balanced_subsample, criterion=entropy, max_depth=14, max_features=auto, min_samples_split=15, n_estimators=200 \n",
      "[CV]  class_weight=balanced_subsample, criterion=entropy, max_depth=14, max_features=auto, min_samples_split=15, n_estimators=200, total=   2.0s\n",
      "[CV] class_weight=balanced_subsample, criterion=entropy, max_depth=14, max_features=auto, min_samples_split=15, n_estimators=200 \n",
      "[CV]  class_weight=balanced_subsample, criterion=entropy, max_depth=14, max_features=auto, min_samples_split=15, n_estimators=200, total=   2.1s\n",
      "[CV] class_weight=balanced_subsample, criterion=entropy, max_depth=14, max_features=auto, min_samples_split=15, n_estimators=300 \n",
      "[CV]  class_weight=balanced_subsample, criterion=entropy, max_depth=14, max_features=auto, min_samples_split=15, n_estimators=300, total=   3.0s\n",
      "[CV] class_weight=balanced_subsample, criterion=entropy, max_depth=14, max_features=auto, min_samples_split=15, n_estimators=300 \n",
      "[CV]  class_weight=balanced_subsample, criterion=entropy, max_depth=14, max_features=auto, min_samples_split=15, n_estimators=300, total=   2.9s\n",
      "[CV] class_weight=balanced_subsample, criterion=entropy, max_depth=14, max_features=auto, min_samples_split=15, n_estimators=300 \n",
      "[CV]  class_weight=balanced_subsample, criterion=entropy, max_depth=14, max_features=auto, min_samples_split=15, n_estimators=300, total=   3.1s\n",
      "[CV] class_weight=balanced_subsample, criterion=entropy, max_depth=14, max_features=auto, min_samples_split=15, n_estimators=300 \n",
      "[CV]  class_weight=balanced_subsample, criterion=entropy, max_depth=14, max_features=auto, min_samples_split=15, n_estimators=300, total=   3.0s\n",
      "[CV] class_weight=balanced_subsample, criterion=entropy, max_depth=14, max_features=auto, min_samples_split=15, n_estimators=300 \n",
      "[CV]  class_weight=balanced_subsample, criterion=entropy, max_depth=14, max_features=auto, min_samples_split=15, n_estimators=300, total=   3.0s\n",
      "[CV] class_weight=balanced_subsample, criterion=entropy, max_depth=14, max_features=auto, min_samples_split=10, n_estimators=150 \n",
      "[CV]  class_weight=balanced_subsample, criterion=entropy, max_depth=14, max_features=auto, min_samples_split=10, n_estimators=150, total=   1.5s\n",
      "[CV] class_weight=balanced_subsample, criterion=entropy, max_depth=14, max_features=auto, min_samples_split=10, n_estimators=150 \n",
      "[CV]  class_weight=balanced_subsample, criterion=entropy, max_depth=14, max_features=auto, min_samples_split=10, n_estimators=150, total=   1.6s\n",
      "[CV] class_weight=balanced_subsample, criterion=entropy, max_depth=14, max_features=auto, min_samples_split=10, n_estimators=150 \n",
      "[CV]  class_weight=balanced_subsample, criterion=entropy, max_depth=14, max_features=auto, min_samples_split=10, n_estimators=150, total=   1.5s\n",
      "[CV] class_weight=balanced_subsample, criterion=entropy, max_depth=14, max_features=auto, min_samples_split=10, n_estimators=150 \n",
      "[CV]  class_weight=balanced_subsample, criterion=entropy, max_depth=14, max_features=auto, min_samples_split=10, n_estimators=150, total=   1.5s\n",
      "[CV] class_weight=balanced_subsample, criterion=entropy, max_depth=14, max_features=auto, min_samples_split=10, n_estimators=150 \n",
      "[CV]  class_weight=balanced_subsample, criterion=entropy, max_depth=14, max_features=auto, min_samples_split=10, n_estimators=150, total=   1.7s\n",
      "[CV] class_weight=balanced_subsample, criterion=entropy, max_depth=14, max_features=auto, min_samples_split=10, n_estimators=200 \n",
      "[CV]  class_weight=balanced_subsample, criterion=entropy, max_depth=14, max_features=auto, min_samples_split=10, n_estimators=200, total=   2.0s\n",
      "[CV] class_weight=balanced_subsample, criterion=entropy, max_depth=14, max_features=auto, min_samples_split=10, n_estimators=200 \n",
      "[CV]  class_weight=balanced_subsample, criterion=entropy, max_depth=14, max_features=auto, min_samples_split=10, n_estimators=200, total=   1.8s\n",
      "[CV] class_weight=balanced_subsample, criterion=entropy, max_depth=14, max_features=auto, min_samples_split=10, n_estimators=200 \n",
      "[CV]  class_weight=balanced_subsample, criterion=entropy, max_depth=14, max_features=auto, min_samples_split=10, n_estimators=200, total=   2.0s\n",
      "[CV] class_weight=balanced_subsample, criterion=entropy, max_depth=14, max_features=auto, min_samples_split=10, n_estimators=200 \n",
      "[CV]  class_weight=balanced_subsample, criterion=entropy, max_depth=14, max_features=auto, min_samples_split=10, n_estimators=200, total=   2.0s\n",
      "[CV] class_weight=balanced_subsample, criterion=entropy, max_depth=14, max_features=auto, min_samples_split=10, n_estimators=200 \n",
      "[CV]  class_weight=balanced_subsample, criterion=entropy, max_depth=14, max_features=auto, min_samples_split=10, n_estimators=200, total=   2.1s\n",
      "[CV] class_weight=balanced_subsample, criterion=entropy, max_depth=14, max_features=auto, min_samples_split=10, n_estimators=300 \n",
      "[CV]  class_weight=balanced_subsample, criterion=entropy, max_depth=14, max_features=auto, min_samples_split=10, n_estimators=300, total=   3.3s\n",
      "[CV] class_weight=balanced_subsample, criterion=entropy, max_depth=14, max_features=auto, min_samples_split=10, n_estimators=300 \n",
      "[CV]  class_weight=balanced_subsample, criterion=entropy, max_depth=14, max_features=auto, min_samples_split=10, n_estimators=300, total=   2.9s\n",
      "[CV] class_weight=balanced_subsample, criterion=entropy, max_depth=14, max_features=auto, min_samples_split=10, n_estimators=300 \n"
     ]
    },
    {
     "name": "stdout",
     "output_type": "stream",
     "text": [
      "[CV]  class_weight=balanced_subsample, criterion=entropy, max_depth=14, max_features=auto, min_samples_split=10, n_estimators=300, total=   3.5s\n",
      "[CV] class_weight=balanced_subsample, criterion=entropy, max_depth=14, max_features=auto, min_samples_split=10, n_estimators=300 \n",
      "[CV]  class_weight=balanced_subsample, criterion=entropy, max_depth=14, max_features=auto, min_samples_split=10, n_estimators=300, total=   2.6s\n",
      "[CV] class_weight=balanced_subsample, criterion=entropy, max_depth=14, max_features=auto, min_samples_split=10, n_estimators=300 \n",
      "[CV]  class_weight=balanced_subsample, criterion=entropy, max_depth=14, max_features=auto, min_samples_split=10, n_estimators=300, total=   3.1s\n"
     ]
    },
    {
     "name": "stderr",
     "output_type": "stream",
     "text": [
      "[Parallel(n_jobs=1)]: Done 900 out of 900 | elapsed: 28.0min finished\n"
     ]
    },
    {
     "data": {
      "text/plain": [
       "RandomForestClassifier(bootstrap=True, class_weight='balanced',\n",
       "            criterion='entropy', max_depth=7, max_features='auto',\n",
       "            max_leaf_nodes=None, min_impurity_decrease=0.0,\n",
       "            min_impurity_split=None, min_samples_leaf=1,\n",
       "            min_samples_split=15, min_weight_fraction_leaf=0.0,\n",
       "            n_estimators=150, n_jobs=1, oob_score=False, random_state=24,\n",
       "            verbose=0, warm_start=False)"
      ]
     },
     "execution_count": 70,
     "metadata": {},
     "output_type": "execute_result"
    }
   ],
   "source": [
    "# optimize our model now \n",
    "rf=RandomForestClassifier(random_state=24)\n",
    "params = {'criterion': ['gini','entropy'],\n",
    "            'max_features':['auto'],\n",
    "            'n_estimators':[150,200,300],\n",
    "            'max_depth':[3,5,7,10,14],\n",
    "            'class_weight':['balanced','balanced_subsample'],\n",
    "            'min_samples_split':[20,15,10]}\n",
    "            \n",
    "gsrf = GridSearchCV (rf, params,cv=KFold(5),verbose=2)\n",
    "gsrf.fit(X,y)\n",
    "gsrf.best_estimator_ "
   ]
  },
  {
   "cell_type": "code",
   "execution_count": 72,
   "metadata": {},
   "outputs": [
    {
     "data": {
      "text/plain": [
       "<matplotlib.axes._subplots.AxesSubplot at 0x6ded416470>"
      ]
     },
     "execution_count": 72,
     "metadata": {},
     "output_type": "execute_result"
    },
    {
     "data": {
      "image/png": "[encoded data removed]",
      "text/plain": [
       "<Figure size 432x288 with 1 Axes>"
      ]
     },
     "metadata": {
      "needs_background": "light"
     },
     "output_type": "display_data"
    }
   ],
   "source": [
    "# different numbers of estimators effect on random forest\n",
    "folds = StratifiedKFold(n_splits=5)\n",
    "x_axis, y_axis = [],[]\n",
    "for i in range(250,800,50):\n",
    "    rf = RandomForestClassifier(bootstrap=True,class_weight='balanced',\n",
    "                           criterion='entropy', max_depth=7, max_features='auto',\n",
    "                           max_leaf_nodes=None,\n",
    "                           min_impurity_decrease=0.0, min_impurity_split=None,\n",
    "                           min_samples_leaf=1, min_samples_split=15,\n",
    "                           min_weight_fraction_leaf=0.0, n_estimators=i,\n",
    "                           n_jobs=1, oob_score=False, random_state=24, verbose=0,\n",
    "                           warm_start=False)\n",
    "    \n",
    "    y_axis.append(np.mean(cross_val_score(rf, X, y, cv=folds,scoring='accuracy')))\n",
    "    x_axis.append(i)\n",
    "\n",
    "sns.lineplot(x=x_axis, y=y_axis)"
   ]
  },
  {
   "cell_type": "code",
   "execution_count": 73,
   "metadata": {},
   "outputs": [
    {
     "data": {
      "text/plain": [
       "<matplotlib.axes._subplots.AxesSubplot at 0x6df8eb3550>"
      ]
     },
     "execution_count": 73,
     "metadata": {},
     "output_type": "execute_result"
    },
    {
     "data": {
      "image/png": "[encoded data removed]",
      "text/plain": [
       "<Figure size 432x288 with 1 Axes>"
      ]
     },
     "metadata": {
      "needs_background": "light"
     },
     "output_type": "display_data"
    }
   ],
   "source": [
    "#effect of  different depth on RandomForest\n",
    "\n",
    "folds = StratifiedKFold(n_splits=5)\n",
    "x_axis, y_axis = [],[]\n",
    "for i in range(3,30,1):\n",
    "    #our model\n",
    "    rf = RandomForestClassifier(bootstrap=True,class_weight='balanced',\n",
    "                           criterion='entropy', max_depth=i, max_features='auto',\n",
    "                           max_leaf_nodes=None,\n",
    "                           min_impurity_decrease=0.0, min_impurity_split=None,\n",
    "                           min_samples_leaf=1, min_samples_split=15,\n",
    "                           min_weight_fraction_leaf=0.0, n_estimators=700,\n",
    "                           n_jobs=1, oob_score=False, random_state=24, verbose=0,\n",
    "                           warm_start=False)\n",
    "    # add score for plotting\n",
    "    y_axis.append(np.mean(cross_val_score(rf, X, y, cv=folds,scoring='accuracy')))\n",
    "    x_axis.append(i)\n",
    "\n",
    "sns.lineplot(x=x_axis, y=y_axis)"
   ]
  },
  {
   "cell_type": "code",
   "execution_count": 75,
   "metadata": {},
   "outputs": [],
   "source": [
    "# finalizing our random forest \n",
    "rf = RandomForestClassifier(bootstrap=True,\n",
    "                       class_weight='balanced_subsample', criterion='gini',\n",
    "                       max_depth=9, max_features=0.2, min_samples_leaf=4,\n",
    "                       min_samples_split=15,n_estimators=700,\n",
    "                       random_state=24, verbose=0)"
   ]
  },
  {
   "cell_type": "code",
   "execution_count": 76,
   "metadata": {},
   "outputs": [
    {
     "data": {
      "text/plain": [
       "0.8748923004564787"
      ]
     },
     "execution_count": 76,
     "metadata": {},
     "output_type": "execute_result"
    }
   ],
   "source": [
    "np.mean(cross_val_score(rf,X,y,cv=folds,scoring='accuracy'))"
   ]
  },
  {
   "cell_type": "code",
   "execution_count": 77,
   "metadata": {},
   "outputs": [
    {
     "data": {
      "text/plain": [
       "RandomForestClassifier(bootstrap=True, class_weight='balanced_subsample',\n",
       "            criterion='gini', max_depth=9, max_features=0.2,\n",
       "            max_leaf_nodes=None, min_impurity_decrease=0.0,\n",
       "            min_impurity_split=None, min_samples_leaf=4,\n",
       "            min_samples_split=15, min_weight_fraction_leaf=0.0,\n",
       "            n_estimators=700, n_jobs=1, oob_score=False, random_state=24,\n",
       "            verbose=0, warm_start=False)"
      ]
     },
     "execution_count": 77,
     "metadata": {},
     "output_type": "execute_result"
    }
   ],
   "source": [
    "rf.fit(X,y)"
   ]
  },
  {
   "cell_type": "code",
   "execution_count": 78,
   "metadata": {},
   "outputs": [],
   "source": [
    "y_hat=rf.predict(X_final)"
   ]
  },
  {
   "cell_type": "code",
   "execution_count": 80,
   "metadata": {},
   "outputs": [
    {
     "data": {
      "text/html": [
       "<div>\n",
       "<style scoped>\n",
       "    .dataframe tbody tr th:only-of-type {\n",
       "        vertical-align: middle;\n",
       "    }\n",
       "\n",
       "    .dataframe tbody tr th {\n",
       "        vertical-align: top;\n",
       "    }\n",
       "\n",
       "    .dataframe thead th {\n",
       "        text-align: right;\n",
       "    }\n",
       "</style>\n",
       "<table border=\"1\" class=\"dataframe\">\n",
       "  <thead>\n",
       "    <tr style=\"text-align: right;\">\n",
       "      <th></th>\n",
       "      <th>PassengerId</th>\n",
       "      <th>Survived</th>\n",
       "    </tr>\n",
       "  </thead>\n",
       "  <tbody>\n",
       "    <tr>\n",
       "      <th>0</th>\n",
       "      <td>892</td>\n",
       "      <td>0</td>\n",
       "    </tr>\n",
       "    <tr>\n",
       "      <th>1</th>\n",
       "      <td>893</td>\n",
       "      <td>1</td>\n",
       "    </tr>\n",
       "    <tr>\n",
       "      <th>2</th>\n",
       "      <td>894</td>\n",
       "      <td>0</td>\n",
       "    </tr>\n",
       "    <tr>\n",
       "      <th>3</th>\n",
       "      <td>895</td>\n",
       "      <td>0</td>\n",
       "    </tr>\n",
       "    <tr>\n",
       "      <th>4</th>\n",
       "      <td>896</td>\n",
       "      <td>1</td>\n",
       "    </tr>\n",
       "    <tr>\n",
       "      <th>5</th>\n",
       "      <td>897</td>\n",
       "      <td>0</td>\n",
       "    </tr>\n",
       "    <tr>\n",
       "      <th>6</th>\n",
       "      <td>898</td>\n",
       "      <td>1</td>\n",
       "    </tr>\n",
       "    <tr>\n",
       "      <th>7</th>\n",
       "      <td>899</td>\n",
       "      <td>1</td>\n",
       "    </tr>\n",
       "    <tr>\n",
       "      <th>8</th>\n",
       "      <td>900</td>\n",
       "      <td>1</td>\n",
       "    </tr>\n",
       "    <tr>\n",
       "      <th>9</th>\n",
       "      <td>901</td>\n",
       "      <td>0</td>\n",
       "    </tr>\n",
       "    <tr>\n",
       "      <th>10</th>\n",
       "      <td>902</td>\n",
       "      <td>0</td>\n",
       "    </tr>\n",
       "    <tr>\n",
       "      <th>11</th>\n",
       "      <td>903</td>\n",
       "      <td>0</td>\n",
       "    </tr>\n",
       "    <tr>\n",
       "      <th>12</th>\n",
       "      <td>904</td>\n",
       "      <td>1</td>\n",
       "    </tr>\n",
       "    <tr>\n",
       "      <th>13</th>\n",
       "      <td>905</td>\n",
       "      <td>0</td>\n",
       "    </tr>\n",
       "    <tr>\n",
       "      <th>14</th>\n",
       "      <td>906</td>\n",
       "      <td>1</td>\n",
       "    </tr>\n",
       "    <tr>\n",
       "      <th>15</th>\n",
       "      <td>907</td>\n",
       "      <td>1</td>\n",
       "    </tr>\n",
       "    <tr>\n",
       "      <th>16</th>\n",
       "      <td>908</td>\n",
       "      <td>0</td>\n",
       "    </tr>\n",
       "    <tr>\n",
       "      <th>17</th>\n",
       "      <td>909</td>\n",
       "      <td>0</td>\n",
       "    </tr>\n",
       "    <tr>\n",
       "      <th>18</th>\n",
       "      <td>910</td>\n",
       "      <td>1</td>\n",
       "    </tr>\n",
       "    <tr>\n",
       "      <th>19</th>\n",
       "      <td>911</td>\n",
       "      <td>1</td>\n",
       "    </tr>\n",
       "    <tr>\n",
       "      <th>20</th>\n",
       "      <td>912</td>\n",
       "      <td>0</td>\n",
       "    </tr>\n",
       "    <tr>\n",
       "      <th>21</th>\n",
       "      <td>913</td>\n",
       "      <td>1</td>\n",
       "    </tr>\n",
       "    <tr>\n",
       "      <th>22</th>\n",
       "      <td>914</td>\n",
       "      <td>1</td>\n",
       "    </tr>\n",
       "    <tr>\n",
       "      <th>23</th>\n",
       "      <td>915</td>\n",
       "      <td>0</td>\n",
       "    </tr>\n",
       "    <tr>\n",
       "      <th>24</th>\n",
       "      <td>916</td>\n",
       "      <td>1</td>\n",
       "    </tr>\n",
       "    <tr>\n",
       "      <th>25</th>\n",
       "      <td>917</td>\n",
       "      <td>0</td>\n",
       "    </tr>\n",
       "    <tr>\n",
       "      <th>26</th>\n",
       "      <td>918</td>\n",
       "      <td>1</td>\n",
       "    </tr>\n",
       "    <tr>\n",
       "      <th>27</th>\n",
       "      <td>919</td>\n",
       "      <td>0</td>\n",
       "    </tr>\n",
       "    <tr>\n",
       "      <th>28</th>\n",
       "      <td>920</td>\n",
       "      <td>0</td>\n",
       "    </tr>\n",
       "    <tr>\n",
       "      <th>29</th>\n",
       "      <td>921</td>\n",
       "      <td>0</td>\n",
       "    </tr>\n",
       "    <tr>\n",
       "      <th>...</th>\n",
       "      <td>...</td>\n",
       "      <td>...</td>\n",
       "    </tr>\n",
       "    <tr>\n",
       "      <th>388</th>\n",
       "      <td>1280</td>\n",
       "      <td>0</td>\n",
       "    </tr>\n",
       "    <tr>\n",
       "      <th>389</th>\n",
       "      <td>1281</td>\n",
       "      <td>0</td>\n",
       "    </tr>\n",
       "    <tr>\n",
       "      <th>390</th>\n",
       "      <td>1282</td>\n",
       "      <td>1</td>\n",
       "    </tr>\n",
       "    <tr>\n",
       "      <th>391</th>\n",
       "      <td>1283</td>\n",
       "      <td>1</td>\n",
       "    </tr>\n",
       "    <tr>\n",
       "      <th>392</th>\n",
       "      <td>1284</td>\n",
       "      <td>1</td>\n",
       "    </tr>\n",
       "    <tr>\n",
       "      <th>393</th>\n",
       "      <td>1285</td>\n",
       "      <td>0</td>\n",
       "    </tr>\n",
       "    <tr>\n",
       "      <th>394</th>\n",
       "      <td>1286</td>\n",
       "      <td>0</td>\n",
       "    </tr>\n",
       "    <tr>\n",
       "      <th>395</th>\n",
       "      <td>1287</td>\n",
       "      <td>1</td>\n",
       "    </tr>\n",
       "    <tr>\n",
       "      <th>396</th>\n",
       "      <td>1288</td>\n",
       "      <td>0</td>\n",
       "    </tr>\n",
       "    <tr>\n",
       "      <th>397</th>\n",
       "      <td>1289</td>\n",
       "      <td>1</td>\n",
       "    </tr>\n",
       "    <tr>\n",
       "      <th>398</th>\n",
       "      <td>1290</td>\n",
       "      <td>0</td>\n",
       "    </tr>\n",
       "    <tr>\n",
       "      <th>399</th>\n",
       "      <td>1291</td>\n",
       "      <td>0</td>\n",
       "    </tr>\n",
       "    <tr>\n",
       "      <th>400</th>\n",
       "      <td>1292</td>\n",
       "      <td>1</td>\n",
       "    </tr>\n",
       "    <tr>\n",
       "      <th>401</th>\n",
       "      <td>1293</td>\n",
       "      <td>0</td>\n",
       "    </tr>\n",
       "    <tr>\n",
       "      <th>402</th>\n",
       "      <td>1294</td>\n",
       "      <td>1</td>\n",
       "    </tr>\n",
       "    <tr>\n",
       "      <th>403</th>\n",
       "      <td>1295</td>\n",
       "      <td>0</td>\n",
       "    </tr>\n",
       "    <tr>\n",
       "      <th>404</th>\n",
       "      <td>1296</td>\n",
       "      <td>0</td>\n",
       "    </tr>\n",
       "    <tr>\n",
       "      <th>405</th>\n",
       "      <td>1297</td>\n",
       "      <td>0</td>\n",
       "    </tr>\n",
       "    <tr>\n",
       "      <th>406</th>\n",
       "      <td>1298</td>\n",
       "      <td>0</td>\n",
       "    </tr>\n",
       "    <tr>\n",
       "      <th>407</th>\n",
       "      <td>1299</td>\n",
       "      <td>0</td>\n",
       "    </tr>\n",
       "    <tr>\n",
       "      <th>408</th>\n",
       "      <td>1300</td>\n",
       "      <td>1</td>\n",
       "    </tr>\n",
       "    <tr>\n",
       "      <th>409</th>\n",
       "      <td>1301</td>\n",
       "      <td>1</td>\n",
       "    </tr>\n",
       "    <tr>\n",
       "      <th>410</th>\n",
       "      <td>1302</td>\n",
       "      <td>1</td>\n",
       "    </tr>\n",
       "    <tr>\n",
       "      <th>411</th>\n",
       "      <td>1303</td>\n",
       "      <td>1</td>\n",
       "    </tr>\n",
       "    <tr>\n",
       "      <th>412</th>\n",
       "      <td>1304</td>\n",
       "      <td>1</td>\n",
       "    </tr>\n",
       "    <tr>\n",
       "      <th>413</th>\n",
       "      <td>1305</td>\n",
       "      <td>0</td>\n",
       "    </tr>\n",
       "    <tr>\n",
       "      <th>414</th>\n",
       "      <td>1306</td>\n",
       "      <td>1</td>\n",
       "    </tr>\n",
       "    <tr>\n",
       "      <th>415</th>\n",
       "      <td>1307</td>\n",
       "      <td>0</td>\n",
       "    </tr>\n",
       "    <tr>\n",
       "      <th>416</th>\n",
       "      <td>1308</td>\n",
       "      <td>0</td>\n",
       "    </tr>\n",
       "    <tr>\n",
       "      <th>417</th>\n",
       "      <td>1309</td>\n",
       "      <td>1</td>\n",
       "    </tr>\n",
       "  </tbody>\n",
       "</table>\n",
       "<p>418 rows × 2 columns</p>\n",
       "</div>"
      ],
      "text/plain": [
       "     PassengerId  Survived\n",
       "0            892         0\n",
       "1            893         1\n",
       "2            894         0\n",
       "3            895         0\n",
       "4            896         1\n",
       "5            897         0\n",
       "6            898         1\n",
       "7            899         1\n",
       "8            900         1\n",
       "9            901         0\n",
       "10           902         0\n",
       "11           903         0\n",
       "12           904         1\n",
       "13           905         0\n",
       "14           906         1\n",
       "15           907         1\n",
       "16           908         0\n",
       "17           909         0\n",
       "18           910         1\n",
       "19           911         1\n",
       "20           912         0\n",
       "21           913         1\n",
       "22           914         1\n",
       "23           915         0\n",
       "24           916         1\n",
       "25           917         0\n",
       "26           918         1\n",
       "27           919         0\n",
       "28           920         0\n",
       "29           921         0\n",
       "..           ...       ...\n",
       "388         1280         0\n",
       "389         1281         0\n",
       "390         1282         1\n",
       "391         1283         1\n",
       "392         1284         1\n",
       "393         1285         0\n",
       "394         1286         0\n",
       "395         1287         1\n",
       "396         1288         0\n",
       "397         1289         1\n",
       "398         1290         0\n",
       "399         1291         0\n",
       "400         1292         1\n",
       "401         1293         0\n",
       "402         1294         1\n",
       "403         1295         0\n",
       "404         1296         0\n",
       "405         1297         0\n",
       "406         1298         0\n",
       "407         1299         0\n",
       "408         1300         1\n",
       "409         1301         1\n",
       "410         1302         1\n",
       "411         1303         1\n",
       "412         1304         1\n",
       "413         1305         0\n",
       "414         1306         1\n",
       "415         1307         0\n",
       "416         1308         0\n",
       "417         1309         1\n",
       "\n",
       "[418 rows x 2 columns]"
      ]
     },
     "execution_count": 80,
     "metadata": {},
     "output_type": "execute_result"
    }
   ],
   "source": [
    "final_predictions = pd.DataFrame ({\"PassengerId\" : IDs,\n",
    "                                  \"Survived\": y_hat})\n",
    "final_predictions"
   ]
  },
  {
   "cell_type": "markdown",
   "metadata": {},
   "source": [
    "reference: https://www.kaggle.com/baghlafturki/titanic-survivors-prediction/notebook"
   ]
  },
  {
   "cell_type": "markdown",
   "metadata": {},
   "source": [
    "End"
   ]
  },
  {
   "cell_type": "code",
   "execution_count": null,
   "metadata": {},
   "outputs": [],
   "source": []
  }
 ],
 "metadata": {
  "kernelspec": {
   "display_name": "Python 3",
   "language": "python",
   "name": "python3"
  },
  "language_info": {
   "codemirror_mode": {
    "name": "ipython",
    "version": 3
   },
   "file_extension": ".py",
   "mimetype": "text/x-python",
   "name": "python",
   "nbconvert_exporter": "python",
   "pygments_lexer": "ipython3",
   "version": "3.7.0"
  }
 },
 "nbformat": 4,
 "nbformat_minor": 2
}
